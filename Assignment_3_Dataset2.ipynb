{
 "cells": [
  {
   "cell_type": "code",
   "execution_count": 10,
   "metadata": {},
   "outputs": [
    {
     "data": {
      "text/html": [
       "        <script type=\"text/javascript\">\n",
       "        window.PlotlyConfig = {MathJaxConfig: 'local'};\n",
       "        if (window.MathJax) {MathJax.Hub.Config({SVG: {font: \"STIX-Web\"}});}\n",
       "        if (typeof require !== 'undefined') {\n",
       "        require.undef(\"plotly\");\n",
       "        requirejs.config({\n",
       "            paths: {\n",
       "                'plotly': ['https://cdn.plot.ly/plotly-latest.min']\n",
       "            }\n",
       "        });\n",
       "        require(['plotly'], function(Plotly) {\n",
       "            window._Plotly = Plotly;\n",
       "        });\n",
       "        }\n",
       "        </script>\n",
       "        "
      ]
     },
     "metadata": {},
     "output_type": "display_data"
    }
   ],
   "source": [
    "import numpy as np\n",
    "import pandas as pd\n",
    "import matplotlib.pyplot as plt\n",
    "import seaborn as sns\n",
    "from sklearn.model_selection import train_test_split\n",
    "from sklearn.preprocessing import StandardScaler \n",
    "from sklearn import preprocessing, model_selection, metrics\n",
    "\n",
    "import chart_studio.plotly as py\n",
    "from plotly.offline import init_notebook_mode, iplot\n",
    "init_notebook_mode(connected=True)\n",
    "import plotly.graph_objs as go\n",
    "from sklearn.model_selection import GridSearchCV \n",
    "from sklearn.svm import SVC \n",
    "from sklearn.metrics import classification_report, confusion_matrix \n",
    "from sklearn.metrics import confusion_matrix, precision_score, recall_score, f1_score, cohen_kappa_score\n",
    "from sklearn import preprocessing  \n",
    "from sklearn.tree import export_graphviz\n",
    "from sklearn import datasets, utils, tree\n",
    "from sklearn.tree import export_graphviz \n",
    "from sklearn.externals.six import StringIO  \n",
    "from IPython.display import Image  \n",
    "import pydotplus\n",
    "from IPython import display\n",
    "from graphviz import Source\n",
    "from scipy import stats\n",
    "from sklearn.model_selection import RandomizedSearchCV\n",
    "from sklearn.metrics import roc_curve\n",
    "from sklearn.metrics import roc_auc_score\n",
    "import random\n",
    "import warnings\n",
    "%matplotlib inline\n",
    "warnings.filterwarnings('ignore')"
   ]
  },
  {
   "cell_type": "code",
   "execution_count": 11,
   "metadata": {},
   "outputs": [],
   "source": [
    "np.random.seed(32)\n",
    "random.seed(2)"
   ]
  },
  {
   "cell_type": "code",
   "execution_count": 12,
   "metadata": {},
   "outputs": [
    {
     "data": {
      "text/html": [
       "<div>\n",
       "<style scoped>\n",
       "    .dataframe tbody tr th:only-of-type {\n",
       "        vertical-align: middle;\n",
       "    }\n",
       "\n",
       "    .dataframe tbody tr th {\n",
       "        vertical-align: top;\n",
       "    }\n",
       "\n",
       "    .dataframe thead th {\n",
       "        text-align: right;\n",
       "    }\n",
       "</style>\n",
       "<table border=\"1\" class=\"dataframe\">\n",
       "  <thead>\n",
       "    <tr style=\"text-align: right;\">\n",
       "      <th></th>\n",
       "      <th>Date</th>\n",
       "      <th>Location</th>\n",
       "      <th>MinTemp</th>\n",
       "      <th>MaxTemp</th>\n",
       "      <th>Rainfall</th>\n",
       "      <th>Evaporation</th>\n",
       "      <th>Sunshine</th>\n",
       "      <th>WindGustDir</th>\n",
       "      <th>WindGustSpeed</th>\n",
       "      <th>WindDir9am</th>\n",
       "      <th>...</th>\n",
       "      <th>Humidity3pm</th>\n",
       "      <th>Pressure9am</th>\n",
       "      <th>Pressure3pm</th>\n",
       "      <th>Cloud9am</th>\n",
       "      <th>Cloud3pm</th>\n",
       "      <th>Temp9am</th>\n",
       "      <th>Temp3pm</th>\n",
       "      <th>RainToday</th>\n",
       "      <th>RISK_MM</th>\n",
       "      <th>RainTomorrow</th>\n",
       "    </tr>\n",
       "  </thead>\n",
       "  <tbody>\n",
       "    <tr>\n",
       "      <td>0</td>\n",
       "      <td>2008-12-01</td>\n",
       "      <td>Albury</td>\n",
       "      <td>13.4</td>\n",
       "      <td>22.9</td>\n",
       "      <td>0.6</td>\n",
       "      <td>NaN</td>\n",
       "      <td>NaN</td>\n",
       "      <td>W</td>\n",
       "      <td>44.0</td>\n",
       "      <td>W</td>\n",
       "      <td>...</td>\n",
       "      <td>22.0</td>\n",
       "      <td>1007.7</td>\n",
       "      <td>1007.1</td>\n",
       "      <td>8.0</td>\n",
       "      <td>NaN</td>\n",
       "      <td>16.9</td>\n",
       "      <td>21.8</td>\n",
       "      <td>No</td>\n",
       "      <td>0.0</td>\n",
       "      <td>No</td>\n",
       "    </tr>\n",
       "    <tr>\n",
       "      <td>1</td>\n",
       "      <td>2008-12-02</td>\n",
       "      <td>Albury</td>\n",
       "      <td>7.4</td>\n",
       "      <td>25.1</td>\n",
       "      <td>0.0</td>\n",
       "      <td>NaN</td>\n",
       "      <td>NaN</td>\n",
       "      <td>WNW</td>\n",
       "      <td>44.0</td>\n",
       "      <td>NNW</td>\n",
       "      <td>...</td>\n",
       "      <td>25.0</td>\n",
       "      <td>1010.6</td>\n",
       "      <td>1007.8</td>\n",
       "      <td>NaN</td>\n",
       "      <td>NaN</td>\n",
       "      <td>17.2</td>\n",
       "      <td>24.3</td>\n",
       "      <td>No</td>\n",
       "      <td>0.0</td>\n",
       "      <td>No</td>\n",
       "    </tr>\n",
       "    <tr>\n",
       "      <td>2</td>\n",
       "      <td>2008-12-03</td>\n",
       "      <td>Albury</td>\n",
       "      <td>12.9</td>\n",
       "      <td>25.7</td>\n",
       "      <td>0.0</td>\n",
       "      <td>NaN</td>\n",
       "      <td>NaN</td>\n",
       "      <td>WSW</td>\n",
       "      <td>46.0</td>\n",
       "      <td>W</td>\n",
       "      <td>...</td>\n",
       "      <td>30.0</td>\n",
       "      <td>1007.6</td>\n",
       "      <td>1008.7</td>\n",
       "      <td>NaN</td>\n",
       "      <td>2.0</td>\n",
       "      <td>21.0</td>\n",
       "      <td>23.2</td>\n",
       "      <td>No</td>\n",
       "      <td>0.0</td>\n",
       "      <td>No</td>\n",
       "    </tr>\n",
       "    <tr>\n",
       "      <td>3</td>\n",
       "      <td>2008-12-04</td>\n",
       "      <td>Albury</td>\n",
       "      <td>9.2</td>\n",
       "      <td>28.0</td>\n",
       "      <td>0.0</td>\n",
       "      <td>NaN</td>\n",
       "      <td>NaN</td>\n",
       "      <td>NE</td>\n",
       "      <td>24.0</td>\n",
       "      <td>SE</td>\n",
       "      <td>...</td>\n",
       "      <td>16.0</td>\n",
       "      <td>1017.6</td>\n",
       "      <td>1012.8</td>\n",
       "      <td>NaN</td>\n",
       "      <td>NaN</td>\n",
       "      <td>18.1</td>\n",
       "      <td>26.5</td>\n",
       "      <td>No</td>\n",
       "      <td>1.0</td>\n",
       "      <td>No</td>\n",
       "    </tr>\n",
       "    <tr>\n",
       "      <td>4</td>\n",
       "      <td>2008-12-05</td>\n",
       "      <td>Albury</td>\n",
       "      <td>17.5</td>\n",
       "      <td>32.3</td>\n",
       "      <td>1.0</td>\n",
       "      <td>NaN</td>\n",
       "      <td>NaN</td>\n",
       "      <td>W</td>\n",
       "      <td>41.0</td>\n",
       "      <td>ENE</td>\n",
       "      <td>...</td>\n",
       "      <td>33.0</td>\n",
       "      <td>1010.8</td>\n",
       "      <td>1006.0</td>\n",
       "      <td>7.0</td>\n",
       "      <td>8.0</td>\n",
       "      <td>17.8</td>\n",
       "      <td>29.7</td>\n",
       "      <td>No</td>\n",
       "      <td>0.2</td>\n",
       "      <td>No</td>\n",
       "    </tr>\n",
       "    <tr>\n",
       "      <td>...</td>\n",
       "      <td>...</td>\n",
       "      <td>...</td>\n",
       "      <td>...</td>\n",
       "      <td>...</td>\n",
       "      <td>...</td>\n",
       "      <td>...</td>\n",
       "      <td>...</td>\n",
       "      <td>...</td>\n",
       "      <td>...</td>\n",
       "      <td>...</td>\n",
       "      <td>...</td>\n",
       "      <td>...</td>\n",
       "      <td>...</td>\n",
       "      <td>...</td>\n",
       "      <td>...</td>\n",
       "      <td>...</td>\n",
       "      <td>...</td>\n",
       "      <td>...</td>\n",
       "      <td>...</td>\n",
       "      <td>...</td>\n",
       "      <td>...</td>\n",
       "    </tr>\n",
       "    <tr>\n",
       "      <td>142188</td>\n",
       "      <td>2017-06-20</td>\n",
       "      <td>Uluru</td>\n",
       "      <td>3.5</td>\n",
       "      <td>21.8</td>\n",
       "      <td>0.0</td>\n",
       "      <td>NaN</td>\n",
       "      <td>NaN</td>\n",
       "      <td>E</td>\n",
       "      <td>31.0</td>\n",
       "      <td>ESE</td>\n",
       "      <td>...</td>\n",
       "      <td>27.0</td>\n",
       "      <td>1024.7</td>\n",
       "      <td>1021.2</td>\n",
       "      <td>NaN</td>\n",
       "      <td>NaN</td>\n",
       "      <td>9.4</td>\n",
       "      <td>20.9</td>\n",
       "      <td>No</td>\n",
       "      <td>0.0</td>\n",
       "      <td>No</td>\n",
       "    </tr>\n",
       "    <tr>\n",
       "      <td>142189</td>\n",
       "      <td>2017-06-21</td>\n",
       "      <td>Uluru</td>\n",
       "      <td>2.8</td>\n",
       "      <td>23.4</td>\n",
       "      <td>0.0</td>\n",
       "      <td>NaN</td>\n",
       "      <td>NaN</td>\n",
       "      <td>E</td>\n",
       "      <td>31.0</td>\n",
       "      <td>SE</td>\n",
       "      <td>...</td>\n",
       "      <td>24.0</td>\n",
       "      <td>1024.6</td>\n",
       "      <td>1020.3</td>\n",
       "      <td>NaN</td>\n",
       "      <td>NaN</td>\n",
       "      <td>10.1</td>\n",
       "      <td>22.4</td>\n",
       "      <td>No</td>\n",
       "      <td>0.0</td>\n",
       "      <td>No</td>\n",
       "    </tr>\n",
       "    <tr>\n",
       "      <td>142190</td>\n",
       "      <td>2017-06-22</td>\n",
       "      <td>Uluru</td>\n",
       "      <td>3.6</td>\n",
       "      <td>25.3</td>\n",
       "      <td>0.0</td>\n",
       "      <td>NaN</td>\n",
       "      <td>NaN</td>\n",
       "      <td>NNW</td>\n",
       "      <td>22.0</td>\n",
       "      <td>SE</td>\n",
       "      <td>...</td>\n",
       "      <td>21.0</td>\n",
       "      <td>1023.5</td>\n",
       "      <td>1019.1</td>\n",
       "      <td>NaN</td>\n",
       "      <td>NaN</td>\n",
       "      <td>10.9</td>\n",
       "      <td>24.5</td>\n",
       "      <td>No</td>\n",
       "      <td>0.0</td>\n",
       "      <td>No</td>\n",
       "    </tr>\n",
       "    <tr>\n",
       "      <td>142191</td>\n",
       "      <td>2017-06-23</td>\n",
       "      <td>Uluru</td>\n",
       "      <td>5.4</td>\n",
       "      <td>26.9</td>\n",
       "      <td>0.0</td>\n",
       "      <td>NaN</td>\n",
       "      <td>NaN</td>\n",
       "      <td>N</td>\n",
       "      <td>37.0</td>\n",
       "      <td>SE</td>\n",
       "      <td>...</td>\n",
       "      <td>24.0</td>\n",
       "      <td>1021.0</td>\n",
       "      <td>1016.8</td>\n",
       "      <td>NaN</td>\n",
       "      <td>NaN</td>\n",
       "      <td>12.5</td>\n",
       "      <td>26.1</td>\n",
       "      <td>No</td>\n",
       "      <td>0.0</td>\n",
       "      <td>No</td>\n",
       "    </tr>\n",
       "    <tr>\n",
       "      <td>142192</td>\n",
       "      <td>2017-06-24</td>\n",
       "      <td>Uluru</td>\n",
       "      <td>7.8</td>\n",
       "      <td>27.0</td>\n",
       "      <td>0.0</td>\n",
       "      <td>NaN</td>\n",
       "      <td>NaN</td>\n",
       "      <td>SE</td>\n",
       "      <td>28.0</td>\n",
       "      <td>SSE</td>\n",
       "      <td>...</td>\n",
       "      <td>24.0</td>\n",
       "      <td>1019.4</td>\n",
       "      <td>1016.5</td>\n",
       "      <td>3.0</td>\n",
       "      <td>2.0</td>\n",
       "      <td>15.1</td>\n",
       "      <td>26.0</td>\n",
       "      <td>No</td>\n",
       "      <td>0.0</td>\n",
       "      <td>No</td>\n",
       "    </tr>\n",
       "  </tbody>\n",
       "</table>\n",
       "<p>142193 rows × 24 columns</p>\n",
       "</div>"
      ],
      "text/plain": [
       "             Date Location  MinTemp  MaxTemp  Rainfall  Evaporation  Sunshine  \\\n",
       "0      2008-12-01   Albury     13.4     22.9       0.6          NaN       NaN   \n",
       "1      2008-12-02   Albury      7.4     25.1       0.0          NaN       NaN   \n",
       "2      2008-12-03   Albury     12.9     25.7       0.0          NaN       NaN   \n",
       "3      2008-12-04   Albury      9.2     28.0       0.0          NaN       NaN   \n",
       "4      2008-12-05   Albury     17.5     32.3       1.0          NaN       NaN   \n",
       "...           ...      ...      ...      ...       ...          ...       ...   \n",
       "142188 2017-06-20    Uluru      3.5     21.8       0.0          NaN       NaN   \n",
       "142189 2017-06-21    Uluru      2.8     23.4       0.0          NaN       NaN   \n",
       "142190 2017-06-22    Uluru      3.6     25.3       0.0          NaN       NaN   \n",
       "142191 2017-06-23    Uluru      5.4     26.9       0.0          NaN       NaN   \n",
       "142192 2017-06-24    Uluru      7.8     27.0       0.0          NaN       NaN   \n",
       "\n",
       "       WindGustDir  WindGustSpeed WindDir9am  ... Humidity3pm  Pressure9am  \\\n",
       "0                W           44.0          W  ...        22.0       1007.7   \n",
       "1              WNW           44.0        NNW  ...        25.0       1010.6   \n",
       "2              WSW           46.0          W  ...        30.0       1007.6   \n",
       "3               NE           24.0         SE  ...        16.0       1017.6   \n",
       "4                W           41.0        ENE  ...        33.0       1010.8   \n",
       "...            ...            ...        ...  ...         ...          ...   \n",
       "142188           E           31.0        ESE  ...        27.0       1024.7   \n",
       "142189           E           31.0         SE  ...        24.0       1024.6   \n",
       "142190         NNW           22.0         SE  ...        21.0       1023.5   \n",
       "142191           N           37.0         SE  ...        24.0       1021.0   \n",
       "142192          SE           28.0        SSE  ...        24.0       1019.4   \n",
       "\n",
       "        Pressure3pm  Cloud9am  Cloud3pm  Temp9am  Temp3pm  RainToday  RISK_MM  \\\n",
       "0            1007.1       8.0       NaN     16.9     21.8         No      0.0   \n",
       "1            1007.8       NaN       NaN     17.2     24.3         No      0.0   \n",
       "2            1008.7       NaN       2.0     21.0     23.2         No      0.0   \n",
       "3            1012.8       NaN       NaN     18.1     26.5         No      1.0   \n",
       "4            1006.0       7.0       8.0     17.8     29.7         No      0.2   \n",
       "...             ...       ...       ...      ...      ...        ...      ...   \n",
       "142188       1021.2       NaN       NaN      9.4     20.9         No      0.0   \n",
       "142189       1020.3       NaN       NaN     10.1     22.4         No      0.0   \n",
       "142190       1019.1       NaN       NaN     10.9     24.5         No      0.0   \n",
       "142191       1016.8       NaN       NaN     12.5     26.1         No      0.0   \n",
       "142192       1016.5       3.0       2.0     15.1     26.0         No      0.0   \n",
       "\n",
       "        RainTomorrow  \n",
       "0                 No  \n",
       "1                 No  \n",
       "2                 No  \n",
       "3                 No  \n",
       "4                 No  \n",
       "...              ...  \n",
       "142188            No  \n",
       "142189            No  \n",
       "142190            No  \n",
       "142191            No  \n",
       "142192            No  \n",
       "\n",
       "[142193 rows x 24 columns]"
      ]
     },
     "execution_count": 12,
     "metadata": {},
     "output_type": "execute_result"
    }
   ],
   "source": [
    "rain=pd.read_csv('weatherAUS.csv',parse_dates=['Date'])\n",
    "rain"
   ]
  },
  {
   "cell_type": "code",
   "execution_count": 13,
   "metadata": {},
   "outputs": [
    {
     "data": {
      "text/html": [
       "<div>\n",
       "<style scoped>\n",
       "    .dataframe tbody tr th:only-of-type {\n",
       "        vertical-align: middle;\n",
       "    }\n",
       "\n",
       "    .dataframe tbody tr th {\n",
       "        vertical-align: top;\n",
       "    }\n",
       "\n",
       "    .dataframe thead th {\n",
       "        text-align: right;\n",
       "    }\n",
       "</style>\n",
       "<table border=\"1\" class=\"dataframe\">\n",
       "  <thead>\n",
       "    <tr style=\"text-align: right;\">\n",
       "      <th></th>\n",
       "      <th>Total</th>\n",
       "      <th>Percent</th>\n",
       "    </tr>\n",
       "  </thead>\n",
       "  <tbody>\n",
       "    <tr>\n",
       "      <td>Sunshine</td>\n",
       "      <td>67816</td>\n",
       "      <td>0.476929</td>\n",
       "    </tr>\n",
       "    <tr>\n",
       "      <td>Evaporation</td>\n",
       "      <td>60843</td>\n",
       "      <td>0.427890</td>\n",
       "    </tr>\n",
       "    <tr>\n",
       "      <td>Cloud3pm</td>\n",
       "      <td>57094</td>\n",
       "      <td>0.401525</td>\n",
       "    </tr>\n",
       "    <tr>\n",
       "      <td>Cloud9am</td>\n",
       "      <td>53657</td>\n",
       "      <td>0.377353</td>\n",
       "    </tr>\n",
       "    <tr>\n",
       "      <td>Pressure9am</td>\n",
       "      <td>14014</td>\n",
       "      <td>0.098556</td>\n",
       "    </tr>\n",
       "    <tr>\n",
       "      <td>Pressure3pm</td>\n",
       "      <td>13981</td>\n",
       "      <td>0.098324</td>\n",
       "    </tr>\n",
       "    <tr>\n",
       "      <td>WindDir9am</td>\n",
       "      <td>10013</td>\n",
       "      <td>0.070418</td>\n",
       "    </tr>\n",
       "    <tr>\n",
       "      <td>WindGustDir</td>\n",
       "      <td>9330</td>\n",
       "      <td>0.065615</td>\n",
       "    </tr>\n",
       "    <tr>\n",
       "      <td>WindGustSpeed</td>\n",
       "      <td>9270</td>\n",
       "      <td>0.065193</td>\n",
       "    </tr>\n",
       "    <tr>\n",
       "      <td>WindDir3pm</td>\n",
       "      <td>3778</td>\n",
       "      <td>0.026570</td>\n",
       "    </tr>\n",
       "  </tbody>\n",
       "</table>\n",
       "</div>"
      ],
      "text/plain": [
       "               Total   Percent\n",
       "Sunshine       67816  0.476929\n",
       "Evaporation    60843  0.427890\n",
       "Cloud3pm       57094  0.401525\n",
       "Cloud9am       53657  0.377353\n",
       "Pressure9am    14014  0.098556\n",
       "Pressure3pm    13981  0.098324\n",
       "WindDir9am     10013  0.070418\n",
       "WindGustDir     9330  0.065615\n",
       "WindGustSpeed   9270  0.065193\n",
       "WindDir3pm      3778  0.026570"
      ]
     },
     "execution_count": 13,
     "metadata": {},
     "output_type": "execute_result"
    }
   ],
   "source": [
    "#Finding total missing data and it's percent \n",
    "total = rain.isnull().sum().sort_values(ascending=False)\n",
    "percent = (rain.isnull().sum()/rain.isnull().count()).sort_values(ascending=False)\n",
    "missing_data = pd.concat([total, percent], axis=1, keys=['Total', 'Percent'])\n",
    "missing_data.head(10)"
   ]
  },
  {
   "cell_type": "code",
   "execution_count": 14,
   "metadata": {},
   "outputs": [
    {
     "data": {
      "text/plain": [
       "(112925, 19)"
      ]
     },
     "execution_count": 14,
     "metadata": {},
     "output_type": "execute_result"
    }
   ],
   "source": [
    "#Dropping Column with high NULL Values\n",
    "rain = rain.drop(columns=['Sunshine','Evaporation','Cloud3pm','Cloud9am',\"RISK_MM\"],axis=1)\n",
    "\n",
    "#Dropping If any NA values are present, drop that row or column\n",
    "rain = rain.dropna(how='any')\n",
    "rain.shape"
   ]
  },
  {
   "cell_type": "code",
   "execution_count": 22,
   "metadata": {},
   "outputs": [
    {
     "name": "stdout",
     "output_type": "stream",
     "text": [
      "[[0.11756741 0.10822071 0.20666127 ... 1.14245477 0.08843526 0.04787026]\n",
      " [0.84180219 0.20684494 0.27640495 ... 1.04184813 0.04122846 0.31776848]\n",
      " [0.03761995 0.29277194 0.27640495 ... 0.91249673 0.55672435 0.15688743]\n",
      " ...\n",
      " [1.44940294 0.23548728 0.27640495 ... 0.58223051 1.03257127 0.34701958]\n",
      " [1.16159206 0.46462594 0.27640495 ... 0.25166583 0.78080166 0.58102838]\n",
      " [0.77784422 0.4789471  0.27640495 ... 0.2085487  0.37167606 0.56640283]]\n",
      "(107868, 19)\n"
     ]
    }
   ],
   "source": [
    "z = np.abs(stats.zscore(rain._get_numeric_data()))\n",
    "print(z)\n",
    "rain= rain[(z < 3).all(axis=1)]\n",
    "print(rain.shape)"
   ]
  },
  {
   "cell_type": "code",
   "execution_count": 23,
   "metadata": {},
   "outputs": [],
   "source": [
    "rain['RainToday'].replace({'No': 0, 'Yes': 1},inplace = True)\n",
    "rain['RainTomorrow'].replace({'No': 0, 'Yes': 1},inplace = True)\n"
   ]
  },
  {
   "cell_type": "code",
   "execution_count": 24,
   "metadata": {},
   "outputs": [
    {
     "name": "stdout",
     "output_type": "stream",
     "text": [
      "['E' 'ENE' 'ESE' 'N' 'NE' 'NNE' 'NNW' 'NW' 'S' 'SE' 'SSE' 'SSW' 'SW' 'W'\n",
      " 'WNW' 'WSW']\n",
      "['E' 'ENE' 'ESE' 'N' 'NE' 'NNE' 'NNW' 'NW' 'S' 'SE' 'SSE' 'SSW' 'SW' 'W'\n",
      " 'WNW' 'WSW']\n",
      "['E' 'ENE' 'ESE' 'N' 'NE' 'NNE' 'NNW' 'NW' 'S' 'SE' 'SSE' 'SSW' 'SW' 'W'\n",
      " 'WNW' 'WSW']\n"
     ]
    },
    {
     "data": {
      "text/html": [
       "<div>\n",
       "<style scoped>\n",
       "    .dataframe tbody tr th:only-of-type {\n",
       "        vertical-align: middle;\n",
       "    }\n",
       "\n",
       "    .dataframe tbody tr th {\n",
       "        vertical-align: top;\n",
       "    }\n",
       "\n",
       "    .dataframe thead th {\n",
       "        text-align: right;\n",
       "    }\n",
       "</style>\n",
       "<table border=\"1\" class=\"dataframe\">\n",
       "  <thead>\n",
       "    <tr style=\"text-align: right;\">\n",
       "      <th></th>\n",
       "      <th>Date</th>\n",
       "      <th>Location</th>\n",
       "      <th>MinTemp</th>\n",
       "      <th>MaxTemp</th>\n",
       "      <th>Rainfall</th>\n",
       "      <th>WindGustSpeed</th>\n",
       "      <th>WindSpeed9am</th>\n",
       "      <th>WindSpeed3pm</th>\n",
       "      <th>Humidity9am</th>\n",
       "      <th>Humidity3pm</th>\n",
       "      <th>...</th>\n",
       "      <th>WindDir9am_NNW</th>\n",
       "      <th>WindDir9am_NW</th>\n",
       "      <th>WindDir9am_S</th>\n",
       "      <th>WindDir9am_SE</th>\n",
       "      <th>WindDir9am_SSE</th>\n",
       "      <th>WindDir9am_SSW</th>\n",
       "      <th>WindDir9am_SW</th>\n",
       "      <th>WindDir9am_W</th>\n",
       "      <th>WindDir9am_WNW</th>\n",
       "      <th>WindDir9am_WSW</th>\n",
       "    </tr>\n",
       "  </thead>\n",
       "  <tbody>\n",
       "    <tr>\n",
       "      <td>0</td>\n",
       "      <td>2008-12-01</td>\n",
       "      <td>Albury</td>\n",
       "      <td>13.4</td>\n",
       "      <td>22.9</td>\n",
       "      <td>0.6</td>\n",
       "      <td>44.0</td>\n",
       "      <td>20.0</td>\n",
       "      <td>24.0</td>\n",
       "      <td>71.0</td>\n",
       "      <td>22.0</td>\n",
       "      <td>...</td>\n",
       "      <td>0</td>\n",
       "      <td>0</td>\n",
       "      <td>0</td>\n",
       "      <td>0</td>\n",
       "      <td>0</td>\n",
       "      <td>0</td>\n",
       "      <td>0</td>\n",
       "      <td>1</td>\n",
       "      <td>0</td>\n",
       "      <td>0</td>\n",
       "    </tr>\n",
       "    <tr>\n",
       "      <td>1</td>\n",
       "      <td>2008-12-02</td>\n",
       "      <td>Albury</td>\n",
       "      <td>7.4</td>\n",
       "      <td>25.1</td>\n",
       "      <td>0.0</td>\n",
       "      <td>44.0</td>\n",
       "      <td>4.0</td>\n",
       "      <td>22.0</td>\n",
       "      <td>44.0</td>\n",
       "      <td>25.0</td>\n",
       "      <td>...</td>\n",
       "      <td>1</td>\n",
       "      <td>0</td>\n",
       "      <td>0</td>\n",
       "      <td>0</td>\n",
       "      <td>0</td>\n",
       "      <td>0</td>\n",
       "      <td>0</td>\n",
       "      <td>0</td>\n",
       "      <td>0</td>\n",
       "      <td>0</td>\n",
       "    </tr>\n",
       "    <tr>\n",
       "      <td>2</td>\n",
       "      <td>2008-12-03</td>\n",
       "      <td>Albury</td>\n",
       "      <td>12.9</td>\n",
       "      <td>25.7</td>\n",
       "      <td>0.0</td>\n",
       "      <td>46.0</td>\n",
       "      <td>19.0</td>\n",
       "      <td>26.0</td>\n",
       "      <td>38.0</td>\n",
       "      <td>30.0</td>\n",
       "      <td>...</td>\n",
       "      <td>0</td>\n",
       "      <td>0</td>\n",
       "      <td>0</td>\n",
       "      <td>0</td>\n",
       "      <td>0</td>\n",
       "      <td>0</td>\n",
       "      <td>0</td>\n",
       "      <td>1</td>\n",
       "      <td>0</td>\n",
       "      <td>0</td>\n",
       "    </tr>\n",
       "    <tr>\n",
       "      <td>3</td>\n",
       "      <td>2008-12-04</td>\n",
       "      <td>Albury</td>\n",
       "      <td>9.2</td>\n",
       "      <td>28.0</td>\n",
       "      <td>0.0</td>\n",
       "      <td>24.0</td>\n",
       "      <td>11.0</td>\n",
       "      <td>9.0</td>\n",
       "      <td>45.0</td>\n",
       "      <td>16.0</td>\n",
       "      <td>...</td>\n",
       "      <td>0</td>\n",
       "      <td>0</td>\n",
       "      <td>0</td>\n",
       "      <td>1</td>\n",
       "      <td>0</td>\n",
       "      <td>0</td>\n",
       "      <td>0</td>\n",
       "      <td>0</td>\n",
       "      <td>0</td>\n",
       "      <td>0</td>\n",
       "    </tr>\n",
       "    <tr>\n",
       "      <td>4</td>\n",
       "      <td>2008-12-05</td>\n",
       "      <td>Albury</td>\n",
       "      <td>17.5</td>\n",
       "      <td>32.3</td>\n",
       "      <td>1.0</td>\n",
       "      <td>41.0</td>\n",
       "      <td>7.0</td>\n",
       "      <td>20.0</td>\n",
       "      <td>82.0</td>\n",
       "      <td>33.0</td>\n",
       "      <td>...</td>\n",
       "      <td>0</td>\n",
       "      <td>0</td>\n",
       "      <td>0</td>\n",
       "      <td>0</td>\n",
       "      <td>0</td>\n",
       "      <td>0</td>\n",
       "      <td>0</td>\n",
       "      <td>0</td>\n",
       "      <td>0</td>\n",
       "      <td>0</td>\n",
       "    </tr>\n",
       "    <tr>\n",
       "      <td>5</td>\n",
       "      <td>2008-12-06</td>\n",
       "      <td>Albury</td>\n",
       "      <td>14.6</td>\n",
       "      <td>29.7</td>\n",
       "      <td>0.2</td>\n",
       "      <td>56.0</td>\n",
       "      <td>19.0</td>\n",
       "      <td>24.0</td>\n",
       "      <td>55.0</td>\n",
       "      <td>23.0</td>\n",
       "      <td>...</td>\n",
       "      <td>0</td>\n",
       "      <td>0</td>\n",
       "      <td>0</td>\n",
       "      <td>0</td>\n",
       "      <td>0</td>\n",
       "      <td>0</td>\n",
       "      <td>0</td>\n",
       "      <td>1</td>\n",
       "      <td>0</td>\n",
       "      <td>0</td>\n",
       "    </tr>\n",
       "    <tr>\n",
       "      <td>6</td>\n",
       "      <td>2008-12-07</td>\n",
       "      <td>Albury</td>\n",
       "      <td>14.3</td>\n",
       "      <td>25.0</td>\n",
       "      <td>0.0</td>\n",
       "      <td>50.0</td>\n",
       "      <td>20.0</td>\n",
       "      <td>24.0</td>\n",
       "      <td>49.0</td>\n",
       "      <td>19.0</td>\n",
       "      <td>...</td>\n",
       "      <td>0</td>\n",
       "      <td>0</td>\n",
       "      <td>0</td>\n",
       "      <td>0</td>\n",
       "      <td>0</td>\n",
       "      <td>0</td>\n",
       "      <td>1</td>\n",
       "      <td>0</td>\n",
       "      <td>0</td>\n",
       "      <td>0</td>\n",
       "    </tr>\n",
       "    <tr>\n",
       "      <td>7</td>\n",
       "      <td>2008-12-08</td>\n",
       "      <td>Albury</td>\n",
       "      <td>7.7</td>\n",
       "      <td>26.7</td>\n",
       "      <td>0.0</td>\n",
       "      <td>35.0</td>\n",
       "      <td>6.0</td>\n",
       "      <td>17.0</td>\n",
       "      <td>48.0</td>\n",
       "      <td>19.0</td>\n",
       "      <td>...</td>\n",
       "      <td>0</td>\n",
       "      <td>0</td>\n",
       "      <td>0</td>\n",
       "      <td>0</td>\n",
       "      <td>1</td>\n",
       "      <td>0</td>\n",
       "      <td>0</td>\n",
       "      <td>0</td>\n",
       "      <td>0</td>\n",
       "      <td>0</td>\n",
       "    </tr>\n",
       "    <tr>\n",
       "      <td>8</td>\n",
       "      <td>2008-12-09</td>\n",
       "      <td>Albury</td>\n",
       "      <td>9.7</td>\n",
       "      <td>31.9</td>\n",
       "      <td>0.0</td>\n",
       "      <td>80.0</td>\n",
       "      <td>7.0</td>\n",
       "      <td>28.0</td>\n",
       "      <td>42.0</td>\n",
       "      <td>9.0</td>\n",
       "      <td>...</td>\n",
       "      <td>0</td>\n",
       "      <td>0</td>\n",
       "      <td>0</td>\n",
       "      <td>1</td>\n",
       "      <td>0</td>\n",
       "      <td>0</td>\n",
       "      <td>0</td>\n",
       "      <td>0</td>\n",
       "      <td>0</td>\n",
       "      <td>0</td>\n",
       "    </tr>\n",
       "  </tbody>\n",
       "</table>\n",
       "<p>9 rows × 64 columns</p>\n",
       "</div>"
      ],
      "text/plain": [
       "        Date Location  MinTemp  MaxTemp  Rainfall  WindGustSpeed  \\\n",
       "0 2008-12-01   Albury     13.4     22.9       0.6           44.0   \n",
       "1 2008-12-02   Albury      7.4     25.1       0.0           44.0   \n",
       "2 2008-12-03   Albury     12.9     25.7       0.0           46.0   \n",
       "3 2008-12-04   Albury      9.2     28.0       0.0           24.0   \n",
       "4 2008-12-05   Albury     17.5     32.3       1.0           41.0   \n",
       "5 2008-12-06   Albury     14.6     29.7       0.2           56.0   \n",
       "6 2008-12-07   Albury     14.3     25.0       0.0           50.0   \n",
       "7 2008-12-08   Albury      7.7     26.7       0.0           35.0   \n",
       "8 2008-12-09   Albury      9.7     31.9       0.0           80.0   \n",
       "\n",
       "   WindSpeed9am  WindSpeed3pm  Humidity9am  Humidity3pm  ...  WindDir9am_NNW  \\\n",
       "0          20.0          24.0         71.0         22.0  ...               0   \n",
       "1           4.0          22.0         44.0         25.0  ...               1   \n",
       "2          19.0          26.0         38.0         30.0  ...               0   \n",
       "3          11.0           9.0         45.0         16.0  ...               0   \n",
       "4           7.0          20.0         82.0         33.0  ...               0   \n",
       "5          19.0          24.0         55.0         23.0  ...               0   \n",
       "6          20.0          24.0         49.0         19.0  ...               0   \n",
       "7           6.0          17.0         48.0         19.0  ...               0   \n",
       "8           7.0          28.0         42.0          9.0  ...               0   \n",
       "\n",
       "   WindDir9am_NW  WindDir9am_S  WindDir9am_SE  WindDir9am_SSE  WindDir9am_SSW  \\\n",
       "0              0             0              0               0               0   \n",
       "1              0             0              0               0               0   \n",
       "2              0             0              0               0               0   \n",
       "3              0             0              1               0               0   \n",
       "4              0             0              0               0               0   \n",
       "5              0             0              0               0               0   \n",
       "6              0             0              0               0               0   \n",
       "7              0             0              0               1               0   \n",
       "8              0             0              1               0               0   \n",
       "\n",
       "   WindDir9am_SW  WindDir9am_W  WindDir9am_WNW  WindDir9am_WSW  \n",
       "0              0             1               0               0  \n",
       "1              0             0               0               0  \n",
       "2              0             1               0               0  \n",
       "3              0             0               0               0  \n",
       "4              0             0               0               0  \n",
       "5              0             1               0               0  \n",
       "6              1             0               0               0  \n",
       "7              0             0               0               0  \n",
       "8              0             0               0               0  \n",
       "\n",
       "[9 rows x 64 columns]"
      ]
     },
     "execution_count": 24,
     "metadata": {},
     "output_type": "execute_result"
    }
   ],
   "source": [
    "r=rain\n",
    "categorical_columns = ['WindGustDir', 'WindDir3pm', 'WindDir9am']\n",
    "for col in categorical_columns:\n",
    "    \n",
    "    print(np.unique(rain[col]))\n",
    "# transform the categorical columns\n",
    "r = pd.get_dummies(rain, columns=categorical_columns)\n",
    "r.iloc[0:9]"
   ]
  },
  {
   "cell_type": "code",
   "execution_count": 25,
   "metadata": {},
   "outputs": [
    {
     "data": {
      "text/plain": [
       "(107868, 62)"
      ]
     },
     "execution_count": 25,
     "metadata": {},
     "output_type": "execute_result"
    }
   ],
   "source": [
    "df=r.drop(columns=['Date','Location'],axis=1)\n",
    "df.shape"
   ]
  },
  {
   "cell_type": "code",
   "execution_count": 29,
   "metadata": {},
   "outputs": [],
   "source": [
    "#Scaling\n",
    "scaler = preprocessing.MinMaxScaler()\n",
    "scaler.fit(df)\n",
    "df = pd.DataFrame(scaler.transform(df), index=df.index, columns=df.columns)"
   ]
  },
  {
   "cell_type": "code",
   "execution_count": 30,
   "metadata": {},
   "outputs": [],
   "source": [
    "random.seed(32) \n",
    "df=df.sample(10000,random_state=99)"
   ]
  },
  {
   "cell_type": "code",
   "execution_count": 36,
   "metadata": {},
   "outputs": [
    {
     "data": {
      "text/html": [
       "<div>\n",
       "<style scoped>\n",
       "    .dataframe tbody tr th:only-of-type {\n",
       "        vertical-align: middle;\n",
       "    }\n",
       "\n",
       "    .dataframe tbody tr th {\n",
       "        vertical-align: top;\n",
       "    }\n",
       "\n",
       "    .dataframe thead th {\n",
       "        text-align: right;\n",
       "    }\n",
       "</style>\n",
       "<table border=\"1\" class=\"dataframe\">\n",
       "  <thead>\n",
       "    <tr style=\"text-align: right;\">\n",
       "      <th></th>\n",
       "      <th>MinTemp</th>\n",
       "      <th>MaxTemp</th>\n",
       "      <th>Rainfall</th>\n",
       "      <th>WindGustSpeed</th>\n",
       "      <th>WindSpeed9am</th>\n",
       "      <th>WindSpeed3pm</th>\n",
       "      <th>Humidity9am</th>\n",
       "      <th>Humidity3pm</th>\n",
       "      <th>Pressure9am</th>\n",
       "      <th>Pressure3pm</th>\n",
       "      <th>...</th>\n",
       "      <th>WindDir9am_NNW</th>\n",
       "      <th>WindDir9am_NW</th>\n",
       "      <th>WindDir9am_S</th>\n",
       "      <th>WindDir9am_SE</th>\n",
       "      <th>WindDir9am_SSE</th>\n",
       "      <th>WindDir9am_SSW</th>\n",
       "      <th>WindDir9am_SW</th>\n",
       "      <th>WindDir9am_W</th>\n",
       "      <th>WindDir9am_WNW</th>\n",
       "      <th>WindDir9am_WSW</th>\n",
       "    </tr>\n",
       "  </thead>\n",
       "  <tbody>\n",
       "    <tr>\n",
       "      <td>82840</td>\n",
       "      <td>0.498575</td>\n",
       "      <td>0.545455</td>\n",
       "      <td>0.0</td>\n",
       "      <td>0.506849</td>\n",
       "      <td>0.108108</td>\n",
       "      <td>0.309524</td>\n",
       "      <td>0.494382</td>\n",
       "      <td>0.214286</td>\n",
       "      <td>0.230216</td>\n",
       "      <td>0.184652</td>\n",
       "      <td>...</td>\n",
       "      <td>0.0</td>\n",
       "      <td>0.0</td>\n",
       "      <td>0.0</td>\n",
       "      <td>0.0</td>\n",
       "      <td>0.0</td>\n",
       "      <td>0.0</td>\n",
       "      <td>0.0</td>\n",
       "      <td>0.0</td>\n",
       "      <td>0.0</td>\n",
       "      <td>1.0</td>\n",
       "    </tr>\n",
       "    <tr>\n",
       "      <td>46645</td>\n",
       "      <td>0.358974</td>\n",
       "      <td>0.374332</td>\n",
       "      <td>0.0</td>\n",
       "      <td>0.506849</td>\n",
       "      <td>0.243243</td>\n",
       "      <td>0.738095</td>\n",
       "      <td>0.707865</td>\n",
       "      <td>0.500000</td>\n",
       "      <td>0.553957</td>\n",
       "      <td>0.477218</td>\n",
       "      <td>...</td>\n",
       "      <td>0.0</td>\n",
       "      <td>0.0</td>\n",
       "      <td>0.0</td>\n",
       "      <td>0.0</td>\n",
       "      <td>0.0</td>\n",
       "      <td>0.0</td>\n",
       "      <td>0.0</td>\n",
       "      <td>0.0</td>\n",
       "      <td>0.0</td>\n",
       "      <td>0.0</td>\n",
       "    </tr>\n",
       "    <tr>\n",
       "      <td>4895</td>\n",
       "      <td>0.245014</td>\n",
       "      <td>0.288770</td>\n",
       "      <td>0.0</td>\n",
       "      <td>0.136986</td>\n",
       "      <td>0.108108</td>\n",
       "      <td>0.000000</td>\n",
       "      <td>0.820225</td>\n",
       "      <td>0.469388</td>\n",
       "      <td>0.733813</td>\n",
       "      <td>0.693046</td>\n",
       "      <td>...</td>\n",
       "      <td>0.0</td>\n",
       "      <td>0.0</td>\n",
       "      <td>0.0</td>\n",
       "      <td>0.0</td>\n",
       "      <td>0.0</td>\n",
       "      <td>0.0</td>\n",
       "      <td>1.0</td>\n",
       "      <td>0.0</td>\n",
       "      <td>0.0</td>\n",
       "      <td>0.0</td>\n",
       "    </tr>\n",
       "    <tr>\n",
       "      <td>34509</td>\n",
       "      <td>0.623932</td>\n",
       "      <td>0.457219</td>\n",
       "      <td>0.0</td>\n",
       "      <td>0.438356</td>\n",
       "      <td>0.243243</td>\n",
       "      <td>0.619048</td>\n",
       "      <td>0.460674</td>\n",
       "      <td>0.530612</td>\n",
       "      <td>0.611511</td>\n",
       "      <td>0.604317</td>\n",
       "      <td>...</td>\n",
       "      <td>0.0</td>\n",
       "      <td>0.0</td>\n",
       "      <td>0.0</td>\n",
       "      <td>0.0</td>\n",
       "      <td>0.0</td>\n",
       "      <td>0.0</td>\n",
       "      <td>0.0</td>\n",
       "      <td>1.0</td>\n",
       "      <td>0.0</td>\n",
       "      <td>0.0</td>\n",
       "    </tr>\n",
       "    <tr>\n",
       "      <td>6382</td>\n",
       "      <td>0.695157</td>\n",
       "      <td>0.727273</td>\n",
       "      <td>0.0</td>\n",
       "      <td>0.356164</td>\n",
       "      <td>0.135135</td>\n",
       "      <td>0.261905</td>\n",
       "      <td>0.325843</td>\n",
       "      <td>0.183673</td>\n",
       "      <td>0.558753</td>\n",
       "      <td>0.549161</td>\n",
       "      <td>...</td>\n",
       "      <td>1.0</td>\n",
       "      <td>0.0</td>\n",
       "      <td>0.0</td>\n",
       "      <td>0.0</td>\n",
       "      <td>0.0</td>\n",
       "      <td>0.0</td>\n",
       "      <td>0.0</td>\n",
       "      <td>0.0</td>\n",
       "      <td>0.0</td>\n",
       "      <td>0.0</td>\n",
       "    </tr>\n",
       "  </tbody>\n",
       "</table>\n",
       "<p>5 rows × 62 columns</p>\n",
       "</div>"
      ],
      "text/plain": [
       "        MinTemp   MaxTemp  Rainfall  WindGustSpeed  WindSpeed9am  \\\n",
       "82840  0.498575  0.545455       0.0       0.506849      0.108108   \n",
       "46645  0.358974  0.374332       0.0       0.506849      0.243243   \n",
       "4895   0.245014  0.288770       0.0       0.136986      0.108108   \n",
       "34509  0.623932  0.457219       0.0       0.438356      0.243243   \n",
       "6382   0.695157  0.727273       0.0       0.356164      0.135135   \n",
       "\n",
       "       WindSpeed3pm  Humidity9am  Humidity3pm  Pressure9am  Pressure3pm  ...  \\\n",
       "82840      0.309524     0.494382     0.214286     0.230216     0.184652  ...   \n",
       "46645      0.738095     0.707865     0.500000     0.553957     0.477218  ...   \n",
       "4895       0.000000     0.820225     0.469388     0.733813     0.693046  ...   \n",
       "34509      0.619048     0.460674     0.530612     0.611511     0.604317  ...   \n",
       "6382       0.261905     0.325843     0.183673     0.558753     0.549161  ...   \n",
       "\n",
       "       WindDir9am_NNW  WindDir9am_NW  WindDir9am_S  WindDir9am_SE  \\\n",
       "82840             0.0            0.0           0.0            0.0   \n",
       "46645             0.0            0.0           0.0            0.0   \n",
       "4895              0.0            0.0           0.0            0.0   \n",
       "34509             0.0            0.0           0.0            0.0   \n",
       "6382              1.0            0.0           0.0            0.0   \n",
       "\n",
       "       WindDir9am_SSE  WindDir9am_SSW  WindDir9am_SW  WindDir9am_W  \\\n",
       "82840             0.0             0.0            0.0           0.0   \n",
       "46645             0.0             0.0            0.0           0.0   \n",
       "4895              0.0             0.0            1.0           0.0   \n",
       "34509             0.0             0.0            0.0           1.0   \n",
       "6382              0.0             0.0            0.0           0.0   \n",
       "\n",
       "       WindDir9am_WNW  WindDir9am_WSW  \n",
       "82840             0.0             1.0  \n",
       "46645             0.0             0.0  \n",
       "4895              0.0             0.0  \n",
       "34509             0.0             0.0  \n",
       "6382              0.0             0.0  \n",
       "\n",
       "[5 rows x 62 columns]"
      ]
     },
     "execution_count": 36,
     "metadata": {},
     "output_type": "execute_result"
    }
   ],
   "source": [
    "df.head()"
   ]
  },
  {
   "cell_type": "code",
   "execution_count": 38,
   "metadata": {},
   "outputs": [],
   "source": [
    "x = df.loc[:,df.columns!='RainTomorrow']\n",
    "y = df[['RainTomorrow']]"
   ]
  },
  {
   "cell_type": "markdown",
   "metadata": {},
   "source": [
    "# Creating Training And Testing Split"
   ]
  },
  {
   "cell_type": "code",
   "execution_count": 43,
   "metadata": {},
   "outputs": [],
   "source": [
    "X_train1, X_test1, y_train1, y_test1 = train_test_split( \n",
    "                        x,y, \n",
    "                test_size = 0.30, random_state = 101)"
   ]
  },
  {
   "cell_type": "code",
   "execution_count": 48,
   "metadata": {},
   "outputs": [],
   "source": [
    "x1t=X_train1.as_matrix()\n",
    "x2t=X_test1.as_matrix()\n",
    "y1t=y_train1.as_matrix()\n",
    "y2t=y_test1.as_matrix()"
   ]
  },
  {
   "cell_type": "code",
   "execution_count": 66,
   "metadata": {},
   "outputs": [],
   "source": [
    "X_train=(X_train1).T\n",
    "X_test=(X_test1).T\n",
    "y_train=(y1t).T\n",
    "y_test=(y2t).T"
   ]
  },
  {
   "cell_type": "markdown",
   "metadata": {},
   "source": [
    "# Sigmoid function"
   ]
  },
  {
   "cell_type": "code",
   "execution_count": 67,
   "metadata": {},
   "outputs": [],
   "source": [
    "def sigmoid(z):\n",
    "    s =1/(1+np.exp(-z))\n",
    "    return s"
   ]
  },
  {
   "cell_type": "markdown",
   "metadata": {},
   "source": [
    "# Plot Accuracy or Loss as a Function of Number of Epoch"
   ]
  },
  {
   "cell_type": "code",
   "execution_count": 68,
   "metadata": {},
   "outputs": [],
   "source": [
    "def plot_model_history(model_history):\n",
    "    fig, axs = plt.subplots(1,2,figsize=(15,5))\n",
    "    # summarize history for accuracy\n",
    "    axs[0].plot(range(1,len(model_history.history['accuracy'])+1),model_history.history['accuracy'])\n",
    "    axs[0].plot(range(1,len(model_history.history['val_accuracy'])+1),model_history.history['val_accuracy'])\n",
    "    axs[0].set_title('Model Accuracy')\n",
    "    axs[0].set_ylabel('Accuracy')\n",
    "    axs[0].set_xlabel('Epoch')\n",
    "    axs[0].set_xticks(np.arange(1,len(model_history.history['accuracy'])+1),len(model_history.history['accuracy'])/10)\n",
    "    axs[0].legend(['train', 'val'], loc='best')\n",
    "    # summarize history for loss\n",
    "    axs[1].plot(range(1,len(model_history.history['loss'])+1),model_history.history['loss'])\n",
    "    axs[1].plot(range(1,len(model_history.history['val_loss'])+1),model_history.history['val_loss'])\n",
    "    axs[1].set_title('Model Loss')\n",
    "    axs[1].set_ylabel('Loss')\n",
    "    axs[1].set_xlabel('Epoch')\n",
    "    axs[1].set_xticks(np.arange(1,len(model_history.history['loss'])+1),len(model_history.history['loss'])/10)\n",
    "    axs[1].legend(['train', 'val'], loc='best')\n",
    "    plt.show()"
   ]
  },
  {
   "cell_type": "markdown",
   "metadata": {},
   "source": [
    "# 1. Shallow Neural Network "
   ]
  },
  {
   "cell_type": "code",
   "execution_count": 69,
   "metadata": {},
   "outputs": [
    {
     "name": "stdout",
     "output_type": "stream",
     "text": [
      "The size of the input layer is: n_x = 61\n",
      "The size of the hidden layer is: n_h = 4\n",
      "The size of the output layer is: n_y = 1\n"
     ]
    }
   ],
   "source": [
    "n_x = X_train.shape[0] # size of input layer\n",
    "n_h = 4         # Only one Hidden Layer\n",
    "n_y =  y_train.shape[0] # size of output layer\n",
    "print(\"The size of the input layer is: n_x = \" + str(n_x))\n",
    "print(\"The size of the hidden layer is: n_h = \" + str(n_h))\n",
    "print(\"The size of the output layer is: n_y = \" + str(n_y))"
   ]
  },
  {
   "cell_type": "markdown",
   "metadata": {},
   "source": [
    "# Defining initialize_parameters functions"
   ]
  },
  {
   "cell_type": "code",
   "execution_count": 70,
   "metadata": {},
   "outputs": [],
   "source": [
    "def initialize_parameters(n_x, n_h, n_y):\n",
    "    np.random.seed(32)\n",
    "    W1 = np.random.randn(n_h, n_x) * 0.01\n",
    "    b1 =  np.zeros((n_h, 1))\n",
    "    W2 = np.random.randn(n_y, n_h) * 0.01\n",
    "    b2 = np.zeros((n_y, 1))\n",
    "    assert (W1.shape == (n_h, n_x))\n",
    "    assert (b1.shape == (n_h, 1))\n",
    "    assert (W2.shape == (n_y, n_h))\n",
    "    assert (b2.shape == (n_y, 1))\n",
    "    \n",
    "    parameters = {\"W1\": W1,\n",
    "                  \"b1\": b1,\n",
    "                  \"W2\": W2,\n",
    "                  \"b2\": b2}\n",
    "    \n",
    "    return parameters"
   ]
  },
  {
   "cell_type": "code",
   "execution_count": 73,
   "metadata": {},
   "outputs": [
    {
     "name": "stdout",
     "output_type": "stream",
     "text": [
      "W1 = [[-3.48894451e-03  9.83703433e-03  5.80922831e-03  7.02844409e-04\n",
      "   7.77532676e-03  5.81958745e-03  1.47179053e-02  1.66318101e-02\n",
      "  -2.61177121e-03 -6.88676813e-03 -6.94923262e-03  1.94042346e-02\n",
      "   1.80541519e-02  4.56313852e-03 -5.74812040e-03  1.14180503e-03\n",
      "   1.51358077e-02  3.51131840e-03 -8.89332139e-04  9.16954228e-03\n",
      "   5.05645125e-03 -8.15271110e-03  3.89150951e-03 -4.24962470e-03\n",
      "   3.96231519e-04 -5.27963922e-03 -5.10303679e-03 -8.88285149e-03\n",
      "   1.08762473e-02  6.73392264e-03 -1.06731704e-02  1.21804998e-02\n",
      "   3.36371255e-02 -8.32253403e-03 -3.40348381e-03 -1.85857154e-02\n",
      "   8.23065599e-06  3.51574483e-03  1.52150885e-02 -6.80474137e-03\n",
      "   9.38057708e-03 -6.81414713e-03 -2.01098083e-03 -1.74886440e-04\n",
      "  -1.78791213e-02 -8.51740228e-03 -1.62830331e-02  9.66997738e-03\n",
      "   5.31155943e-04  2.89712932e-03  6.24443380e-04 -1.09812873e-02\n",
      "   1.30533064e-03 -1.85337064e-03 -1.34073473e-02 -3.24019679e-03\n",
      "   1.48436338e-02  1.31308828e-02 -6.32164014e-03 -3.91573298e-03\n",
      "  -2.36849570e-02]\n",
      " [-5.90683913e-03 -1.71300152e-02 -1.31285141e-02  4.53779604e-03\n",
      "  -1.78332529e-02  1.42551583e-02 -3.45698608e-03  9.98657431e-03\n",
      "   7.25386344e-03 -9.28409701e-03 -6.79982736e-03 -1.11262844e-02\n",
      "   1.24751610e-04 -5.26311356e-03 -6.79530896e-03  1.45994761e-02\n",
      "   1.36657358e-02  1.70810135e-02  2.39030424e-03 -4.59934590e-03\n",
      "   1.15831171e-02  2.53673937e-03  2.03742962e-03  1.77320156e-02\n",
      "   9.88609277e-03 -8.11427183e-03 -1.52325949e-02 -3.00994480e-03\n",
      "  -3.90611028e-03  4.68037148e-03  1.51354842e-02  4.24640107e-03\n",
      "   1.22346219e-03 -1.38764712e-02 -4.67041100e-03  1.27359663e-02\n",
      "   1.21721615e-03 -1.21746422e-02  4.03288099e-03 -1.47309510e-02\n",
      "  -8.07467933e-03 -1.03275598e-02  8.52844830e-03 -7.95059186e-03\n",
      "   9.32159558e-03  1.70116487e-02  1.14539813e-03 -2.80694677e-03\n",
      "  -1.15979720e-02  2.00774251e-02 -7.12391299e-05  5.94402862e-03\n",
      "   8.67775449e-04 -3.10212284e-03  3.87108572e-03 -1.31167128e-02\n",
      "   1.86822114e-02 -5.83791859e-03 -6.36603416e-04  3.95498630e-05\n",
      "  -2.33572407e-03]\n",
      " [ 1.31482178e-02 -1.86523499e-02  3.89151511e-03  1.45978026e-02\n",
      "  -3.60319268e-03 -4.52692409e-03  1.37582864e-02 -1.45927342e-03\n",
      "  -1.49445307e-02  1.74957541e-02  1.44917140e-02 -1.00682004e-02\n",
      "   1.25856795e-02  5.29146917e-03 -5.14234727e-03 -2.37874369e-02\n",
      "   3.57095567e-03  1.51335606e-02 -5.86545200e-03 -6.91654789e-03\n",
      "  -2.99826964e-03 -3.46988565e-03  5.90325266e-03  1.75955297e-02\n",
      "  -8.03790864e-03  5.24631469e-03  1.21481569e-02 -7.36959852e-04\n",
      "   1.04675257e-02  1.46183743e-03  7.96793173e-03 -4.33942164e-03\n",
      "  -8.55803926e-03  1.31263841e-02  1.20931899e-02 -2.60683247e-03\n",
      "   4.83649078e-03 -1.73901126e-02 -4.52153415e-03 -4.94039685e-03\n",
      "   2.73599167e-02 -1.94405851e-03  6.08723784e-03  1.49200215e-02\n",
      "   9.46660450e-04  9.15413597e-04  2.18312681e-03  8.39430444e-03\n",
      "   3.91332586e-03 -3.89246466e-03 -8.95986779e-03 -1.07191903e-02\n",
      "  -3.45933486e-03 -5.08736808e-03 -1.54969041e-02  5.58031479e-03\n",
      "   1.78488371e-03 -1.32528692e-03  1.08922572e-02  9.78081502e-03\n",
      "   6.30599785e-03]\n",
      " [ 9.13780102e-04  8.78557215e-04  3.01407934e-03  2.57280960e-02\n",
      "  -3.87429373e-03  3.31685276e-03 -2.75520492e-05  2.46347474e-03\n",
      "   1.15480260e-02  3.16328315e-03  2.86953208e-03 -7.86582002e-03\n",
      "  -7.79752410e-03  2.48113036e-03  3.07956447e-03  1.10878961e-02\n",
      "  -1.41335419e-02  6.87739071e-03  7.37344174e-03 -1.12083240e-02\n",
      "   5.50023375e-04  2.56842503e-02 -3.58570363e-03 -1.70702862e-02\n",
      "   8.45077645e-04 -1.75480025e-02 -6.33106861e-04  1.14938586e-03\n",
      "   3.94446468e-03  9.81625886e-03  4.21518905e-03  2.88670214e-03\n",
      "  -1.26423371e-03 -8.87990852e-03  8.84693812e-03 -2.55348644e-03\n",
      "  -9.50409202e-03  1.75754042e-02 -1.33025412e-03 -1.23304062e-02\n",
      "   9.16728416e-03 -1.39227912e-03 -4.58172011e-03  1.64085405e-02\n",
      "   1.18602198e-02  4.51708231e-03  6.42908592e-03 -4.55217169e-03\n",
      "  -4.58747897e-03  1.38477594e-02  1.03745311e-02  1.45179778e-02\n",
      "   7.25046382e-04  1.33610706e-02  5.09711653e-03  1.33632253e-02\n",
      "  -4.95822719e-03  3.84599562e-03 -1.06537199e-02 -2.46867370e-04\n",
      "  -1.73677168e-02]]\n",
      "b1 = [[0.]\n",
      " [0.]\n",
      " [0.]\n",
      " [0.]]\n",
      "W2 = [[ 0.011022   -0.00503151 -0.01160094 -0.00074259]]\n",
      "b2 = [[0.]]\n"
     ]
    }
   ],
   "source": [
    "parameters = initialize_parameters(n_x, n_h, n_y)\n",
    "print(\"W1 = \" + str(parameters[\"W1\"]))\n",
    "print(\"b1 = \" + str(parameters[\"b1\"]))\n",
    "print(\"W2 = \" + str(parameters[\"W2\"]))\n",
    "print(\"b2 = \" + str(parameters[\"b2\"]))"
   ]
  },
  {
   "cell_type": "markdown",
   "metadata": {},
   "source": [
    "# Defining forward_propagation function"
   ]
  },
  {
   "cell_type": "code",
   "execution_count": 74,
   "metadata": {},
   "outputs": [],
   "source": [
    "def forward_propagation(X, parameters):\n",
    "   \n",
    "    # Retrieve each parameter from the dictionary \"parameters\"\n",
    "    W1 = parameters['W1']\n",
    "    b1 = parameters['b1']\n",
    "    W2 = parameters['W2']\n",
    "    b2 = parameters['b2']\n",
    "    \n",
    "    Z1 = np.dot(W1, X) + b1\n",
    "    A1 = np.tanh(Z1)\n",
    "    Z2 = np.dot(W2, A1) + b2\n",
    "    A2 = sigmoid(Z2)\n",
    "    \n",
    "    \n",
    "    cache = {\"Z1\": Z1,\n",
    "             \"A1\": A1,\n",
    "             \"Z2\": Z2,\n",
    "             \"A2\": A2}\n",
    "    \n",
    "    return A2, cache"
   ]
  },
  {
   "cell_type": "code",
   "execution_count": 81,
   "metadata": {},
   "outputs": [],
   "source": [
    "A2, cache = forward_propagation(X_train, parameters)"
   ]
  },
  {
   "cell_type": "markdown",
   "metadata": {},
   "source": [
    "# Defining compute_cost function"
   ]
  },
  {
   "cell_type": "code",
   "execution_count": 82,
   "metadata": {},
   "outputs": [],
   "source": [
    "def compute_cost(A2, Y, parameters):\n",
    "    \n",
    "    m = Y.shape[1] # number of example\n",
    "\n",
    "    # Compute the cross-entropy cost\n",
    "    logprobs = np.multiply(np.log(A2), Y) + np.multiply((1 - Y), np.log(1 - A2))\n",
    "    cost = - np.sum(logprobs) / m\n",
    "    \n",
    "    cost = cost.astype(float)  # makes sure cost is the dimension we expect. \n",
    "                                    # E.g., turns [[17]] into 17 \n",
    " \n",
    "    return cost"
   ]
  },
  {
   "cell_type": "markdown",
   "metadata": {},
   "source": [
    "# Defining backward_propagation function"
   ]
  },
  {
   "cell_type": "code",
   "execution_count": 83,
   "metadata": {},
   "outputs": [],
   "source": [
    "def backward_propagation(parameters, cache, X, Y):\n",
    "    m = X.shape[1]\n",
    "    \n",
    "    # First, retrieve W1 and W2 from the dictionary \"parameters\".\n",
    "    W1 = parameters['W1']\n",
    "    W2 = parameters['W2']\n",
    "            \n",
    "    # Retrieve also A1 and A2 from dictionary \"cache\".\n",
    "    A1 = cache['A1']\n",
    "    A2 = cache['A2']\n",
    "   \n",
    "    # Backward propagation: calculate dW1, db1, dW2, db2. \n",
    "    dZ2 = A2 - Y\n",
    "    dW2 = (1 / m) * np.dot(dZ2, A1.T)\n",
    "    db2 = ((1 / m) * np.sum(dZ2, axis=1,keepdims=True))\n",
    "    db2=db2.T\n",
    "    dZ1 = np.multiply(np.dot(W2.T, dZ2), 1 - np.power(A1, 2))\n",
    "    dW1 = (1 / m) * np.dot(dZ1, X.T)\n",
    "    db1 = (1 / m) * np.sum(dZ1, axis=1,keepdims=True)\n",
    "    \n",
    "    grads = {\"dW1\": dW1,\n",
    "             \"db1\": db1,\n",
    "             \"db2\": db2,\n",
    "             \"dW2\": dW2\n",
    "             }\n",
    "    \n",
    "    return grads"
   ]
  },
  {
   "cell_type": "code",
   "execution_count": 84,
   "metadata": {},
   "outputs": [
    {
     "name": "stdout",
     "output_type": "stream",
     "text": [
      "dW1 = [[ 1.59379158e-03  1.56752160e-03  8.37327830e-07  1.28005975e-03\n",
      "   1.03663265e-03  1.23257349e-03  1.78045902e-03  1.16246849e-03\n",
      "   1.81492000e-03  1.78586142e-03  1.62427662e-03  1.63580817e-03\n",
      "   1.10961322e-04  2.50951581e-04  2.32171459e-04  2.31306573e-04\n",
      "   1.92453470e-04  1.91942131e-04  1.40067308e-04  1.10928371e-04\n",
      "   1.15673519e-04  2.07788705e-04  2.85498086e-04  2.61217523e-04\n",
      "   1.91942822e-04  2.44725906e-04  1.87308788e-04  1.51120457e-04\n",
      "   2.17875311e-04  2.00602545e-04  2.05402065e-04  2.53225481e-04\n",
      "   1.59290534e-04  2.15636990e-04  1.34578321e-04  1.36966371e-04\n",
      "   1.18838136e-04  2.34525349e-04  2.77565680e-04  2.56608161e-04\n",
      "   1.87933459e-04  2.64417984e-04  2.03024844e-04  1.53452204e-04\n",
      "   2.10903886e-04  2.62844832e-04  2.29027606e-04  2.82202819e-04\n",
      "   1.81655097e-04  1.71465749e-04  1.66824644e-04  1.36150126e-04\n",
      "   1.54179485e-04  2.43166358e-04  2.85711742e-04  2.67524771e-04\n",
      "   1.84722816e-04  1.90309522e-04  1.73872869e-04  1.36140598e-04\n",
      "   1.47172979e-04]\n",
      " [-7.27783398e-04 -7.15798851e-04 -3.59474674e-07 -5.84514658e-04\n",
      "  -4.73386877e-04 -5.62893061e-04 -8.13055295e-04 -5.30794284e-04\n",
      "  -8.28824946e-04 -8.15555022e-04 -7.41707641e-04 -7.46987297e-04\n",
      "  -5.06763645e-05 -1.14592282e-04 -1.05957648e-04 -1.05676235e-04\n",
      "  -8.80541079e-05 -8.76604285e-05 -6.39543327e-05 -5.06701088e-05\n",
      "  -5.28293636e-05 -9.48348165e-05 -1.30422097e-04 -1.19283775e-04\n",
      "  -8.76827966e-05 -1.11657237e-04 -8.54483068e-05 -6.89624068e-05\n",
      "  -9.95010895e-05 -9.16245994e-05 -9.37712512e-05 -1.15720368e-04\n",
      "  -7.29900251e-05 -9.83971188e-05 -6.14283751e-05 -6.25177546e-05\n",
      "  -5.42535443e-05 -1.07062414e-04 -1.26865678e-04 -1.17078546e-04\n",
      "  -8.58361090e-05 -1.20656866e-04 -9.26852607e-05 -7.00235737e-05\n",
      "  -9.62755494e-05 -1.20016579e-04 -1.04524442e-04 -1.28980203e-04\n",
      "  -8.29751014e-05 -7.83406755e-05 -7.61772990e-05 -6.21653099e-05\n",
      "  -7.04264353e-05 -1.11008200e-04 -1.30434021e-04 -1.22083035e-04\n",
      "  -8.44559645e-05 -8.69235214e-05 -7.93797438e-05 -6.21431384e-05\n",
      "  -6.71533636e-05]\n",
      " [-1.67811068e-03 -1.65051371e-03 -8.71527979e-07 -1.34775593e-03\n",
      "  -1.09154379e-03 -1.29779630e-03 -1.87452293e-03 -1.22380926e-03\n",
      "  -1.91084348e-03 -1.88022789e-03 -1.71021688e-03 -1.72241127e-03\n",
      "  -1.16839174e-04 -2.64252350e-04 -2.44399983e-04 -2.43631142e-04\n",
      "  -2.03032264e-04 -2.01917779e-04 -1.47511476e-04 -1.16869951e-04\n",
      "  -1.21814469e-04 -2.18721435e-04 -3.00774902e-04 -2.74885488e-04\n",
      "  -2.02148579e-04 -2.57553244e-04 -1.96964915e-04 -1.59012571e-04\n",
      "  -2.29305753e-04 -2.11264624e-04 -2.16143890e-04 -2.66802721e-04\n",
      "  -1.68323978e-04 -2.26836909e-04 -1.41624057e-04 -1.44178411e-04\n",
      "  -1.25114950e-04 -2.46980495e-04 -2.92486599e-04 -2.70068472e-04\n",
      "  -1.97680082e-04 -2.78329584e-04 -2.13577870e-04 -1.61466154e-04\n",
      "  -2.21917506e-04 -2.76669379e-04 -2.41046701e-04 -2.97342309e-04\n",
      "  -1.91424876e-04 -1.80597771e-04 -1.75694168e-04 -1.43361523e-04\n",
      "  -1.62366923e-04 -2.56012967e-04 -3.00762975e-04 -2.81590580e-04\n",
      "  -1.94645128e-04 -2.00479709e-04 -1.82823255e-04 -1.43203158e-04\n",
      "  -1.54774880e-04]\n",
      " [-1.07384472e-04 -1.05618129e-04 -5.55968657e-08 -8.62399344e-05\n",
      "  -6.98465940e-05 -8.30466345e-05 -1.19957521e-04 -7.83111448e-05\n",
      "  -1.22280009e-04 -1.20321897e-04 -1.09438546e-04 -1.10219631e-04\n",
      "  -7.48611034e-06 -1.69083040e-05 -1.56351026e-05 -1.55800913e-05\n",
      "  -1.29968652e-05 -1.29282776e-05 -9.43454522e-06 -7.47975360e-06\n",
      "  -7.79281092e-06 -1.39631824e-05 -1.92487873e-05 -1.76043555e-05\n",
      "  -1.29340171e-05 -1.64931571e-05 -1.26164809e-05 -1.01765332e-05\n",
      "  -1.46809336e-05 -1.35110225e-05 -1.38307112e-05 -1.70696274e-05\n",
      "  -1.07718247e-05 -1.45266247e-05 -9.05936792e-06 -9.22616321e-06\n",
      "  -8.00917369e-06 -1.57786896e-05 -1.87167415e-05 -1.72854433e-05\n",
      "  -1.26618202e-05 -1.78159644e-05 -1.36801252e-05 -1.03293759e-05\n",
      "  -1.42005220e-05 -1.77015752e-05 -1.54210214e-05 -1.90366394e-05\n",
      "  -1.22530018e-05 -1.15499513e-05 -1.12385714e-05 -9.16766055e-06\n",
      "  -1.03920723e-05 -1.63678662e-05 -1.92430182e-05 -1.80129364e-05\n",
      "  -1.24597478e-05 -1.28293981e-05 -1.17174762e-05 -9.16791250e-06\n",
      "  -9.91434876e-06]]\n",
      "db1 = [[ 0.00321297]\n",
      " [-0.00146719]\n",
      " [-0.0033828 ]\n",
      " [-0.00021647]]\n",
      "dW2 = [[ 0.0065625  -0.004383    0.00436841  0.00660358]]\n",
      "db2 = [[0.29174798]]\n"
     ]
    }
   ],
   "source": [
    "grads = backward_propagation(parameters, cache, X_train, y_train)\n",
    "print (\"dW1 = \"+ str(grads[\"dW1\"]))\n",
    "print (\"db1 = \"+ str(grads[\"db1\"]))\n",
    "print (\"dW2 = \"+ str(grads[\"dW2\"]))\n",
    "print (\"db2 = \"+ str(grads[\"db2\"]))"
   ]
  },
  {
   "cell_type": "markdown",
   "metadata": {},
   "source": [
    "# Defining update_parameters function"
   ]
  },
  {
   "cell_type": "code",
   "execution_count": 85,
   "metadata": {},
   "outputs": [],
   "source": [
    "def update_parameters(parameters, grads, learning_rate=0.02):\n",
    "    # Retrieve each parameter from the dictionary \"parameters\"\n",
    "    W1 = parameters['W1']\n",
    "    b1 = parameters['b1']\n",
    "    W2 = parameters['W2']\n",
    "    b2 = parameters['b2']\n",
    "    \n",
    "    # Retrieve each gradient from the dictionary \"grads\"\n",
    "    dW1 = grads['dW1']\n",
    "    db1 = grads['db1']\n",
    "    dW2 = grads['dW2']\n",
    "    db2 = grads['db2']\n",
    "    \n",
    "    # Update rule for each parameter\n",
    "    W1 = W1 - learning_rate * dW1\n",
    "    b1 = b1 - learning_rate * db1\n",
    "    W2 = W2 - learning_rate * dW2\n",
    "    b2 = b2 - learning_rate * db2\n",
    "    \n",
    "    parameters = {\"W1\": W1,\n",
    "                  \"b1\": b1,\n",
    "                  \"W2\": W2,\n",
    "                  \"b2\": b2}\n",
    "    \n",
    "    return parameters"
   ]
  },
  {
   "cell_type": "code",
   "execution_count": 87,
   "metadata": {},
   "outputs": [
    {
     "name": "stdout",
     "output_type": "stream",
     "text": [
      "W1 = [[-3.55269617e-03  9.77433347e-03  5.80919481e-03  6.51642019e-04\n",
      "   7.73386146e-03  5.77028451e-03  1.46466869e-02  1.65853113e-02\n",
      "  -2.68436801e-03 -6.95820259e-03 -7.01420369e-03  1.93388023e-02\n",
      "   1.80497135e-02  4.55310046e-03 -5.75740726e-03  1.13255277e-03\n",
      "   1.51281096e-02  3.50364072e-03 -8.94934832e-04  9.16510515e-03\n",
      "   5.05182431e-03 -8.16102265e-03  3.88008959e-03 -4.26007340e-03\n",
      "   3.88553807e-04 -5.28942826e-03 -5.11052914e-03 -8.88889631e-03\n",
      "   1.08675323e-02  6.72589854e-03 -1.06813865e-02  1.21703708e-02\n",
      "   3.36307539e-02 -8.33115951e-03 -3.40886694e-03 -1.85911941e-02\n",
      "   3.47713054e-06  3.50636381e-03  1.52039858e-02 -6.81500570e-03\n",
      "   9.37305974e-03 -6.82472384e-03 -2.01910182e-03 -1.81024528e-04\n",
      "  -1.78875574e-02 -8.52791607e-03 -1.62921942e-02  9.65868927e-03\n",
      "   5.23889739e-04  2.89027069e-03  6.17770394e-04 -1.09867333e-02\n",
      "   1.29916346e-03 -1.86309729e-03 -1.34187758e-02 -3.25089778e-03\n",
      "   1.48362449e-02  1.31232704e-02 -6.32859506e-03 -3.92117860e-03\n",
      "  -2.36908440e-02]\n",
      " [-5.87772779e-03 -1.71013833e-02 -1.31284997e-02  4.56117663e-03\n",
      "  -1.78143175e-02  1.42776741e-02 -3.42446387e-03  1.00078061e-02\n",
      "   7.28701644e-03 -9.25147481e-03 -6.77015906e-03 -1.10964049e-02\n",
      "   1.26778664e-04 -5.25852986e-03 -6.79107066e-03  1.46037031e-02\n",
      "   1.36692580e-02  1.70845199e-02  2.39286241e-03 -4.59731909e-03\n",
      "   1.15852303e-02  2.54053276e-03  2.04264651e-03  1.77367870e-02\n",
      "   9.88960008e-03 -8.10980554e-03 -1.52291769e-02 -3.00718630e-03\n",
      "  -3.90213024e-03  4.68403646e-03  1.51392350e-02  4.25102988e-03\n",
      "   1.22638179e-03 -1.38725353e-02 -4.66795387e-03  1.27384670e-02\n",
      "   1.21938629e-03 -1.21703597e-02  4.03795562e-03 -1.47262679e-02\n",
      "  -8.07124589e-03 -1.03227336e-02  8.53215571e-03 -7.94779091e-03\n",
      "   9.32544660e-03  1.70164494e-02  1.14957911e-03 -2.80178756e-03\n",
      "  -1.15946530e-02  2.00805587e-02 -6.81920379e-05  5.94651523e-03\n",
      "   8.70592507e-04 -3.09768251e-03  3.87630308e-03 -1.31118295e-02\n",
      "   1.86855896e-02 -5.83444165e-03 -6.33428227e-04  4.20355885e-05\n",
      "  -2.33303793e-03]\n",
      " [ 1.32153423e-02 -1.85863294e-02  3.89154997e-03  1.46517128e-02\n",
      "  -3.55953093e-03 -4.47501224e-03  1.38332673e-02 -1.41032104e-03\n",
      "  -1.48680970e-02  1.75709633e-02  1.45601227e-02 -9.99930395e-03\n",
      "   1.25903531e-02  5.30203926e-03 -5.13257127e-03 -2.37776916e-02\n",
      "   3.57907696e-03  1.51416374e-02 -5.85955154e-03 -6.91187309e-03\n",
      "  -2.99339706e-03 -3.46113679e-03  5.91528366e-03  1.76065251e-02\n",
      "  -8.02982269e-03  5.25661682e-03  1.21560355e-02 -7.30599349e-04\n",
      "   1.04766980e-02  1.47028802e-03  7.97657748e-03 -4.32874954e-03\n",
      "  -8.55130630e-03  1.31354576e-02  1.20988549e-02 -2.60106533e-03\n",
      "   4.84149538e-03 -1.73802333e-02 -4.50983469e-03 -4.92959411e-03\n",
      "   2.73678239e-02 -1.93292533e-03  6.09578095e-03  1.49264802e-02\n",
      "   9.55537150e-04  9.26480372e-04  2.19276868e-03  8.40619814e-03\n",
      "   3.92098286e-03 -3.88524074e-03 -8.95284002e-03 -1.07134558e-02\n",
      "  -3.45284018e-03 -5.07712756e-03 -1.54848735e-02  5.59157842e-03\n",
      "   1.79266952e-03 -1.31726773e-03  1.08995702e-02  9.78654315e-03\n",
      "   6.31218884e-03]\n",
      " [ 9.18075481e-04  8.82781940e-04  3.01408156e-03  2.57315456e-02\n",
      "  -3.87149987e-03  3.32017463e-03 -2.27537484e-05  2.46660719e-03\n",
      "   1.15529172e-02  3.16809603e-03  2.87390962e-03 -7.86141123e-03\n",
      "  -7.79722465e-03  2.48180669e-03  3.08018987e-03  1.10885193e-02\n",
      "  -1.41330220e-02  6.87790784e-03  7.37381913e-03 -1.12080248e-02\n",
      "   5.50335087e-04  2.56848088e-02 -3.58493368e-03 -1.70695821e-02\n",
      "   8.45595005e-04 -1.75473428e-02 -6.32602202e-04  1.14979292e-03\n",
      "   3.94505192e-03  9.81679930e-03  4.21574228e-03  2.88738493e-03\n",
      "  -1.26380283e-03 -8.87932745e-03  8.84730049e-03 -2.55311739e-03\n",
      "  -9.50377166e-03  1.75760354e-02 -1.32950545e-03 -1.23297148e-02\n",
      "   9.16779063e-03 -1.39156648e-03 -4.58117291e-03  1.64089536e-02\n",
      "   1.18607878e-02  4.51779037e-03  6.42970276e-03 -4.55141023e-03\n",
      "  -4.58698885e-03  1.38482214e-02  1.03749806e-02  1.45183445e-02\n",
      "   7.25462065e-04  1.33617253e-02  5.09788626e-03  1.33639458e-02\n",
      "  -4.95772880e-03  3.84650880e-03 -1.06532512e-02 -2.46500654e-04\n",
      "  -1.73673202e-02]]\n",
      "b1 = [[-1.28518880e-04]\n",
      " [ 5.86874813e-05]\n",
      " [ 1.35311852e-04]\n",
      " [ 8.65892790e-06]]\n",
      "W2 = [[ 0.0107595  -0.00485619 -0.01177567 -0.00100673]]\n",
      "b2 = [[-0.01166992]]\n"
     ]
    }
   ],
   "source": [
    "parameters = update_parameters(parameters, grads)\n",
    "\n",
    "print(\"W1 = \" + str(parameters[\"W1\"]))\n",
    "print(\"b1 = \" + str(parameters[\"b1\"]))\n",
    "print(\"W2 = \" + str(parameters[\"W2\"]))\n",
    "print(\"b2 = \" + str(parameters[\"b2\"]))"
   ]
  },
  {
   "cell_type": "markdown",
   "metadata": {},
   "source": [
    "# Defining nn_model (Neural Network) Model"
   ]
  },
  {
   "cell_type": "code",
   "execution_count": 88,
   "metadata": {},
   "outputs": [],
   "source": [
    "def nn_model(X, Y, n_h, num_iterations = 10000, print_cost=False):\n",
    "   \n",
    "    \n",
    "    np.random.seed(32)\n",
    "    n_x = 61\n",
    "    n_y = 1    \n",
    "    # Initialize parameters\n",
    "    parameters = initialize_parameters(n_x, n_h, n_y)\n",
    "    W1 = parameters['W1']\n",
    "    b1 = parameters['b1']\n",
    "    W2 = parameters['W2']\n",
    "    b2 = parameters['b2']\n",
    "    \n",
    "    # Loop (gradient descent)\n",
    "    costs=[0]* num_iterations\n",
    "    for i in range(0, num_iterations):\n",
    "         \n",
    "       \n",
    "        # Forward propagation. Inputs: \"X, parameters\". Outputs: \"A2, cache\".\n",
    "        A2, cache = forward_propagation(X, parameters)\n",
    "        \n",
    "        # Cost function. Inputs: \"A2, Y, parameters\". Outputs: \"cost\".\n",
    "        cost = compute_cost(A2, Y, parameters)\n",
    " \n",
    "        # Backpropagation. Inputs: \"parameters, cache, X, Y\". Outputs: \"grads\".\n",
    "        grads = backward_propagation(parameters, cache, X, Y)\n",
    " \n",
    "        # Gradient descent parameter update. Inputs: \"parameters, grads\". Outputs: \"parameters\".\n",
    "        parameters = update_parameters(parameters, grads)\n",
    "        \n",
    "        # Print the cost for every 1000 iterations\n",
    "        if print_cost and i % 1000 == 0:\n",
    "            print (\"Cost after iteration %i: %f\" % (i, cost))\n",
    "        costs[i]=cost\n",
    "    plt.plot(costs)\n",
    "    plt.ylabel('cost')\n",
    "    plt.xlabel('iterations (per hundreds)')    \n",
    "    return parameters"
   ]
  },
  {
   "cell_type": "code",
   "execution_count": 89,
   "metadata": {},
   "outputs": [
    {
     "name": "stdout",
     "output_type": "stream",
     "text": [
      "Cost after iteration 0: 0.693186\n",
      "Cost after iteration 1000: 0.510084\n",
      "Cost after iteration 2000: 0.481001\n",
      "Cost after iteration 3000: 0.412210\n",
      "Cost after iteration 4000: 0.378415\n",
      "Cost after iteration 5000: 0.360981\n",
      "Cost after iteration 6000: 0.353313\n",
      "Cost after iteration 7000: 0.349581\n",
      "Cost after iteration 8000: 0.347267\n",
      "Cost after iteration 9000: 0.345578\n",
      "Cost after iteration 10000: 0.344256\n",
      "Cost after iteration 11000: 0.343189\n",
      "Cost after iteration 12000: 0.342309\n",
      "Cost after iteration 13000: 0.341558\n",
      "Cost after iteration 14000: 0.340878\n"
     ]
    },
    {
     "data": {
      "image/png": "[encoded data removed]",
      "text/plain": [
       "<Figure size 432x288 with 1 Axes>"
      ]
     },
     "metadata": {
      "needs_background": "light"
     },
     "output_type": "display_data"
    }
   ],
   "source": [
    "parameters = nn_model(X_train, y_train, 4, num_iterations=15000, print_cost=True)"
   ]
  },
  {
   "cell_type": "code",
   "execution_count": 90,
   "metadata": {},
   "outputs": [],
   "source": [
    "def predict(parameters, X):\n",
    "    # Computes probabilities using forward propagation, and classifies to 0/1 using 0.5 as the threshold.\n",
    "   \n",
    "    A2, cache = forward_propagation(X, parameters)\n",
    "    predictions = np.round(A2)    \n",
    "    return predictions"
   ]
  },
  {
   "cell_type": "code",
   "execution_count": 91,
   "metadata": {},
   "outputs": [
    {
     "name": "stdout",
     "output_type": "stream",
     "text": [
      "Train Accuracy: 85%\n"
     ]
    }
   ],
   "source": [
    "predictions = predict(parameters, X_train)\n",
    "print ('Train Accuracy: %d' % float((np.dot(y_train,predictions.T) + np.dot(1-y_train,1-predictions.T))/float(y_train.size)*100) + '%')"
   ]
  },
  {
   "cell_type": "code",
   "execution_count": 92,
   "metadata": {},
   "outputs": [
    {
     "name": "stdout",
     "output_type": "stream",
     "text": [
      "Test Accuracy: 85%\n"
     ]
    }
   ],
   "source": [
    "predictions = predict(parameters, X_test)\n",
    "print ('Test Accuracy: %d' % float((np.dot(y_test,predictions.T) + np.dot(1-y_test,1-predictions.T))/float(y_test.size)*100) + '%')"
   ]
  },
  {
   "cell_type": "markdown",
   "metadata": {},
   "source": [
    "# keras"
   ]
  },
  {
   "cell_type": "code",
   "execution_count": 95,
   "metadata": {},
   "outputs": [
    {
     "name": "stderr",
     "output_type": "stream",
     "text": [
      "Using TensorFlow backend.\n"
     ]
    }
   ],
   "source": [
    "import keras\n",
    "from keras.models import Sequential\n",
    "from keras.utils.np_utils import to_categorical\n",
    "from keras.models import Sequential\n",
    "from keras.layers import Activation, Dense, BatchNormalization\n",
    "from keras import optimizers"
   ]
  },
  {
   "cell_type": "code",
   "execution_count": 96,
   "metadata": {},
   "outputs": [],
   "source": [
    "x1, x2, y1, y2 = train_test_split( \n",
    "                        x,y, \n",
    "                test_size = 0.30, random_state = 101)"
   ]
  },
  {
   "cell_type": "code",
   "execution_count": 97,
   "metadata": {},
   "outputs": [
    {
     "name": "stdout",
     "output_type": "stream",
     "text": [
      "(7000, 61) (3000, 61) (7000, 1) (3000, 1)\n"
     ]
    }
   ],
   "source": [
    "print(x1.shape,x2.shape, y1.shape, y2.shape)"
   ]
  },
  {
   "cell_type": "markdown",
   "metadata": {},
   "source": [
    "# 2. Linear activation function"
   ]
  },
  {
   "cell_type": "code",
   "execution_count": 98,
   "metadata": {},
   "outputs": [],
   "source": [
    "def mlp_model_l(x):\n",
    "    model = Sequential()\n",
    "    \n",
    "    model.add(Dense(50,input_shape = (x, )))\n",
    "    model.add(Activation('sigmoid'))    \n",
    "    model.add(Dense(50))\n",
    "    model.add(Activation('sigmoid'))   \n",
    "    model.add(Dense(50))\n",
    "    model.add(Activation('sigmoid'))  \n",
    "    model.add(Dense(50))\n",
    "    model.add(Activation('sigmoid'))    \n",
    "    model.add(Dense(1))\n",
    "    model.add(Activation('sigmoid'))\n",
    "    \n",
    "    sgd = optimizers.SGD(lr = 0.01)\n",
    "    model.compile(optimizer = sgd, loss = 'binary_crossentropy', metrics = ['accuracy'])\n",
    "    \n",
    "    return model"
   ]
  },
  {
   "cell_type": "code",
   "execution_count": 99,
   "metadata": {},
   "outputs": [],
   "source": [
    "modell = mlp_model_l(61)\n",
    "history = modell.fit(x1, y1, validation_split = 0.3, epochs = 25, verbose = 0)\n"
   ]
  },
  {
   "cell_type": "code",
   "execution_count": 100,
   "metadata": {},
   "outputs": [
    {
     "data": {
      "image/png": "[encoded data removed]",
      "text/plain": [
       "<Figure size 1080x360 with 2 Axes>"
      ]
     },
     "metadata": {
      "needs_background": "light"
     },
     "output_type": "display_data"
    }
   ],
   "source": [
    "plot_model_history(history)"
   ]
  },
  {
   "cell_type": "code",
   "execution_count": 101,
   "metadata": {},
   "outputs": [
    {
     "name": "stdout",
     "output_type": "stream",
     "text": [
      "7000/7000 [==============================] - 0s 16us/step\n",
      "Train accuracy:  0.7917143106460571\n",
      "3000/3000 [==============================] - 0s 10us/step\n",
      "Test accuracy:  0.7940000295639038\n"
     ]
    }
   ],
   "source": [
    "results_l1 = modell.evaluate(x1, y1)\n",
    "print('Train accuracy: ', results_l1[1])\n",
    "results_l2 = modell.evaluate(x2, y2)\n",
    "print('Test accuracy: ', results_l2[1])"
   ]
  },
  {
   "cell_type": "code",
   "execution_count": 102,
   "metadata": {},
   "outputs": [
    {
     "name": "stdout",
     "output_type": "stream",
     "text": [
      "              precision    recall  f1-score   support\n",
      "\n",
      "         0.0       0.79      1.00      0.89      2382\n",
      "         1.0       0.00      0.00      0.00       618\n",
      "\n",
      "    accuracy                           0.79      3000\n",
      "   macro avg       0.40      0.50      0.44      3000\n",
      "weighted avg       0.63      0.79      0.70      3000\n",
      "\n",
      "AUC 0.5\n"
     ]
    }
   ],
   "source": [
    "y_pred_l = modell.predict(x2)\n",
    "y_pred_l = (y_pred_l > 0.5)\n",
    "print(classification_report(y2, y_pred_l)) \n",
    "print(\"AUC\",roc_auc_score(y2, y_pred_l))\n"
   ]
  },
  {
   "cell_type": "markdown",
   "metadata": {},
   "source": [
    "# 3.  Non Linear Activation Function (Relu)"
   ]
  },
  {
   "cell_type": "code",
   "execution_count": 104,
   "metadata": {},
   "outputs": [],
   "source": [
    "def mlp_model_nl(x):\n",
    "    model = Sequential()\n",
    "    \n",
    "    model.add(Dense(50,input_shape = (x, )))\n",
    "    model.add(Activation('relu'))    # use relu\n",
    "    model.add(Dense(50))\n",
    "    model.add(Activation('relu'))    # use relu\n",
    "    model.add(Dense(50))\n",
    "    model.add(Activation('relu'))    # use relu\n",
    "    model.add(Dense(50))\n",
    "    model.add(Activation('relu'))    # use relu\n",
    "    model.add(Dense(1))\n",
    "    model.add(Activation('sigmoid'))\n",
    "    \n",
    "    sgd = optimizers.SGD(lr = 0.001)\n",
    "    model.compile(optimizer = sgd, loss = 'binary_crossentropy', metrics = ['accuracy'])\n",
    "    \n",
    "    return model"
   ]
  },
  {
   "cell_type": "code",
   "execution_count": 105,
   "metadata": {},
   "outputs": [],
   "source": [
    "modelnl = mlp_model_nl(61)\n",
    "historynl = modelnl.fit(x1, y1, validation_split = 0.3, epochs = 100, verbose = 0)"
   ]
  },
  {
   "cell_type": "code",
   "execution_count": 106,
   "metadata": {},
   "outputs": [
    {
     "data": {
      "image/png": "[encoded data removed]",
      "text/plain": [
       "<Figure size 1080x360 with 2 Axes>"
      ]
     },
     "metadata": {
      "needs_background": "light"
     },
     "output_type": "display_data"
    }
   ],
   "source": [
    "plot_model_history(historynl)"
   ]
  },
  {
   "cell_type": "code",
   "execution_count": 108,
   "metadata": {},
   "outputs": [
    {
     "name": "stdout",
     "output_type": "stream",
     "text": [
      "7000/7000 [==============================] - 0s 13us/step\n",
      "Train accuracy:  0.7992857098579407\n",
      "3000/3000 [==============================] - 0s 11us/step\n",
      "Test accuracy:  0.8006666898727417\n"
     ]
    }
   ],
   "source": [
    "results_nl1 = modelnl.evaluate(x1, y1)\n",
    "print('Train accuracy: ', results_nl1[1])\n",
    "results_nl2 = modelnl.evaluate(x2, y2)\n",
    "print('Test accuracy: ', results_nl2[1])"
   ]
  },
  {
   "cell_type": "code",
   "execution_count": 109,
   "metadata": {},
   "outputs": [
    {
     "name": "stdout",
     "output_type": "stream",
     "text": [
      "              precision    recall  f1-score   support\n",
      "\n",
      "         0.0       0.80      0.99      0.89      2382\n",
      "         1.0       0.67      0.06      0.12       618\n",
      "\n",
      "    accuracy                           0.80      3000\n",
      "   macro avg       0.74      0.53      0.50      3000\n",
      "weighted avg       0.78      0.80      0.73      3000\n",
      "\n",
      "AUC 0.5281643067341631\n"
     ]
    }
   ],
   "source": [
    "y_pred_nl = modelnl.predict(x2)\n",
    "y_pred_nl = (y_pred_nl > 0.5)\n",
    "print(classification_report(y2, y_pred_nl)) \n",
    "print(\"AUC\",roc_auc_score(y2, y_pred_nl))"
   ]
  },
  {
   "cell_type": "markdown",
   "metadata": {},
   "source": [
    "# 4. Selu Activation"
   ]
  },
  {
   "cell_type": "code",
   "execution_count": 110,
   "metadata": {},
   "outputs": [],
   "source": [
    "def mlp_model_t(x):\n",
    "    model = Sequential()\n",
    "    \n",
    "    model.add(Dense(50,input_shape = (x, )))\n",
    "    model.add(Activation('selu'))    # use tanh\n",
    "    model.add(Dense(50))\n",
    "    model.add(Activation('selu'))    # use tanh\n",
    "    model.add(Dense(50))\n",
    "    model.add(Activation('selu'))    # use tanh\n",
    "    model.add(Dense(50))\n",
    "    model.add(Activation('selu'))    # use tanh\n",
    "    model.add(Dense(1))\n",
    "    model.add(Activation('sigmoid'))\n",
    "    \n",
    "    sgd = optimizers.SGD(lr = 0.001)\n",
    "    model.compile(optimizer = sgd, loss = 'binary_crossentropy', metrics = ['accuracy'])\n",
    "    \n",
    "    return model"
   ]
  },
  {
   "cell_type": "code",
   "execution_count": 111,
   "metadata": {},
   "outputs": [],
   "source": [
    "modelt = mlp_model_t(61)\n",
    "historyt = modelt.fit(x1, y1, validation_split = 0.3, epochs = 100, verbose = 0)"
   ]
  },
  {
   "cell_type": "code",
   "execution_count": 112,
   "metadata": {},
   "outputs": [
    {
     "name": "stdout",
     "output_type": "stream",
     "text": [
      "7000/7000 [==============================] - 0s 36us/step\n",
      "Train accuracy:  0.8531428575515747\n",
      "3000/3000 [==============================] - 0s 39us/step\n",
      "Test accuracy:  0.8486666679382324\n"
     ]
    }
   ],
   "source": [
    "results_t1 = modelt.evaluate(x1, y1)\n",
    "print('Train accuracy: ', results_t1[1])\n",
    "results_t2 = modelt.evaluate(x2, y2)\n",
    "print('Test accuracy: ', results_t2[1])"
   ]
  },
  {
   "cell_type": "code",
   "execution_count": 113,
   "metadata": {},
   "outputs": [
    {
     "name": "stdout",
     "output_type": "stream",
     "text": [
      "              precision    recall  f1-score   support\n",
      "\n",
      "         0.0       0.87      0.95      0.91      2382\n",
      "         1.0       0.70      0.46      0.56       618\n",
      "\n",
      "    accuracy                           0.85      3000\n",
      "   macro avg       0.79      0.71      0.73      3000\n",
      "weighted avg       0.84      0.85      0.84      3000\n",
      "\n",
      "AUC 0.7063820074507023\n"
     ]
    }
   ],
   "source": [
    "y_pred_t = modelt.predict(x2)\n",
    "y_pred_t = (y_pred_t > 0.5)\n",
    "print(classification_report(y2, y_pred_t)) \n",
    "print(\"AUC\",roc_auc_score(y2, y_pred_t))"
   ]
  },
  {
   "cell_type": "code",
   "execution_count": 114,
   "metadata": {},
   "outputs": [
    {
     "data": {
      "image/png": "[encoded data removed]",
      "text/plain": [
       "<Figure size 1080x360 with 2 Axes>"
      ]
     },
     "metadata": {
      "needs_background": "light"
     },
     "output_type": "display_data"
    }
   ],
   "source": [
    "plot_model_history(historyt)"
   ]
  },
  {
   "cell_type": "markdown",
   "metadata": {},
   "source": [
    "# 5. Batch Normalization"
   ]
  },
  {
   "cell_type": "code",
   "execution_count": 115,
   "metadata": {},
   "outputs": [],
   "source": [
    "def mlp_model_b():\n",
    "    model = Sequential()\n",
    "    \n",
    "    model.add(Dense(50, input_shape = (61, )))\n",
    "    model.add(BatchNormalization())                    # Add Batchnorm layer before Activation\n",
    "    model.add(Activation('selu'))    \n",
    "    model.add(Dense(50))\n",
    "    model.add(BatchNormalization())                    # Add Batchnorm layer before Activation\n",
    "    model.add(Activation('selu'))    \n",
    "    model.add(Dense(50))\n",
    "    model.add(BatchNormalization())                    # Add Batchnorm layer before Activation\n",
    "    model.add(Activation('selu'))    \n",
    "    model.add(Dense(50))\n",
    "    model.add(BatchNormalization())                    # Add Batchnorm layer before Activation\n",
    "    model.add(Activation('selu'))    \n",
    "    model.add(Dense(1))\n",
    "    model.add(Activation('sigmoid'))\n",
    "    \n",
    "    sgd = optimizers.SGD(lr = 0.001)\n",
    "    model.compile(optimizer = sgd, loss = 'binary_crossentropy', metrics = ['accuracy'])\n",
    "    \n",
    "    return model\n"
   ]
  },
  {
   "cell_type": "code",
   "execution_count": 116,
   "metadata": {},
   "outputs": [],
   "source": [
    "modelb = mlp_model_b()\n",
    "historyb = modelb.fit(x1, y1, validation_split = 0.3, epochs = 100, verbose = 0)"
   ]
  },
  {
   "cell_type": "code",
   "execution_count": 117,
   "metadata": {},
   "outputs": [
    {
     "name": "stdout",
     "output_type": "stream",
     "text": [
      "7000/7000 [==============================] - 0s 48us/step\n",
      "Train accuracy:  0.8617143034934998\n",
      "3000/3000 [==============================] - 0s 48us/step\n",
      "Test accuracy:  0.8496666550636292\n"
     ]
    }
   ],
   "source": [
    "results_b1 = modelb.evaluate(x1, y1)\n",
    "print('Train accuracy: ', results_b1[1])\n",
    "results_b2 = modelb.evaluate(x2, y2)\n",
    "print('Test accuracy: ', results_b2[1])"
   ]
  },
  {
   "cell_type": "code",
   "execution_count": 118,
   "metadata": {},
   "outputs": [
    {
     "name": "stdout",
     "output_type": "stream",
     "text": [
      "              precision    recall  f1-score   support\n",
      "\n",
      "         0.0       0.87      0.95      0.91      2382\n",
      "         1.0       0.71      0.45      0.55       618\n",
      "\n",
      "    accuracy                           0.85      3000\n",
      "   macro avg       0.79      0.70      0.73      3000\n",
      "weighted avg       0.84      0.85      0.84      3000\n",
      "\n",
      "AUC 0.7034168072844065\n"
     ]
    }
   ],
   "source": [
    "y_pred_b = modelb.predict(x2)\n",
    "y_pred_b = (y_pred_b > 0.5)\n",
    "print(classification_report(y2, y_pred_b)) \n",
    "print(\"AUC\",roc_auc_score(y2, y_pred_b))"
   ]
  },
  {
   "cell_type": "code",
   "execution_count": 119,
   "metadata": {},
   "outputs": [
    {
     "data": {
      "image/png": "[encoded data removed]",
      "text/plain": [
       "<Figure size 1080x360 with 2 Axes>"
      ]
     },
     "metadata": {
      "needs_background": "light"
     },
     "output_type": "display_data"
    }
   ],
   "source": [
    "plot_model_history(historyb)"
   ]
  },
  {
   "cell_type": "markdown",
   "metadata": {},
   "source": [
    "# 6. Adam Optimiser"
   ]
  },
  {
   "cell_type": "code",
   "execution_count": 120,
   "metadata": {},
   "outputs": [],
   "source": [
    "def mlp_model_a():\n",
    "    model = Sequential()\n",
    "    \n",
    "    model.add(Dense(50, input_shape = (61, )))\n",
    "    model.add(Activation('selu'))    \n",
    "    model.add(Dense(50))\n",
    "    model.add(Activation('selu'))  \n",
    "    model.add(Dense(50))\n",
    "    model.add(Activation('selu'))    \n",
    "    model.add(Dense(50))\n",
    "    model.add(Activation('selu'))    \n",
    "    model.add(Dense(1))\n",
    "    model.add(Activation('sigmoid'))\n",
    "    \n",
    "    adam = optimizers.Adam(lr = 0.001)                     # use Adam optimizer\n",
    "    model.compile(optimizer = adam, loss = 'binary_crossentropy', metrics = ['accuracy'])\n",
    "    \n",
    "    return model"
   ]
  },
  {
   "cell_type": "code",
   "execution_count": 121,
   "metadata": {},
   "outputs": [],
   "source": [
    "modela = mlp_model_a()\n",
    "historya = modela.fit(x1, y1, validation_split = 0.3, epochs = 100, verbose = 0)"
   ]
  },
  {
   "cell_type": "code",
   "execution_count": 122,
   "metadata": {},
   "outputs": [
    {
     "name": "stdout",
     "output_type": "stream",
     "text": [
      "7000/7000 [==============================] - 0s 34us/step\n",
      "Train accuracy:  0.9178571701049805\n",
      "3000/3000 [==============================] - 0s 37us/step\n",
      "Test accuracy:  0.8066666722297668\n"
     ]
    }
   ],
   "source": [
    "results_a1 = modela.evaluate(x1, y1)\n",
    "print('Train accuracy: ', results_a1[1])\n",
    "results_a2 = modela.evaluate(x2, y2)\n",
    "print('Test accuracy: ', results_a2[1])"
   ]
  },
  {
   "cell_type": "code",
   "execution_count": 123,
   "metadata": {},
   "outputs": [
    {
     "name": "stdout",
     "output_type": "stream",
     "text": [
      "              precision    recall  f1-score   support\n",
      "\n",
      "         0.0       0.88      0.87      0.88      2382\n",
      "         1.0       0.53      0.55      0.54       618\n",
      "\n",
      "    accuracy                           0.81      3000\n",
      "   macro avg       0.71      0.71      0.71      3000\n",
      "weighted avg       0.81      0.81      0.81      3000\n",
      "\n",
      "AUC 0.7110896448281203\n"
     ]
    }
   ],
   "source": [
    "y_pred_a = modela.predict(x2)\n",
    "y_pred_a = (y_pred_a > 0.5)\n",
    "print(classification_report(y2, y_pred_a)) \n",
    "print(\"AUC\",roc_auc_score(y2, y_pred_a))"
   ]
  },
  {
   "cell_type": "code",
   "execution_count": 124,
   "metadata": {},
   "outputs": [
    {
     "data": {
      "image/png": "[encoded data removed]",
      "text/plain": [
       "<Figure size 1080x360 with 2 Axes>"
      ]
     },
     "metadata": {
      "needs_background": "light"
     },
     "output_type": "display_data"
    }
   ],
   "source": [
    "plot_model_history(historya)"
   ]
  },
  {
   "cell_type": "markdown",
   "metadata": {},
   "source": [
    "# 7. Dropout (Regularization)"
   ]
  },
  {
   "cell_type": "code",
   "execution_count": 125,
   "metadata": {},
   "outputs": [],
   "source": [
    "from keras.layers import Dropout"
   ]
  },
  {
   "cell_type": "code",
   "execution_count": 126,
   "metadata": {},
   "outputs": [],
   "source": [
    "def mlp_model_d(x):\n",
    "    model = Sequential()\n",
    "    \n",
    "    model.add(Dense(50, input_shape = (x, )))\n",
    "    model.add(Activation('selu'))    \n",
    "    model.add(Dropout(0.25))                        # Dropout layer after Activation\n",
    "    model.add(Dense(50))\n",
    "    model.add(Activation('selu'))\n",
    "    model.add(Dropout(0.25))                        # Dropout layer after Activation\n",
    "    model.add(Dense(50))\n",
    "    model.add(Activation('selu'))    \n",
    "    model.add(Dropout(0.25))                        # Dropout layer after Activation\n",
    "    model.add(Dense(50))\n",
    "    model.add(Activation('selu'))    \n",
    "    model.add(Dropout(0.25))                         # Dropout layer after Activation\n",
    "    model.add(Dense(1))\n",
    "    model.add(Activation('sigmoid'))\n",
    "    \n",
    "    sgd = optimizers.SGD(lr = 0.001)\n",
    "    model.compile(optimizer = sgd, loss = 'binary_crossentropy', metrics = ['accuracy'])\n",
    "    \n",
    "    return model"
   ]
  },
  {
   "cell_type": "code",
   "execution_count": 127,
   "metadata": {},
   "outputs": [],
   "source": [
    "modeld = mlp_model_d(61)\n",
    "historyd = modeld.fit(x1, y1, validation_split = 0.3, epochs = 100, verbose = 0)"
   ]
  },
  {
   "cell_type": "code",
   "execution_count": 128,
   "metadata": {},
   "outputs": [
    {
     "name": "stdout",
     "output_type": "stream",
     "text": [
      "7000/7000 [==============================] - 0s 45us/step\n",
      "Train accuracy:  0.8342857360839844\n",
      "3000/3000 [==============================] - 0s 45us/step\n",
      "Test accuracy:  0.8376666903495789\n"
     ]
    }
   ],
   "source": [
    "results_d1 = modeld.evaluate(x1, y1)\n",
    "print('Train accuracy: ', results_d1[1])\n",
    "results_d2 = modeld.evaluate(x2, y2)\n",
    "print('Test accuracy: ', results_d2[1])"
   ]
  },
  {
   "cell_type": "code",
   "execution_count": 129,
   "metadata": {},
   "outputs": [
    {
     "name": "stdout",
     "output_type": "stream",
     "text": [
      "              precision    recall  f1-score   support\n",
      "\n",
      "         0.0       0.85      0.96      0.90      2382\n",
      "         1.0       0.70      0.37      0.49       618\n",
      "\n",
      "    accuracy                           0.84      3000\n",
      "   macro avg       0.78      0.67      0.69      3000\n",
      "weighted avg       0.82      0.84      0.82      3000\n",
      "\n",
      "AUC 0.6653032859716483\n"
     ]
    }
   ],
   "source": [
    "y_pred_d = modeld.predict(x2)\n",
    "y_pred_d = (y_pred_d > 0.5)\n",
    "print(classification_report(y2, y_pred_d)) \n",
    "print(\"AUC\",roc_auc_score(y2, y_pred_d))"
   ]
  },
  {
   "cell_type": "code",
   "execution_count": 130,
   "metadata": {},
   "outputs": [
    {
     "data": {
      "image/png": "[encoded data removed]",
      "text/plain": [
       "<Figure size 1080x360 with 2 Axes>"
      ]
     },
     "metadata": {
      "needs_background": "light"
     },
     "output_type": "display_data"
    }
   ],
   "source": [
    "plot_model_history(historyd)"
   ]
  },
  {
   "cell_type": "markdown",
   "metadata": {},
   "source": [
    "# 8. Ensemble method (Adam optimiser model)"
   ]
  },
  {
   "cell_type": "code",
   "execution_count": 131,
   "metadata": {},
   "outputs": [],
   "source": [
    "from keras.wrappers.scikit_learn import KerasClassifier\n",
    "from sklearn.ensemble import VotingClassifier"
   ]
  },
  {
   "cell_type": "code",
   "execution_count": 132,
   "metadata": {},
   "outputs": [],
   "source": [
    "model1 = KerasClassifier(build_fn = mlp_model_a, epochs = 100, verbose = 0)\n",
    "model2 = KerasClassifier(build_fn = mlp_model_a, epochs = 100, verbose = 0)\n",
    "model3 = KerasClassifier(build_fn = mlp_model_a, epochs = 100, verbose = 0)\n",
    "model4 = KerasClassifier(build_fn = mlp_model_a, epochs = 100, verbose = 0)\n",
    "model5 = KerasClassifier(build_fn = mlp_model_a, epochs = 100, verbose = 0)\n",
    "model6 = KerasClassifier(build_fn = mlp_model_a, epochs = 100, verbose = 0)\n",
    "model7 = KerasClassifier(build_fn = mlp_model_a, epochs = 100, verbose = 0)\n",
    "model8 = KerasClassifier(build_fn = mlp_model_a, epochs = 100, verbose = 0)"
   ]
  },
  {
   "cell_type": "code",
   "execution_count": 133,
   "metadata": {},
   "outputs": [],
   "source": [
    "ensemble_clf = VotingClassifier(estimators = [('model1', model1), ('model2', model2), ('model3', model3), \n",
    "                                             ('model4', model4), ('model5', model5), ('model6', model6), \n",
    "                                             ('model7', model7), ('model8', model8)], voting = 'soft')"
   ]
  },
  {
   "cell_type": "code",
   "execution_count": 134,
   "metadata": {},
   "outputs": [
    {
     "data": {
      "text/plain": [
       "VotingClassifier(estimators=[('model1',\n",
       "                              <keras.wrappers.scikit_learn.KerasClassifier object at 0x000002736A3E1588>),\n",
       "                             ('model2',\n",
       "                              <keras.wrappers.scikit_learn.KerasClassifier object at 0x0000027367F50048>),\n",
       "                             ('model3',\n",
       "                              <keras.wrappers.scikit_learn.KerasClassifier object at 0x000002736A517148>),\n",
       "                             ('model4',\n",
       "                              <keras.wrappers.scikit_learn.KerasClassifier object at 0x00000273...\n",
       "                              <keras.wrappers.scikit_learn.KerasClassifier object at 0x0000027367F47308>),\n",
       "                             ('model6',\n",
       "                              <keras.wrappers.scikit_learn.KerasClassifier object at 0x0000027367F47508>),\n",
       "                             ('model7',\n",
       "                              <keras.wrappers.scikit_learn.KerasClassifier object at 0x0000027364264488>),\n",
       "                             ('model8',\n",
       "                              <keras.wrappers.scikit_learn.KerasClassifier object at 0x0000027367F2CDC8>)],\n",
       "                 flatten_transform=True, n_jobs=None, voting='soft',\n",
       "                 weights=None)"
      ]
     },
     "execution_count": 134,
     "metadata": {},
     "output_type": "execute_result"
    }
   ],
   "source": [
    "ensemble_clf.fit(x1, y1)"
   ]
  },
  {
   "cell_type": "code",
   "execution_count": 135,
   "metadata": {},
   "outputs": [],
   "source": [
    "from sklearn.metrics import accuracy_score"
   ]
  },
  {
   "cell_type": "code",
   "execution_count": 138,
   "metadata": {},
   "outputs": [
    {
     "name": "stdout",
     "output_type": "stream",
     "text": [
      "Train set accuracy: 0.985\n",
      "Test accuracy: 0.8396666666666667\n"
     ]
    }
   ],
   "source": [
    "\n",
    "y_pred_e = ensemble_clf.predict(x2)\n",
    "train_acc1 = ensemble_clf.score(x1,y1)\n",
    "print(\"Train set accuracy: {:.3f}\".format(train_acc1))\n",
    "print('Test accuracy:', accuracy_score(y_pred_e,y2))"
   ]
  },
  {
   "cell_type": "code",
   "execution_count": 140,
   "metadata": {},
   "outputs": [
    {
     "name": "stdout",
     "output_type": "stream",
     "text": [
      "              precision    recall  f1-score   support\n",
      "\n",
      "         0.0       0.88      0.92      0.90      2382\n",
      "         1.0       0.63      0.52      0.57       618\n",
      "\n",
      "    accuracy                           0.84      3000\n",
      "   macro avg       0.76      0.72      0.74      3000\n",
      "weighted avg       0.83      0.84      0.83      3000\n",
      "\n",
      "AUC 0.7228831935307688\n"
     ]
    }
   ],
   "source": [
    "y_pred_e = (y_pred_e > 0.5)\n",
    "print(classification_report(y2, y_pred_e)) \n",
    "print(\"AUC\",roc_auc_score(y2, y_pred_e))"
   ]
  },
  {
   "cell_type": "markdown",
   "metadata": {},
   "source": [
    "# 9. Ensemble method ( Batch Normalization model)"
   ]
  },
  {
   "cell_type": "code",
   "execution_count": 141,
   "metadata": {},
   "outputs": [],
   "source": [
    "model11 = KerasClassifier(build_fn = mlp_model_b, epochs = 50, verbose = 0)\n",
    "model21 = KerasClassifier(build_fn = mlp_model_b, epochs = 50, verbose = 0)\n",
    "model31 = KerasClassifier(build_fn = mlp_model_b, epochs = 50, verbose = 0)\n",
    "model41 = KerasClassifier(build_fn = mlp_model_b, epochs = 50, verbose = 0)\n",
    "model51 = KerasClassifier(build_fn = mlp_model_b, epochs = 50, verbose = 0)\n",
    "model61 = KerasClassifier(build_fn = mlp_model_b, epochs = 50, verbose = 0)\n",
    "model71 = KerasClassifier(build_fn = mlp_model_b, epochs = 50, verbose = 0)\n",
    "model81 = KerasClassifier(build_fn = mlp_model_b, epochs = 50, verbose = 0)"
   ]
  },
  {
   "cell_type": "code",
   "execution_count": 142,
   "metadata": {},
   "outputs": [],
   "source": [
    "ensemble_clf1 = VotingClassifier(estimators = [('model11', model11), ('model21', model21), ('model31', model31),\n",
    "                                              ('model41', model41),('model51', model51), ('model61', model61),\n",
    "                                        ('model71', model71),('model81', model81)], voting = 'soft')"
   ]
  },
  {
   "cell_type": "code",
   "execution_count": 143,
   "metadata": {},
   "outputs": [
    {
     "data": {
      "text/plain": [
       "VotingClassifier(estimators=[('model11',\n",
       "                              <keras.wrappers.scikit_learn.KerasClassifier object at 0x0000027372468D08>),\n",
       "                             ('model21',\n",
       "                              <keras.wrappers.scikit_learn.KerasClassifier object at 0x0000027372468CC8>),\n",
       "                             ('model31',\n",
       "                              <keras.wrappers.scikit_learn.KerasClassifier object at 0x0000027372468D48>),\n",
       "                             ('model41',\n",
       "                              <keras.wrappers.scikit_learn.KerasClassifier object at 0x0000...\n",
       "                              <keras.wrappers.scikit_learn.KerasClassifier object at 0x0000027372468E88>),\n",
       "                             ('model61',\n",
       "                              <keras.wrappers.scikit_learn.KerasClassifier object at 0x0000027372468EC8>),\n",
       "                             ('model71',\n",
       "                              <keras.wrappers.scikit_learn.KerasClassifier object at 0x0000027372468F08>),\n",
       "                             ('model81',\n",
       "                              <keras.wrappers.scikit_learn.KerasClassifier object at 0x0000027372468F48>)],\n",
       "                 flatten_transform=True, n_jobs=None, voting='soft',\n",
       "                 weights=None)"
      ]
     },
     "execution_count": 143,
     "metadata": {},
     "output_type": "execute_result"
    }
   ],
   "source": [
    "ensemble_clf1.fit(x1, y1)"
   ]
  },
  {
   "cell_type": "code",
   "execution_count": 144,
   "metadata": {},
   "outputs": [
    {
     "name": "stdout",
     "output_type": "stream",
     "text": [
      "Train set accuracy: 0.857\n",
      "Test accuracy: 0.8513333333333334\n"
     ]
    }
   ],
   "source": [
    "y_pred_e1 = ensemble_clf1.predict(x2)\n",
    "train_acc11 = ensemble_clf1.score(x1,y1)\n",
    "print(\"Train set accuracy: {:.3f}\".format(train_acc11))\n",
    "print('Test accuracy:', accuracy_score(y_pred_e1,y2))"
   ]
  },
  {
   "cell_type": "code",
   "execution_count": 145,
   "metadata": {
    "scrolled": true
   },
   "outputs": [
    {
     "name": "stdout",
     "output_type": "stream",
     "text": [
      "              precision    recall  f1-score   support\n",
      "\n",
      "         0.0       0.87      0.96      0.91      2382\n",
      "         1.0       0.73      0.45      0.55       618\n",
      "\n",
      "    accuracy                           0.85      3000\n",
      "   macro avg       0.80      0.70      0.73      3000\n",
      "weighted avg       0.84      0.85      0.84      3000\n",
      "\n",
      "AUC 0.701470576247422\n"
     ]
    }
   ],
   "source": [
    "y_pred_e1 = (y_pred_e1 > 0.5)\n",
    "print(classification_report(y2, y_pred_e1)) \n",
    "print(\"AUC\",roc_auc_score(y2, y_pred_e1))"
   ]
  },
  {
   "cell_type": "markdown",
   "metadata": {},
   "source": [
    "# KNN"
   ]
  },
  {
   "cell_type": "code",
   "execution_count": 146,
   "metadata": {},
   "outputs": [],
   "source": [
    "from sklearn.neighbors import KNeighborsClassifier\n",
    "from sklearn import metrics\n",
    "from sklearn.model_selection import cross_val_score"
   ]
  },
  {
   "cell_type": "markdown",
   "metadata": {},
   "source": [
    "# 10. Random value for k"
   ]
  },
  {
   "cell_type": "code",
   "execution_count": 147,
   "metadata": {},
   "outputs": [
    {
     "name": "stdout",
     "output_type": "stream",
     "text": [
      "Train set accuracy: 0.848\n"
     ]
    },
    {
     "data": {
      "text/plain": [
       "0.8026666666666666"
      ]
     },
     "execution_count": 147,
     "metadata": {},
     "output_type": "execute_result"
    }
   ],
   "source": [
    "knn1 = KNeighborsClassifier(n_neighbors=5)\n",
    "knn1.fit(x1, y1)\n",
    "train_acck1 = knn1.score(x1,y1)\n",
    "print(\"Train set accuracy: {:.3f}\".format(train_acck1))\n",
    "y_pred_k1 = knn1.predict(x2)\n",
    "metrics.accuracy_score(y2, y_pred_k1)"
   ]
  },
  {
   "cell_type": "code",
   "execution_count": 148,
   "metadata": {},
   "outputs": [
    {
     "name": "stdout",
     "output_type": "stream",
     "text": [
      "Test accuracy: 0.8026666666666666\n",
      "              precision    recall  f1-score   support\n",
      "\n",
      "         0.0       0.83      0.95      0.88      2382\n",
      "         1.0       0.55      0.23      0.32       618\n",
      "\n",
      "    accuracy                           0.80      3000\n",
      "   macro avg       0.69      0.59      0.60      3000\n",
      "weighted avg       0.77      0.80      0.77      3000\n",
      "\n",
      "AUC 0.5893391373814939\n"
     ]
    }
   ],
   "source": [
    "y_pred_k1 = (y_pred_k1 > 0.5)\n",
    "print('Test accuracy:', accuracy_score(y_pred_k1,y2))\n",
    "print(classification_report(y2, y_pred_k1)) \n",
    "print(\"AUC\",roc_auc_score(y2, y_pred_k1))"
   ]
  },
  {
   "cell_type": "markdown",
   "metadata": {},
   "source": [
    "# 11. Finding the optimal value for \"K\""
   ]
  },
  {
   "cell_type": "code",
   "execution_count": 149,
   "metadata": {},
   "outputs": [
    {
     "name": "stdout",
     "output_type": "stream",
     "text": [
      "[0.7500061227530201, 0.78928778455233, 0.7798639043869768, 0.7912882020458933, 0.7912888128343118, 0.7981467778505671, 0.7945771810613025, 0.7977177970917142, 0.7978592282841392, 0.8007163740567401, 0.8000026997139644, 0.7987167804715636, 0.7995767781450283, 0.8001451457772653, 0.8015745352833081, 0.8008592288672309, 0.8005749422812233, 0.8002869816352394, 0.8015739215794317, 0.7998590215781782, 0.8015718795927572, 0.8000012656002505, 0.7995726953378622, 0.7981426932941263, 0.8001426967926758, 0.7978575915461052, 0.7997157562712227, 0.7978577953366085, 0.7988577970858832, 0.7965718760942078]\n"
     ]
    }
   ],
   "source": [
    "# search for an optimal value of K for KNN\n",
    "\n",
    "# range of k we want to try\n",
    "neighbors = list(range(1, 31))\n",
    "# empty list to store scores\n",
    "k_scores = []\n",
    "\n",
    "# 1. we will loop through reasonable values of k\n",
    "for k in neighbors:\n",
    "    # 2. run KNeighborsClassifier with k neighbours\n",
    "    knn = KNeighborsClassifier(n_neighbors=k)\n",
    "    # 3. obtain cross_val_score for KNeighborsClassifier with k neighbours\n",
    "    scores = cross_val_score(knn, x1, y1, cv=10, scoring='accuracy')\n",
    "    # 4. append mean of scores for k neighbors to k_scores list\n",
    "    k_scores.append(scores.mean())\n",
    "\n",
    "print(k_scores)"
   ]
  },
  {
   "cell_type": "code",
   "execution_count": 150,
   "metadata": {},
   "outputs": [
    {
     "name": "stdout",
     "output_type": "stream",
     "text": [
      "Length of list 30\n",
      "Max of list 0.8015745352833081\n"
     ]
    }
   ],
   "source": [
    "print('Length of list', len(k_scores))\n",
    "print('Max of list', max(k_scores))"
   ]
  },
  {
   "cell_type": "code",
   "execution_count": 151,
   "metadata": {},
   "outputs": [
    {
     "data": {
      "text/plain": [
       "Text(0, 0.5, 'Cross-validated accuracy')"
      ]
     },
     "execution_count": 151,
     "metadata": {},
     "output_type": "execute_result"
    },
    {
     "data": {
      "image/png": "[encoded data removed]",
      "text/plain": [
       "<Figure size 432x288 with 1 Axes>"
      ]
     },
     "metadata": {
      "needs_background": "light"
     },
     "output_type": "display_data"
    }
   ],
   "source": [
    "plt.plot(neighbors, k_scores)\n",
    "plt.xlabel('Value of K for KNN')\n",
    "plt.ylabel('Cross-validated accuracy')"
   ]
  },
  {
   "cell_type": "code",
   "execution_count": 152,
   "metadata": {},
   "outputs": [
    {
     "name": "stdout",
     "output_type": "stream",
     "text": [
      "0.8015718795927572\n"
     ]
    }
   ],
   "source": [
    "knn2 = KNeighborsClassifier(n_neighbors=21)\n",
    "\n",
    "# Instead of saving 10 scores in object named score and calculating mean\n",
    "# We're just calculating the mean directly on the results\n",
    "print(cross_val_score(knn2, x1, y1, cv=10, scoring='accuracy').mean())"
   ]
  },
  {
   "cell_type": "code",
   "execution_count": 153,
   "metadata": {},
   "outputs": [
    {
     "name": "stdout",
     "output_type": "stream",
     "text": [
      "Train set accuracy: 0.812\n",
      "Test accuracy: 0.814\n",
      "              precision    recall  f1-score   support\n",
      "\n",
      "         0.0       0.81      0.99      0.89      2382\n",
      "         1.0       0.82      0.12      0.22       618\n",
      "\n",
      "    accuracy                           0.81      3000\n",
      "   macro avg       0.82      0.56      0.56      3000\n",
      "weighted avg       0.81      0.81      0.75      3000\n",
      "\n",
      "AUC 0.5587293047369837\n"
     ]
    }
   ],
   "source": [
    "knn2.fit(x1, y1)\n",
    "train_acck2 = knn2.score(x1,y1)\n",
    "print(\"Train set accuracy: {:.3f}\".format(train_acck2))\n",
    "y_pred_k11 = knn2.predict(x2)\n",
    "y_pred_k11 = (y_pred_k11 > 0.5)\n",
    "print('Test accuracy:', accuracy_score(y_pred_k11,y2))\n",
    "print(classification_report(y2, y_pred_k11)) \n",
    "print(\"AUC\",roc_auc_score(y2, y_pred_k11))"
   ]
  },
  {
   "cell_type": "code",
   "execution_count": 155,
   "metadata": {},
   "outputs": [
    {
     "name": "stdout",
     "output_type": "stream",
     "text": [
      "The optimal number of neighbors is 15\n"
     ]
    },
    {
     "data": {
      "image/png": "[encoded data removed]",
      "text/plain": [
       "<Figure size 432x288 with 1 Axes>"
      ]
     },
     "metadata": {
      "needs_background": "light"
     },
     "output_type": "display_data"
    }
   ],
   "source": [
    "# changing to misclassification error\n",
    "mse = [1 - x for x in k_scores]\n",
    "\n",
    "# determining best k\n",
    "optimal_k = neighbors[mse.index(min(mse))]\n",
    "print(\"The optimal number of neighbors is {}\".format(optimal_k))\n",
    "\n",
    "# plot misclassification error vs k\n",
    "plt.plot(neighbors, mse)\n",
    "plt.xlabel(\"Number of Neighbors K\")\n",
    "plt.ylabel(\"Misclassification Error\")\n",
    "plt.show()\n"
   ]
  },
  {
   "cell_type": "code",
   "execution_count": 156,
   "metadata": {},
   "outputs": [
    {
     "data": {
      "image/png": "[encoded data removed]",
      "text/plain": [
       "<Figure size 432x288 with 1 Axes>"
      ]
     },
     "metadata": {
      "needs_background": "light"
     },
     "output_type": "display_data"
    }
   ],
   "source": [
    "from sklearn.metrics import roc_curve, auc\n",
    "neighbors = list(range(1,31))\n",
    "train_results = []\n",
    "test_results = []\n",
    "for n in neighbors:\n",
    "    model = KNeighborsClassifier(n_neighbors=n)\n",
    "    model.fit(x1, y1)  \n",
    "    train_pred = model.predict(x1)   \n",
    "    false_positive_rate, true_positive_rate, thresholds = roc_curve(y1, train_pred)\n",
    "    roc_auc = auc(false_positive_rate, true_positive_rate)\n",
    "    train_results.append(roc_auc)   \n",
    "    y_pred = model.predict(x2)   \n",
    "    false_positive_rate, true_positive_rate, thresholds = roc_curve(y2, y_pred)\n",
    "    roc_auc = auc(false_positive_rate, true_positive_rate)\n",
    "    test_results.append(roc_auc)\n",
    "from matplotlib.legend_handler import HandlerLine2D\n",
    "line1, = plt.plot(neighbors, train_results,'b', label=\"Train AUC\")\n",
    "line2, = plt.plot(neighbors, test_results, 'r',label=\"Test AUC\")\n",
    "plt.legend(handler_map={line1: HandlerLine2D(numpoints=2)})\n",
    "plt.ylabel('AUC score')\n",
    "plt.xlabel('n_neighbors')\n",
    "plt.show()"
   ]
  },
  {
   "cell_type": "markdown",
   "metadata": {},
   "source": [
    "# 12. Changing the distance"
   ]
  },
  {
   "cell_type": "code",
   "execution_count": 157,
   "metadata": {},
   "outputs": [
    {
     "data": {
      "image/png": "[encoded data removed]",
      "text/plain": [
       "<Figure size 432x288 with 1 Axes>"
      ]
     },
     "metadata": {
      "needs_background": "light"
     },
     "output_type": "display_data"
    }
   ],
   "source": [
    "distances = [1, 2, 3, 4, 5]\n",
    "train_results = []\n",
    "test_results = []\n",
    "for p in distances:\n",
    "    model = KNeighborsClassifier(p=p)\n",
    "    model.fit(x1, y1)  \n",
    "    train_pred = model.predict(x1)   \n",
    "    false_positive_rate, true_positive_rate, thresholds = roc_curve(y1, train_pred)\n",
    "    roc_auc = auc(false_positive_rate, true_positive_rate)\n",
    "    train_results.append(roc_auc)   \n",
    "    y_pred = model.predict(x2)   \n",
    "    false_positive_rate, true_positive_rate, thresholds = roc_curve(y2, y_pred)\n",
    "    roc_auc = auc(false_positive_rate, true_positive_rate)\n",
    "    test_results.append(roc_auc)\n",
    "from matplotlib.legend_handler import HandlerLine2D\n",
    "line1, = plt.plot(distances, train_results,'b', label=\"Train AUC\")\n",
    "line2, = plt.plot(distances, test_results, 'r',label=\"Test AUC\")\n",
    "plt.legend(handler_map={line1: HandlerLine2D(numpoints=2)})\n",
    "plt.ylabel('AUC score')\n",
    "plt.xlabel('P')\n",
    "plt.show()"
   ]
  },
  {
   "cell_type": "code",
   "execution_count": 158,
   "metadata": {},
   "outputs": [],
   "source": [
    "k_range = list(range(1, 31))\n",
    "\n",
    "# Another parameter besides k that we might vary is the weights parameters\n",
    "# default options --> uniform (all points in the neighborhood are weighted equally)\n",
    "# another option --> distance (weights closer neighbors more heavily than further neighbors)\n",
    "weight_options = [ 'distance']"
   ]
  },
  {
   "cell_type": "code",
   "execution_count": 159,
   "metadata": {},
   "outputs": [],
   "source": [
    "param_grid = dict(n_neighbors=k_range, weights=weight_options)"
   ]
  },
  {
   "cell_type": "code",
   "execution_count": 160,
   "metadata": {},
   "outputs": [
    {
     "data": {
      "text/plain": [
       "GridSearchCV(cv=3, error_score='raise-deprecating',\n",
       "             estimator=KNeighborsClassifier(algorithm='auto', leaf_size=30,\n",
       "                                            metric='minkowski',\n",
       "                                            metric_params=None, n_jobs=None,\n",
       "                                            n_neighbors=30, p=2,\n",
       "                                            weights='uniform'),\n",
       "             iid='warn', n_jobs=None,\n",
       "             param_grid={'n_neighbors': [1, 2, 3, 4, 5, 6, 7, 8, 9, 10, 11, 12,\n",
       "                                         13, 14, 15, 16, 17, 18, 19, 20, 21, 22,\n",
       "                                         23, 24, 25, 26, 27, 28, 29, 30],\n",
       "                         'weights': ['distance']},\n",
       "             pre_dispatch='2*n_jobs', refit=True, return_train_score=False,\n",
       "             scoring='accuracy', verbose=0)"
      ]
     },
     "execution_count": 160,
     "metadata": {},
     "output_type": "execute_result"
    }
   ],
   "source": [
    "grid = GridSearchCV(knn, param_grid, cv=3, scoring='accuracy')\n",
    "grid.fit(x1, y1)"
   ]
  },
  {
   "cell_type": "code",
   "execution_count": 161,
   "metadata": {},
   "outputs": [
    {
     "name": "stdout",
     "output_type": "stream",
     "text": [
      "0.8018571428571428\n",
      "{'n_neighbors': 15, 'weights': 'distance'}\n"
     ]
    }
   ],
   "source": [
    "# examine the best model\n",
    "print(grid.best_score_)\n",
    "print(grid.best_params_)"
   ]
  },
  {
   "cell_type": "code",
   "execution_count": 162,
   "metadata": {
    "scrolled": true
   },
   "outputs": [
    {
     "name": "stdout",
     "output_type": "stream",
     "text": [
      "Train set accuracy: 1.000\n",
      "Test accuracy: 0.8076666666666666\n",
      "              precision    recall  f1-score   support\n",
      "\n",
      "         0.0       0.81      0.98      0.89      2382\n",
      "         1.0       0.68      0.13      0.21       618\n",
      "\n",
      "    accuracy                           0.81      3000\n",
      "   macro avg       0.74      0.56      0.55      3000\n",
      "weighted avg       0.78      0.81      0.75      3000\n",
      "\n",
      "AUC 0.5559393672609295\n"
     ]
    }
   ],
   "source": [
    "# instantiate model with best parameters\n",
    "knn3 = KNeighborsClassifier(n_neighbors=16, weights='distance')\n",
    "\n",
    "# fit with X and y, not X_train and y_train\n",
    "# even if we use train/test split, we should train on X and y before making predictions on new data\n",
    "# otherwise we throw away potential valuable data we can learn from\n",
    "knn3.fit(x1, y1)\n",
    "train_acck3 = knn3.score(x1,y1)\n",
    "print(\"Train set accuracy: {:.3f}\".format(train_acck3))\n",
    "y_pred_k111 = knn3.predict(x2)\n",
    "y_pred_k111 = (y_pred_k111 > 0.5)\n",
    "print('Test accuracy:', accuracy_score(y_pred_k111,y2))\n",
    "print(classification_report(y2, y_pred_k111)) \n",
    "print(\"AUC\",roc_auc_score(y2, y_pred_k111))"
   ]
  }
 ],
 "metadata": {
  "kernelspec": {
   "display_name": "Python 3",
   "language": "python",
   "name": "python3"
  },
  "language_info": {
   "codemirror_mode": {
    "name": "ipython",
    "version": 3
   },
   "file_extension": ".py",
   "mimetype": "text/x-python",
   "name": "python",
   "nbconvert_exporter": "python",
   "pygments_lexer": "ipython3",
   "version": "3.7.4"
  }
 },
 "nbformat": 4,
 "nbformat_minor": 2
}
