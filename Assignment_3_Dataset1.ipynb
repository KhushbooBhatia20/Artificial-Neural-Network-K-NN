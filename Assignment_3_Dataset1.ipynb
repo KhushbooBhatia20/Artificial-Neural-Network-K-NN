{
 "cells": [
  {
   "cell_type": "code",
   "execution_count": 6,
   "metadata": {},
   "outputs": [
    {
     "data": {
      "text/html": [
       "        <script type=\"text/javascript\">\n",
       "        window.PlotlyConfig = {MathJaxConfig: 'local'};\n",
       "        if (window.MathJax) {MathJax.Hub.Config({SVG: {font: \"STIX-Web\"}});}\n",
       "        if (typeof require !== 'undefined') {\n",
       "        require.undef(\"plotly\");\n",
       "        requirejs.config({\n",
       "            paths: {\n",
       "                'plotly': ['https://cdn.plot.ly/plotly-latest.min']\n",
       "            }\n",
       "        });\n",
       "        require(['plotly'], function(Plotly) {\n",
       "            window._Plotly = Plotly;\n",
       "        });\n",
       "        }\n",
       "        </script>\n",
       "        "
      ]
     },
     "metadata": {},
     "output_type": "display_data"
    }
   ],
   "source": [
    "import numpy as np\n",
    "import pandas as pd\n",
    "from pandas import *\n",
    "import matplotlib.pyplot as plt\n",
    "import seaborn as sns\n",
    "from sklearn.model_selection import train_test_split\n",
    "from sklearn.preprocessing import StandardScaler \n",
    "from sklearn import preprocessing, model_selection, metrics\n",
    "\n",
    "import chart_studio.plotly as py\n",
    "from plotly.offline import init_notebook_mode, iplot\n",
    "init_notebook_mode(connected=True)\n",
    "import plotly.graph_objs as go\n",
    "from sklearn.model_selection import GridSearchCV \n",
    "from sklearn.svm import SVC \n",
    "from sklearn.metrics import classification_report, confusion_matrix \n",
    "from sklearn.metrics import confusion_matrix, precision_score, recall_score, f1_score, cohen_kappa_score\n",
    "from sklearn import preprocessing  \n",
    "from sklearn.tree import export_graphviz\n",
    "from sklearn import datasets, utils, tree\n",
    "from sklearn.tree import export_graphviz \n",
    "from sklearn.externals.six import StringIO  \n",
    "from IPython.display import Image  \n",
    "import pydotplus\n",
    "from IPython import display\n",
    "from graphviz import Source\n",
    "from scipy import stats\n",
    "from sklearn.model_selection import RandomizedSearchCV\n",
    "from sklearn.metrics import roc_curve\n",
    "from sklearn.metrics import roc_auc_score\n",
    "import random\n",
    "import warnings\n",
    "%matplotlib inline\n",
    "warnings.filterwarnings('ignore')"
   ]
  },
  {
   "cell_type": "code",
   "execution_count": 7,
   "metadata": {},
   "outputs": [],
   "source": [
    "np.random.seed(32)\n",
    "random.seed(2)"
   ]
  },
  {
   "cell_type": "code",
   "execution_count": 8,
   "metadata": {},
   "outputs": [
    {
     "data": {
      "text/html": [
       "<div>\n",
       "<style scoped>\n",
       "    .dataframe tbody tr th:only-of-type {\n",
       "        vertical-align: middle;\n",
       "    }\n",
       "\n",
       "    .dataframe tbody tr th {\n",
       "        vertical-align: top;\n",
       "    }\n",
       "\n",
       "    .dataframe thead th {\n",
       "        text-align: right;\n",
       "    }\n",
       "</style>\n",
       "<table border=\"1\" class=\"dataframe\">\n",
       "  <thead>\n",
       "    <tr style=\"text-align: right;\">\n",
       "      <th></th>\n",
       "      <th>MWG</th>\n",
       "      <th>NWG</th>\n",
       "      <th>KWG</th>\n",
       "      <th>MDIMC</th>\n",
       "      <th>NDIMC</th>\n",
       "      <th>MDIMA</th>\n",
       "      <th>NDIMB</th>\n",
       "      <th>KWI</th>\n",
       "      <th>VWM</th>\n",
       "      <th>VWN</th>\n",
       "      <th>STRM</th>\n",
       "      <th>STRN</th>\n",
       "      <th>SA</th>\n",
       "      <th>SB</th>\n",
       "      <th>Run1 (ms)</th>\n",
       "      <th>Run2 (ms)</th>\n",
       "      <th>Run3 (ms)</th>\n",
       "      <th>Run4 (ms)</th>\n",
       "      <th>Average Run Value</th>\n",
       "    </tr>\n",
       "  </thead>\n",
       "  <tbody>\n",
       "    <tr>\n",
       "      <td>count</td>\n",
       "      <td>241600.000000</td>\n",
       "      <td>241600.000000</td>\n",
       "      <td>241600.000000</td>\n",
       "      <td>241600.000000</td>\n",
       "      <td>241600.000000</td>\n",
       "      <td>241600.000000</td>\n",
       "      <td>241600.000000</td>\n",
       "      <td>241600.000000</td>\n",
       "      <td>241600.000000</td>\n",
       "      <td>241600.000000</td>\n",
       "      <td>241600.000000</td>\n",
       "      <td>241600.000000</td>\n",
       "      <td>241600.000000</td>\n",
       "      <td>241600.000000</td>\n",
       "      <td>241600.000000</td>\n",
       "      <td>241600.000000</td>\n",
       "      <td>241600.000000</td>\n",
       "      <td>241600.000000</td>\n",
       "      <td>241600.000000</td>\n",
       "    </tr>\n",
       "    <tr>\n",
       "      <td>mean</td>\n",
       "      <td>80.415364</td>\n",
       "      <td>80.415364</td>\n",
       "      <td>25.513113</td>\n",
       "      <td>13.935894</td>\n",
       "      <td>13.935894</td>\n",
       "      <td>17.371126</td>\n",
       "      <td>17.371126</td>\n",
       "      <td>5.000000</td>\n",
       "      <td>2.448609</td>\n",
       "      <td>2.448609</td>\n",
       "      <td>0.500000</td>\n",
       "      <td>0.500000</td>\n",
       "      <td>0.500000</td>\n",
       "      <td>0.500000</td>\n",
       "      <td>217.647852</td>\n",
       "      <td>217.579536</td>\n",
       "      <td>217.532756</td>\n",
       "      <td>217.527669</td>\n",
       "      <td>217.571953</td>\n",
       "    </tr>\n",
       "    <tr>\n",
       "      <td>std</td>\n",
       "      <td>42.469220</td>\n",
       "      <td>42.469220</td>\n",
       "      <td>7.855619</td>\n",
       "      <td>7.873662</td>\n",
       "      <td>7.873662</td>\n",
       "      <td>9.389418</td>\n",
       "      <td>9.389418</td>\n",
       "      <td>3.000006</td>\n",
       "      <td>1.953759</td>\n",
       "      <td>1.953759</td>\n",
       "      <td>0.500001</td>\n",
       "      <td>0.500001</td>\n",
       "      <td>0.500001</td>\n",
       "      <td>0.500001</td>\n",
       "      <td>369.012422</td>\n",
       "      <td>368.677309</td>\n",
       "      <td>368.655118</td>\n",
       "      <td>368.677413</td>\n",
       "      <td>368.750161</td>\n",
       "    </tr>\n",
       "    <tr>\n",
       "      <td>min</td>\n",
       "      <td>16.000000</td>\n",
       "      <td>16.000000</td>\n",
       "      <td>16.000000</td>\n",
       "      <td>8.000000</td>\n",
       "      <td>8.000000</td>\n",
       "      <td>8.000000</td>\n",
       "      <td>8.000000</td>\n",
       "      <td>2.000000</td>\n",
       "      <td>1.000000</td>\n",
       "      <td>1.000000</td>\n",
       "      <td>0.000000</td>\n",
       "      <td>0.000000</td>\n",
       "      <td>0.000000</td>\n",
       "      <td>0.000000</td>\n",
       "      <td>13.290000</td>\n",
       "      <td>13.250000</td>\n",
       "      <td>13.360000</td>\n",
       "      <td>13.370000</td>\n",
       "      <td>13.317500</td>\n",
       "    </tr>\n",
       "    <tr>\n",
       "      <td>25%</td>\n",
       "      <td>32.000000</td>\n",
       "      <td>32.000000</td>\n",
       "      <td>16.000000</td>\n",
       "      <td>8.000000</td>\n",
       "      <td>8.000000</td>\n",
       "      <td>8.000000</td>\n",
       "      <td>8.000000</td>\n",
       "      <td>2.000000</td>\n",
       "      <td>1.000000</td>\n",
       "      <td>1.000000</td>\n",
       "      <td>0.000000</td>\n",
       "      <td>0.000000</td>\n",
       "      <td>0.000000</td>\n",
       "      <td>0.000000</td>\n",
       "      <td>40.660000</td>\n",
       "      <td>40.710000</td>\n",
       "      <td>40.660000</td>\n",
       "      <td>40.640000</td>\n",
       "      <td>40.667500</td>\n",
       "    </tr>\n",
       "    <tr>\n",
       "      <td>50%</td>\n",
       "      <td>64.000000</td>\n",
       "      <td>64.000000</td>\n",
       "      <td>32.000000</td>\n",
       "      <td>8.000000</td>\n",
       "      <td>8.000000</td>\n",
       "      <td>16.000000</td>\n",
       "      <td>16.000000</td>\n",
       "      <td>5.000000</td>\n",
       "      <td>2.000000</td>\n",
       "      <td>2.000000</td>\n",
       "      <td>0.500000</td>\n",
       "      <td>0.500000</td>\n",
       "      <td>0.500000</td>\n",
       "      <td>0.500000</td>\n",
       "      <td>69.825000</td>\n",
       "      <td>69.930000</td>\n",
       "      <td>69.790000</td>\n",
       "      <td>69.820000</td>\n",
       "      <td>69.790000</td>\n",
       "    </tr>\n",
       "    <tr>\n",
       "      <td>75%</td>\n",
       "      <td>128.000000</td>\n",
       "      <td>128.000000</td>\n",
       "      <td>32.000000</td>\n",
       "      <td>16.000000</td>\n",
       "      <td>16.000000</td>\n",
       "      <td>32.000000</td>\n",
       "      <td>32.000000</td>\n",
       "      <td>8.000000</td>\n",
       "      <td>4.000000</td>\n",
       "      <td>4.000000</td>\n",
       "      <td>1.000000</td>\n",
       "      <td>1.000000</td>\n",
       "      <td>1.000000</td>\n",
       "      <td>1.000000</td>\n",
       "      <td>228.530000</td>\n",
       "      <td>228.310000</td>\n",
       "      <td>228.320000</td>\n",
       "      <td>228.320000</td>\n",
       "      <td>228.387500</td>\n",
       "    </tr>\n",
       "    <tr>\n",
       "      <td>max</td>\n",
       "      <td>128.000000</td>\n",
       "      <td>128.000000</td>\n",
       "      <td>32.000000</td>\n",
       "      <td>32.000000</td>\n",
       "      <td>32.000000</td>\n",
       "      <td>32.000000</td>\n",
       "      <td>32.000000</td>\n",
       "      <td>8.000000</td>\n",
       "      <td>8.000000</td>\n",
       "      <td>8.000000</td>\n",
       "      <td>1.000000</td>\n",
       "      <td>1.000000</td>\n",
       "      <td>1.000000</td>\n",
       "      <td>1.000000</td>\n",
       "      <td>3339.630000</td>\n",
       "      <td>3375.420000</td>\n",
       "      <td>3397.080000</td>\n",
       "      <td>3361.710000</td>\n",
       "      <td>3341.507500</td>\n",
       "    </tr>\n",
       "  </tbody>\n",
       "</table>\n",
       "</div>"
      ],
      "text/plain": [
       "                 MWG            NWG            KWG          MDIMC  \\\n",
       "count  241600.000000  241600.000000  241600.000000  241600.000000   \n",
       "mean       80.415364      80.415364      25.513113      13.935894   \n",
       "std        42.469220      42.469220       7.855619       7.873662   \n",
       "min        16.000000      16.000000      16.000000       8.000000   \n",
       "25%        32.000000      32.000000      16.000000       8.000000   \n",
       "50%        64.000000      64.000000      32.000000       8.000000   \n",
       "75%       128.000000     128.000000      32.000000      16.000000   \n",
       "max       128.000000     128.000000      32.000000      32.000000   \n",
       "\n",
       "               NDIMC          MDIMA          NDIMB            KWI  \\\n",
       "count  241600.000000  241600.000000  241600.000000  241600.000000   \n",
       "mean       13.935894      17.371126      17.371126       5.000000   \n",
       "std         7.873662       9.389418       9.389418       3.000006   \n",
       "min         8.000000       8.000000       8.000000       2.000000   \n",
       "25%         8.000000       8.000000       8.000000       2.000000   \n",
       "50%         8.000000      16.000000      16.000000       5.000000   \n",
       "75%        16.000000      32.000000      32.000000       8.000000   \n",
       "max        32.000000      32.000000      32.000000       8.000000   \n",
       "\n",
       "                 VWM            VWN           STRM           STRN  \\\n",
       "count  241600.000000  241600.000000  241600.000000  241600.000000   \n",
       "mean        2.448609       2.448609       0.500000       0.500000   \n",
       "std         1.953759       1.953759       0.500001       0.500001   \n",
       "min         1.000000       1.000000       0.000000       0.000000   \n",
       "25%         1.000000       1.000000       0.000000       0.000000   \n",
       "50%         2.000000       2.000000       0.500000       0.500000   \n",
       "75%         4.000000       4.000000       1.000000       1.000000   \n",
       "max         8.000000       8.000000       1.000000       1.000000   \n",
       "\n",
       "                  SA             SB      Run1 (ms)      Run2 (ms)  \\\n",
       "count  241600.000000  241600.000000  241600.000000  241600.000000   \n",
       "mean        0.500000       0.500000     217.647852     217.579536   \n",
       "std         0.500001       0.500001     369.012422     368.677309   \n",
       "min         0.000000       0.000000      13.290000      13.250000   \n",
       "25%         0.000000       0.000000      40.660000      40.710000   \n",
       "50%         0.500000       0.500000      69.825000      69.930000   \n",
       "75%         1.000000       1.000000     228.530000     228.310000   \n",
       "max         1.000000       1.000000    3339.630000    3375.420000   \n",
       "\n",
       "           Run3 (ms)      Run4 (ms)  Average Run Value  \n",
       "count  241600.000000  241600.000000      241600.000000  \n",
       "mean      217.532756     217.527669         217.571953  \n",
       "std       368.655118     368.677413         368.750161  \n",
       "min        13.360000      13.370000          13.317500  \n",
       "25%        40.660000      40.640000          40.667500  \n",
       "50%        69.790000      69.820000          69.790000  \n",
       "75%       228.320000     228.320000         228.387500  \n",
       "max      3397.080000    3361.710000        3341.507500  "
      ]
     },
     "execution_count": 8,
     "metadata": {},
     "output_type": "execute_result"
    }
   ],
   "source": [
    "#Reading the Data Set\n",
    "gpuread = pd.read_csv(\"sgemm_product.csv\")\n",
    "gpuread.describe()"
   ]
  },
  {
   "cell_type": "code",
   "execution_count": 9,
   "metadata": {},
   "outputs": [
    {
     "data": {
      "text/html": [
       "<div>\n",
       "<style scoped>\n",
       "    .dataframe tbody tr th:only-of-type {\n",
       "        vertical-align: middle;\n",
       "    }\n",
       "\n",
       "    .dataframe tbody tr th {\n",
       "        vertical-align: top;\n",
       "    }\n",
       "\n",
       "    .dataframe thead th {\n",
       "        text-align: right;\n",
       "    }\n",
       "</style>\n",
       "<table border=\"1\" class=\"dataframe\">\n",
       "  <thead>\n",
       "    <tr style=\"text-align: right;\">\n",
       "      <th></th>\n",
       "      <th>MWG</th>\n",
       "      <th>NWG</th>\n",
       "      <th>KWG</th>\n",
       "      <th>MDIMC</th>\n",
       "      <th>NDIMC</th>\n",
       "      <th>MDIMA</th>\n",
       "      <th>NDIMB</th>\n",
       "      <th>KWI</th>\n",
       "      <th>VWM</th>\n",
       "      <th>VWN</th>\n",
       "      <th>...</th>\n",
       "      <th>STRN</th>\n",
       "      <th>SA</th>\n",
       "      <th>SB</th>\n",
       "      <th>Run1 (ms)</th>\n",
       "      <th>Run2 (ms)</th>\n",
       "      <th>Run3 (ms)</th>\n",
       "      <th>Run4 (ms)</th>\n",
       "      <th>Average Run Value</th>\n",
       "      <th>Avg_Run</th>\n",
       "      <th>log_avg_run</th>\n",
       "    </tr>\n",
       "  </thead>\n",
       "  <tbody>\n",
       "    <tr>\n",
       "      <td>0</td>\n",
       "      <td>16</td>\n",
       "      <td>16</td>\n",
       "      <td>16</td>\n",
       "      <td>8</td>\n",
       "      <td>8</td>\n",
       "      <td>8</td>\n",
       "      <td>8</td>\n",
       "      <td>2</td>\n",
       "      <td>1</td>\n",
       "      <td>1</td>\n",
       "      <td>...</td>\n",
       "      <td>0</td>\n",
       "      <td>0</td>\n",
       "      <td>0</td>\n",
       "      <td>115.26</td>\n",
       "      <td>115.87</td>\n",
       "      <td>118.55</td>\n",
       "      <td>115.80</td>\n",
       "      <td>116.3700</td>\n",
       "      <td>116.3700</td>\n",
       "      <td>4.757</td>\n",
       "    </tr>\n",
       "    <tr>\n",
       "      <td>1</td>\n",
       "      <td>16</td>\n",
       "      <td>16</td>\n",
       "      <td>16</td>\n",
       "      <td>8</td>\n",
       "      <td>8</td>\n",
       "      <td>8</td>\n",
       "      <td>8</td>\n",
       "      <td>2</td>\n",
       "      <td>1</td>\n",
       "      <td>1</td>\n",
       "      <td>...</td>\n",
       "      <td>0</td>\n",
       "      <td>0</td>\n",
       "      <td>1</td>\n",
       "      <td>78.13</td>\n",
       "      <td>78.25</td>\n",
       "      <td>79.25</td>\n",
       "      <td>79.19</td>\n",
       "      <td>78.7050</td>\n",
       "      <td>78.7050</td>\n",
       "      <td>4.366</td>\n",
       "    </tr>\n",
       "    <tr>\n",
       "      <td>2</td>\n",
       "      <td>16</td>\n",
       "      <td>16</td>\n",
       "      <td>16</td>\n",
       "      <td>8</td>\n",
       "      <td>8</td>\n",
       "      <td>8</td>\n",
       "      <td>8</td>\n",
       "      <td>2</td>\n",
       "      <td>1</td>\n",
       "      <td>1</td>\n",
       "      <td>...</td>\n",
       "      <td>0</td>\n",
       "      <td>1</td>\n",
       "      <td>0</td>\n",
       "      <td>79.84</td>\n",
       "      <td>80.69</td>\n",
       "      <td>80.76</td>\n",
       "      <td>80.97</td>\n",
       "      <td>80.5650</td>\n",
       "      <td>80.5650</td>\n",
       "      <td>4.389</td>\n",
       "    </tr>\n",
       "    <tr>\n",
       "      <td>3</td>\n",
       "      <td>16</td>\n",
       "      <td>16</td>\n",
       "      <td>16</td>\n",
       "      <td>8</td>\n",
       "      <td>8</td>\n",
       "      <td>8</td>\n",
       "      <td>8</td>\n",
       "      <td>2</td>\n",
       "      <td>1</td>\n",
       "      <td>1</td>\n",
       "      <td>...</td>\n",
       "      <td>0</td>\n",
       "      <td>1</td>\n",
       "      <td>1</td>\n",
       "      <td>84.32</td>\n",
       "      <td>89.90</td>\n",
       "      <td>86.75</td>\n",
       "      <td>85.58</td>\n",
       "      <td>86.6375</td>\n",
       "      <td>86.6375</td>\n",
       "      <td>4.462</td>\n",
       "    </tr>\n",
       "    <tr>\n",
       "      <td>4</td>\n",
       "      <td>16</td>\n",
       "      <td>16</td>\n",
       "      <td>16</td>\n",
       "      <td>8</td>\n",
       "      <td>8</td>\n",
       "      <td>8</td>\n",
       "      <td>8</td>\n",
       "      <td>2</td>\n",
       "      <td>1</td>\n",
       "      <td>1</td>\n",
       "      <td>...</td>\n",
       "      <td>1</td>\n",
       "      <td>0</td>\n",
       "      <td>0</td>\n",
       "      <td>115.13</td>\n",
       "      <td>121.98</td>\n",
       "      <td>122.73</td>\n",
       "      <td>114.81</td>\n",
       "      <td>118.6625</td>\n",
       "      <td>118.6625</td>\n",
       "      <td>4.776</td>\n",
       "    </tr>\n",
       "    <tr>\n",
       "      <td>...</td>\n",
       "      <td>...</td>\n",
       "      <td>...</td>\n",
       "      <td>...</td>\n",
       "      <td>...</td>\n",
       "      <td>...</td>\n",
       "      <td>...</td>\n",
       "      <td>...</td>\n",
       "      <td>...</td>\n",
       "      <td>...</td>\n",
       "      <td>...</td>\n",
       "      <td>...</td>\n",
       "      <td>...</td>\n",
       "      <td>...</td>\n",
       "      <td>...</td>\n",
       "      <td>...</td>\n",
       "      <td>...</td>\n",
       "      <td>...</td>\n",
       "      <td>...</td>\n",
       "      <td>...</td>\n",
       "      <td>...</td>\n",
       "      <td>...</td>\n",
       "    </tr>\n",
       "    <tr>\n",
       "      <td>241595</td>\n",
       "      <td>128</td>\n",
       "      <td>128</td>\n",
       "      <td>32</td>\n",
       "      <td>32</td>\n",
       "      <td>32</td>\n",
       "      <td>32</td>\n",
       "      <td>32</td>\n",
       "      <td>8</td>\n",
       "      <td>4</td>\n",
       "      <td>4</td>\n",
       "      <td>...</td>\n",
       "      <td>0</td>\n",
       "      <td>1</td>\n",
       "      <td>1</td>\n",
       "      <td>17.96</td>\n",
       "      <td>17.77</td>\n",
       "      <td>17.77</td>\n",
       "      <td>17.77</td>\n",
       "      <td>17.8175</td>\n",
       "      <td>17.8175</td>\n",
       "      <td>2.880</td>\n",
       "    </tr>\n",
       "    <tr>\n",
       "      <td>241596</td>\n",
       "      <td>128</td>\n",
       "      <td>128</td>\n",
       "      <td>32</td>\n",
       "      <td>32</td>\n",
       "      <td>32</td>\n",
       "      <td>32</td>\n",
       "      <td>32</td>\n",
       "      <td>8</td>\n",
       "      <td>4</td>\n",
       "      <td>4</td>\n",
       "      <td>...</td>\n",
       "      <td>1</td>\n",
       "      <td>0</td>\n",
       "      <td>0</td>\n",
       "      <td>36.04</td>\n",
       "      <td>36.03</td>\n",
       "      <td>36.04</td>\n",
       "      <td>36.03</td>\n",
       "      <td>36.0350</td>\n",
       "      <td>36.0350</td>\n",
       "      <td>3.584</td>\n",
       "    </tr>\n",
       "    <tr>\n",
       "      <td>241597</td>\n",
       "      <td>128</td>\n",
       "      <td>128</td>\n",
       "      <td>32</td>\n",
       "      <td>32</td>\n",
       "      <td>32</td>\n",
       "      <td>32</td>\n",
       "      <td>32</td>\n",
       "      <td>8</td>\n",
       "      <td>4</td>\n",
       "      <td>4</td>\n",
       "      <td>...</td>\n",
       "      <td>1</td>\n",
       "      <td>0</td>\n",
       "      <td>1</td>\n",
       "      <td>35.28</td>\n",
       "      <td>34.82</td>\n",
       "      <td>35.27</td>\n",
       "      <td>35.27</td>\n",
       "      <td>35.1600</td>\n",
       "      <td>35.1600</td>\n",
       "      <td>3.560</td>\n",
       "    </tr>\n",
       "    <tr>\n",
       "      <td>241598</td>\n",
       "      <td>128</td>\n",
       "      <td>128</td>\n",
       "      <td>32</td>\n",
       "      <td>32</td>\n",
       "      <td>32</td>\n",
       "      <td>32</td>\n",
       "      <td>32</td>\n",
       "      <td>8</td>\n",
       "      <td>4</td>\n",
       "      <td>4</td>\n",
       "      <td>...</td>\n",
       "      <td>1</td>\n",
       "      <td>1</td>\n",
       "      <td>0</td>\n",
       "      <td>28.43</td>\n",
       "      <td>28.49</td>\n",
       "      <td>28.44</td>\n",
       "      <td>28.45</td>\n",
       "      <td>28.4525</td>\n",
       "      <td>28.4525</td>\n",
       "      <td>3.348</td>\n",
       "    </tr>\n",
       "    <tr>\n",
       "      <td>241599</td>\n",
       "      <td>128</td>\n",
       "      <td>128</td>\n",
       "      <td>32</td>\n",
       "      <td>32</td>\n",
       "      <td>32</td>\n",
       "      <td>32</td>\n",
       "      <td>32</td>\n",
       "      <td>8</td>\n",
       "      <td>4</td>\n",
       "      <td>4</td>\n",
       "      <td>...</td>\n",
       "      <td>1</td>\n",
       "      <td>1</td>\n",
       "      <td>1</td>\n",
       "      <td>17.94</td>\n",
       "      <td>17.79</td>\n",
       "      <td>17.77</td>\n",
       "      <td>17.77</td>\n",
       "      <td>17.8175</td>\n",
       "      <td>17.8175</td>\n",
       "      <td>2.880</td>\n",
       "    </tr>\n",
       "  </tbody>\n",
       "</table>\n",
       "<p>241600 rows × 21 columns</p>\n",
       "</div>"
      ],
      "text/plain": [
       "        MWG  NWG  KWG  MDIMC  NDIMC  MDIMA  NDIMB  KWI  VWM  VWN  ...  STRN  \\\n",
       "0        16   16   16      8      8      8      8    2    1    1  ...     0   \n",
       "1        16   16   16      8      8      8      8    2    1    1  ...     0   \n",
       "2        16   16   16      8      8      8      8    2    1    1  ...     0   \n",
       "3        16   16   16      8      8      8      8    2    1    1  ...     0   \n",
       "4        16   16   16      8      8      8      8    2    1    1  ...     1   \n",
       "...     ...  ...  ...    ...    ...    ...    ...  ...  ...  ...  ...   ...   \n",
       "241595  128  128   32     32     32     32     32    8    4    4  ...     0   \n",
       "241596  128  128   32     32     32     32     32    8    4    4  ...     1   \n",
       "241597  128  128   32     32     32     32     32    8    4    4  ...     1   \n",
       "241598  128  128   32     32     32     32     32    8    4    4  ...     1   \n",
       "241599  128  128   32     32     32     32     32    8    4    4  ...     1   \n",
       "\n",
       "        SA  SB  Run1 (ms)  Run2 (ms)  Run3 (ms)  Run4 (ms)  Average Run Value  \\\n",
       "0        0   0     115.26     115.87     118.55     115.80           116.3700   \n",
       "1        0   1      78.13      78.25      79.25      79.19            78.7050   \n",
       "2        1   0      79.84      80.69      80.76      80.97            80.5650   \n",
       "3        1   1      84.32      89.90      86.75      85.58            86.6375   \n",
       "4        0   0     115.13     121.98     122.73     114.81           118.6625   \n",
       "...     ..  ..        ...        ...        ...        ...                ...   \n",
       "241595   1   1      17.96      17.77      17.77      17.77            17.8175   \n",
       "241596   0   0      36.04      36.03      36.04      36.03            36.0350   \n",
       "241597   0   1      35.28      34.82      35.27      35.27            35.1600   \n",
       "241598   1   0      28.43      28.49      28.44      28.45            28.4525   \n",
       "241599   1   1      17.94      17.79      17.77      17.77            17.8175   \n",
       "\n",
       "         Avg_Run  log_avg_run  \n",
       "0       116.3700        4.757  \n",
       "1        78.7050        4.366  \n",
       "2        80.5650        4.389  \n",
       "3        86.6375        4.462  \n",
       "4       118.6625        4.776  \n",
       "...          ...          ...  \n",
       "241595   17.8175        2.880  \n",
       "241596   36.0350        3.584  \n",
       "241597   35.1600        3.560  \n",
       "241598   28.4525        3.348  \n",
       "241599   17.8175        2.880  \n",
       "\n",
       "[241600 rows x 21 columns]"
      ]
     },
     "execution_count": 9,
     "metadata": {},
     "output_type": "execute_result"
    }
   ],
   "source": [
    "# Calculating average gpu run time\n",
    "\n",
    "df_run = DataFrame(gpuread,columns=['Run1 (ms)','Run2 (ms)','Run3 (ms)','Run4 (ms)'])\n",
    "\n",
    "gpuread['Avg_Run'] = df_run.mean(axis =1)\n",
    "gpuread['log_avg_run'] = np.log(gpuread.Avg_Run).round(3)\n",
    "\n",
    "gpuread"
   ]
  },
  {
   "cell_type": "code",
   "execution_count": 11,
   "metadata": {},
   "outputs": [
    {
     "data": {
      "text/html": [
       "<div>\n",
       "<style scoped>\n",
       "    .dataframe tbody tr th:only-of-type {\n",
       "        vertical-align: middle;\n",
       "    }\n",
       "\n",
       "    .dataframe tbody tr th {\n",
       "        vertical-align: top;\n",
       "    }\n",
       "\n",
       "    .dataframe thead th {\n",
       "        text-align: right;\n",
       "    }\n",
       "</style>\n",
       "<table border=\"1\" class=\"dataframe\">\n",
       "  <thead>\n",
       "    <tr style=\"text-align: right;\">\n",
       "      <th></th>\n",
       "      <th>MWG</th>\n",
       "      <th>NWG</th>\n",
       "      <th>KWG</th>\n",
       "      <th>MDIMC</th>\n",
       "      <th>NDIMC</th>\n",
       "      <th>MDIMA</th>\n",
       "      <th>NDIMB</th>\n",
       "      <th>KWI</th>\n",
       "      <th>VWM</th>\n",
       "      <th>VWN</th>\n",
       "      <th>...</th>\n",
       "      <th>SA</th>\n",
       "      <th>SB</th>\n",
       "      <th>Run1 (ms)</th>\n",
       "      <th>Run2 (ms)</th>\n",
       "      <th>Run3 (ms)</th>\n",
       "      <th>Run4 (ms)</th>\n",
       "      <th>Average Run Value</th>\n",
       "      <th>Avg_Run</th>\n",
       "      <th>log_avg_run</th>\n",
       "      <th>gpuruntime_class</th>\n",
       "    </tr>\n",
       "  </thead>\n",
       "  <tbody>\n",
       "    <tr>\n",
       "      <td>0</td>\n",
       "      <td>16</td>\n",
       "      <td>16</td>\n",
       "      <td>16</td>\n",
       "      <td>8</td>\n",
       "      <td>8</td>\n",
       "      <td>8</td>\n",
       "      <td>8</td>\n",
       "      <td>2</td>\n",
       "      <td>1</td>\n",
       "      <td>1</td>\n",
       "      <td>...</td>\n",
       "      <td>0</td>\n",
       "      <td>0</td>\n",
       "      <td>115.26</td>\n",
       "      <td>115.87</td>\n",
       "      <td>118.55</td>\n",
       "      <td>115.80</td>\n",
       "      <td>116.3700</td>\n",
       "      <td>116.3700</td>\n",
       "      <td>4.757</td>\n",
       "      <td>1</td>\n",
       "    </tr>\n",
       "    <tr>\n",
       "      <td>1</td>\n",
       "      <td>16</td>\n",
       "      <td>16</td>\n",
       "      <td>16</td>\n",
       "      <td>8</td>\n",
       "      <td>8</td>\n",
       "      <td>8</td>\n",
       "      <td>8</td>\n",
       "      <td>2</td>\n",
       "      <td>1</td>\n",
       "      <td>1</td>\n",
       "      <td>...</td>\n",
       "      <td>0</td>\n",
       "      <td>1</td>\n",
       "      <td>78.13</td>\n",
       "      <td>78.25</td>\n",
       "      <td>79.25</td>\n",
       "      <td>79.19</td>\n",
       "      <td>78.7050</td>\n",
       "      <td>78.7050</td>\n",
       "      <td>4.366</td>\n",
       "      <td>1</td>\n",
       "    </tr>\n",
       "    <tr>\n",
       "      <td>2</td>\n",
       "      <td>16</td>\n",
       "      <td>16</td>\n",
       "      <td>16</td>\n",
       "      <td>8</td>\n",
       "      <td>8</td>\n",
       "      <td>8</td>\n",
       "      <td>8</td>\n",
       "      <td>2</td>\n",
       "      <td>1</td>\n",
       "      <td>1</td>\n",
       "      <td>...</td>\n",
       "      <td>1</td>\n",
       "      <td>0</td>\n",
       "      <td>79.84</td>\n",
       "      <td>80.69</td>\n",
       "      <td>80.76</td>\n",
       "      <td>80.97</td>\n",
       "      <td>80.5650</td>\n",
       "      <td>80.5650</td>\n",
       "      <td>4.389</td>\n",
       "      <td>1</td>\n",
       "    </tr>\n",
       "    <tr>\n",
       "      <td>3</td>\n",
       "      <td>16</td>\n",
       "      <td>16</td>\n",
       "      <td>16</td>\n",
       "      <td>8</td>\n",
       "      <td>8</td>\n",
       "      <td>8</td>\n",
       "      <td>8</td>\n",
       "      <td>2</td>\n",
       "      <td>1</td>\n",
       "      <td>1</td>\n",
       "      <td>...</td>\n",
       "      <td>1</td>\n",
       "      <td>1</td>\n",
       "      <td>84.32</td>\n",
       "      <td>89.90</td>\n",
       "      <td>86.75</td>\n",
       "      <td>85.58</td>\n",
       "      <td>86.6375</td>\n",
       "      <td>86.6375</td>\n",
       "      <td>4.462</td>\n",
       "      <td>1</td>\n",
       "    </tr>\n",
       "    <tr>\n",
       "      <td>4</td>\n",
       "      <td>16</td>\n",
       "      <td>16</td>\n",
       "      <td>16</td>\n",
       "      <td>8</td>\n",
       "      <td>8</td>\n",
       "      <td>8</td>\n",
       "      <td>8</td>\n",
       "      <td>2</td>\n",
       "      <td>1</td>\n",
       "      <td>1</td>\n",
       "      <td>...</td>\n",
       "      <td>0</td>\n",
       "      <td>0</td>\n",
       "      <td>115.13</td>\n",
       "      <td>121.98</td>\n",
       "      <td>122.73</td>\n",
       "      <td>114.81</td>\n",
       "      <td>118.6625</td>\n",
       "      <td>118.6625</td>\n",
       "      <td>4.776</td>\n",
       "      <td>1</td>\n",
       "    </tr>\n",
       "  </tbody>\n",
       "</table>\n",
       "<p>5 rows × 22 columns</p>\n",
       "</div>"
      ],
      "text/plain": [
       "   MWG  NWG  KWG  MDIMC  NDIMC  MDIMA  NDIMB  KWI  VWM  VWN  ...  SA  SB  \\\n",
       "0   16   16   16      8      8      8      8    2    1    1  ...   0   0   \n",
       "1   16   16   16      8      8      8      8    2    1    1  ...   0   1   \n",
       "2   16   16   16      8      8      8      8    2    1    1  ...   1   0   \n",
       "3   16   16   16      8      8      8      8    2    1    1  ...   1   1   \n",
       "4   16   16   16      8      8      8      8    2    1    1  ...   0   0   \n",
       "\n",
       "   Run1 (ms)  Run2 (ms)  Run3 (ms)  Run4 (ms)  Average Run Value   Avg_Run  \\\n",
       "0     115.26     115.87     118.55     115.80           116.3700  116.3700   \n",
       "1      78.13      78.25      79.25      79.19            78.7050   78.7050   \n",
       "2      79.84      80.69      80.76      80.97            80.5650   80.5650   \n",
       "3      84.32      89.90      86.75      85.58            86.6375   86.6375   \n",
       "4     115.13     121.98     122.73     114.81           118.6625  118.6625   \n",
       "\n",
       "   log_avg_run  gpuruntime_class  \n",
       "0        4.757                 1  \n",
       "1        4.366                 1  \n",
       "2        4.389                 1  \n",
       "3        4.462                 1  \n",
       "4        4.776                 1  \n",
       "\n",
       "[5 rows x 22 columns]"
      ]
     },
     "execution_count": 11,
     "metadata": {},
     "output_type": "execute_result"
    }
   ],
   "source": [
    "## Convert value above 4.24(Median Value) to 1s and below to 0s\n",
    "\n",
    "gpuread['gpuruntime_class'] = np.where(gpuread['log_avg_run']>=4.24, 1, 0)\n",
    "gpuread['gpuruntime_class'] = gpuread['gpuruntime_class'].astype('category')\n",
    "\n",
    "gpuread.head()"
   ]
  },
  {
   "cell_type": "code",
   "execution_count": 19,
   "metadata": {},
   "outputs": [
    {
     "name": "stdout",
     "output_type": "stream",
     "text": [
      "[[1.51675724 1.51675724 1.2109972  ... 0.27444642 0.27444642 0.11867869]\n",
      " [1.51675724 1.51675724 1.2109972  ... 0.37658896 0.37658896 0.22779016]\n",
      " [1.51675724 1.51675724 1.2109972  ... 0.37154489 0.37154489 0.20740964]\n",
      " ...\n",
      " [1.12045227 1.12045227 0.82576574 ... 0.49467729 0.49467729 0.94199451]\n",
      " [1.12045227 1.12045227 0.82576574 ... 0.51286715 0.51286715 1.12984974]\n",
      " [1.12045227 1.12045227 0.82576574 ... 0.54170788 0.54170788 1.54454904]]\n"
     ]
    },
    {
     "data": {
      "text/plain": [
       "(236341, 22)"
      ]
     },
     "execution_count": 19,
     "metadata": {},
     "output_type": "execute_result"
    }
   ],
   "source": [
    "z = np.abs(stats.zscore(gpuread._get_numeric_data()))\n",
    "print(z)\n",
    "gpuread1= gpuread[(z < 3).all(axis=1)]\n",
    "gpuread1.shape"
   ]
  },
  {
   "cell_type": "code",
   "execution_count": 22,
   "metadata": {},
   "outputs": [
    {
     "data": {
      "text/html": [
       "<div>\n",
       "<style scoped>\n",
       "    .dataframe tbody tr th:only-of-type {\n",
       "        vertical-align: middle;\n",
       "    }\n",
       "\n",
       "    .dataframe tbody tr th {\n",
       "        vertical-align: top;\n",
       "    }\n",
       "\n",
       "    .dataframe thead th {\n",
       "        text-align: right;\n",
       "    }\n",
       "</style>\n",
       "<table border=\"1\" class=\"dataframe\">\n",
       "  <thead>\n",
       "    <tr style=\"text-align: right;\">\n",
       "      <th></th>\n",
       "      <th>MWG</th>\n",
       "      <th>NWG</th>\n",
       "      <th>KWG</th>\n",
       "      <th>MDIMC</th>\n",
       "      <th>NDIMC</th>\n",
       "      <th>MDIMA</th>\n",
       "      <th>NDIMB</th>\n",
       "      <th>KWI</th>\n",
       "      <th>VWM</th>\n",
       "      <th>VWN</th>\n",
       "      <th>...</th>\n",
       "      <th>SA</th>\n",
       "      <th>SB</th>\n",
       "      <th>Run1 (ms)</th>\n",
       "      <th>Run2 (ms)</th>\n",
       "      <th>Run3 (ms)</th>\n",
       "      <th>Run4 (ms)</th>\n",
       "      <th>Average Run Value</th>\n",
       "      <th>Avg_Run</th>\n",
       "      <th>log_avg_run</th>\n",
       "      <th>gpuruntime_class</th>\n",
       "    </tr>\n",
       "  </thead>\n",
       "  <tbody>\n",
       "    <tr>\n",
       "      <td>4</td>\n",
       "      <td>0.0</td>\n",
       "      <td>0.0</td>\n",
       "      <td>0.0</td>\n",
       "      <td>0.0</td>\n",
       "      <td>0.0</td>\n",
       "      <td>0.0</td>\n",
       "      <td>0.0</td>\n",
       "      <td>0.0</td>\n",
       "      <td>0.0</td>\n",
       "      <td>0.0</td>\n",
       "      <td>...</td>\n",
       "      <td>0.0</td>\n",
       "      <td>0.0</td>\n",
       "      <td>0.030616</td>\n",
       "      <td>0.032339</td>\n",
       "      <td>0.032322</td>\n",
       "      <td>0.030296</td>\n",
       "      <td>0.031652</td>\n",
       "      <td>0.031652</td>\n",
       "      <td>0.395837</td>\n",
       "      <td>1.0</td>\n",
       "    </tr>\n",
       "    <tr>\n",
       "      <td>5</td>\n",
       "      <td>0.0</td>\n",
       "      <td>0.0</td>\n",
       "      <td>0.0</td>\n",
       "      <td>0.0</td>\n",
       "      <td>0.0</td>\n",
       "      <td>0.0</td>\n",
       "      <td>0.0</td>\n",
       "      <td>0.0</td>\n",
       "      <td>0.0</td>\n",
       "      <td>0.0</td>\n",
       "      <td>...</td>\n",
       "      <td>0.0</td>\n",
       "      <td>1.0</td>\n",
       "      <td>0.020386</td>\n",
       "      <td>0.020570</td>\n",
       "      <td>0.021766</td>\n",
       "      <td>0.020539</td>\n",
       "      <td>0.020987</td>\n",
       "      <td>0.020987</td>\n",
       "      <td>0.331584</td>\n",
       "      <td>1.0</td>\n",
       "    </tr>\n",
       "    <tr>\n",
       "      <td>6</td>\n",
       "      <td>0.0</td>\n",
       "      <td>0.0</td>\n",
       "      <td>0.0</td>\n",
       "      <td>0.0</td>\n",
       "      <td>0.0</td>\n",
       "      <td>0.0</td>\n",
       "      <td>0.0</td>\n",
       "      <td>0.0</td>\n",
       "      <td>0.0</td>\n",
       "      <td>0.0</td>\n",
       "      <td>...</td>\n",
       "      <td>1.0</td>\n",
       "      <td>0.0</td>\n",
       "      <td>0.021050</td>\n",
       "      <td>0.020704</td>\n",
       "      <td>0.022236</td>\n",
       "      <td>0.020786</td>\n",
       "      <td>0.021368</td>\n",
       "      <td>0.021368</td>\n",
       "      <td>0.334299</td>\n",
       "      <td>1.0</td>\n",
       "    </tr>\n",
       "    <tr>\n",
       "      <td>7</td>\n",
       "      <td>0.0</td>\n",
       "      <td>0.0</td>\n",
       "      <td>0.0</td>\n",
       "      <td>0.0</td>\n",
       "      <td>0.0</td>\n",
       "      <td>0.0</td>\n",
       "      <td>0.0</td>\n",
       "      <td>0.0</td>\n",
       "      <td>0.0</td>\n",
       "      <td>0.0</td>\n",
       "      <td>...</td>\n",
       "      <td>1.0</td>\n",
       "      <td>1.0</td>\n",
       "      <td>0.024002</td>\n",
       "      <td>0.024106</td>\n",
       "      <td>0.024479</td>\n",
       "      <td>0.024209</td>\n",
       "      <td>0.024396</td>\n",
       "      <td>0.024396</td>\n",
       "      <td>0.354751</td>\n",
       "      <td>1.0</td>\n",
       "    </tr>\n",
       "    <tr>\n",
       "      <td>8</td>\n",
       "      <td>0.0</td>\n",
       "      <td>0.0</td>\n",
       "      <td>0.0</td>\n",
       "      <td>0.0</td>\n",
       "      <td>0.0</td>\n",
       "      <td>0.0</td>\n",
       "      <td>0.0</td>\n",
       "      <td>0.0</td>\n",
       "      <td>0.0</td>\n",
       "      <td>0.0</td>\n",
       "      <td>...</td>\n",
       "      <td>0.0</td>\n",
       "      <td>0.0</td>\n",
       "      <td>0.031293</td>\n",
       "      <td>0.030843</td>\n",
       "      <td>0.032742</td>\n",
       "      <td>0.031198</td>\n",
       "      <td>0.031777</td>\n",
       "      <td>0.031777</td>\n",
       "      <td>0.396561</td>\n",
       "      <td>1.0</td>\n",
       "    </tr>\n",
       "    <tr>\n",
       "      <td>9</td>\n",
       "      <td>0.0</td>\n",
       "      <td>0.0</td>\n",
       "      <td>0.0</td>\n",
       "      <td>0.0</td>\n",
       "      <td>0.0</td>\n",
       "      <td>0.0</td>\n",
       "      <td>0.0</td>\n",
       "      <td>0.0</td>\n",
       "      <td>0.0</td>\n",
       "      <td>0.0</td>\n",
       "      <td>...</td>\n",
       "      <td>0.0</td>\n",
       "      <td>1.0</td>\n",
       "      <td>0.021787</td>\n",
       "      <td>0.021430</td>\n",
       "      <td>0.021751</td>\n",
       "      <td>0.022047</td>\n",
       "      <td>0.021929</td>\n",
       "      <td>0.021929</td>\n",
       "      <td>0.338281</td>\n",
       "      <td>1.0</td>\n",
       "    </tr>\n",
       "  </tbody>\n",
       "</table>\n",
       "<p>6 rows × 22 columns</p>\n",
       "</div>"
      ],
      "text/plain": [
       "   MWG  NWG  KWG  MDIMC  NDIMC  MDIMA  NDIMB  KWI  VWM  VWN  ...   SA   SB  \\\n",
       "4  0.0  0.0  0.0    0.0    0.0    0.0    0.0  0.0  0.0  0.0  ...  0.0  0.0   \n",
       "5  0.0  0.0  0.0    0.0    0.0    0.0    0.0  0.0  0.0  0.0  ...  0.0  1.0   \n",
       "6  0.0  0.0  0.0    0.0    0.0    0.0    0.0  0.0  0.0  0.0  ...  1.0  0.0   \n",
       "7  0.0  0.0  0.0    0.0    0.0    0.0    0.0  0.0  0.0  0.0  ...  1.0  1.0   \n",
       "8  0.0  0.0  0.0    0.0    0.0    0.0    0.0  0.0  0.0  0.0  ...  0.0  0.0   \n",
       "9  0.0  0.0  0.0    0.0    0.0    0.0    0.0  0.0  0.0  0.0  ...  0.0  1.0   \n",
       "\n",
       "   Run1 (ms)  Run2 (ms)  Run3 (ms)  Run4 (ms)  Average Run Value   Avg_Run  \\\n",
       "4   0.030616   0.032339   0.032322   0.030296           0.031652  0.031652   \n",
       "5   0.020386   0.020570   0.021766   0.020539           0.020987  0.020987   \n",
       "6   0.021050   0.020704   0.022236   0.020786           0.021368  0.021368   \n",
       "7   0.024002   0.024106   0.024479   0.024209           0.024396  0.024396   \n",
       "8   0.031293   0.030843   0.032742   0.031198           0.031777  0.031777   \n",
       "9   0.021787   0.021430   0.021751   0.022047           0.021929  0.021929   \n",
       "\n",
       "   log_avg_run  gpuruntime_class  \n",
       "4     0.395837               1.0  \n",
       "5     0.331584               1.0  \n",
       "6     0.334299               1.0  \n",
       "7     0.354751               1.0  \n",
       "8     0.396561               1.0  \n",
       "9     0.338281               1.0  \n",
       "\n",
       "[6 rows x 22 columns]"
      ]
     },
     "execution_count": 22,
     "metadata": {},
     "output_type": "execute_result"
    }
   ],
   "source": [
    "#Scaling\n",
    "scaler = preprocessing.MinMaxScaler()\n",
    "scaler.fit(gpuread)\n",
    "df = pd.DataFrame(scaler.transform(gpuread), index=gpuread.index, columns=gpuread.columns)\n",
    "df.iloc[4:10]"
   ]
  },
  {
   "cell_type": "code",
   "execution_count": 23,
   "metadata": {},
   "outputs": [],
   "source": [
    "random.seed(32) \n",
    "df=df.sample(10000,random_state=99)"
   ]
  },
  {
   "cell_type": "code",
   "execution_count": 24,
   "metadata": {},
   "outputs": [
    {
     "data": {
      "text/html": [
       "<div>\n",
       "<style scoped>\n",
       "    .dataframe tbody tr th:only-of-type {\n",
       "        vertical-align: middle;\n",
       "    }\n",
       "\n",
       "    .dataframe tbody tr th {\n",
       "        vertical-align: top;\n",
       "    }\n",
       "\n",
       "    .dataframe thead th {\n",
       "        text-align: right;\n",
       "    }\n",
       "</style>\n",
       "<table border=\"1\" class=\"dataframe\">\n",
       "  <thead>\n",
       "    <tr style=\"text-align: right;\">\n",
       "      <th></th>\n",
       "      <th>MWG</th>\n",
       "      <th>NWG</th>\n",
       "      <th>KWG</th>\n",
       "      <th>MDIMC</th>\n",
       "      <th>NDIMC</th>\n",
       "      <th>MDIMA</th>\n",
       "      <th>NDIMB</th>\n",
       "      <th>KWI</th>\n",
       "      <th>VWM</th>\n",
       "      <th>VWN</th>\n",
       "      <th>...</th>\n",
       "      <th>SA</th>\n",
       "      <th>SB</th>\n",
       "      <th>Run1 (ms)</th>\n",
       "      <th>Run2 (ms)</th>\n",
       "      <th>Run3 (ms)</th>\n",
       "      <th>Run4 (ms)</th>\n",
       "      <th>Average Run Value</th>\n",
       "      <th>Avg_Run</th>\n",
       "      <th>log_avg_run</th>\n",
       "      <th>gpuruntime_class</th>\n",
       "    </tr>\n",
       "  </thead>\n",
       "  <tbody>\n",
       "    <tr>\n",
       "      <td>212711</td>\n",
       "      <td>1.000000</td>\n",
       "      <td>1.000000</td>\n",
       "      <td>0.0</td>\n",
       "      <td>0.333333</td>\n",
       "      <td>0.0</td>\n",
       "      <td>1.000000</td>\n",
       "      <td>0.333333</td>\n",
       "      <td>0.0</td>\n",
       "      <td>0.142857</td>\n",
       "      <td>0.000000</td>\n",
       "      <td>...</td>\n",
       "      <td>1.0</td>\n",
       "      <td>1.0</td>\n",
       "      <td>0.209753</td>\n",
       "      <td>0.207824</td>\n",
       "      <td>0.206456</td>\n",
       "      <td>0.208596</td>\n",
       "      <td>0.209836</td>\n",
       "      <td>0.209836</td>\n",
       "      <td>0.720181</td>\n",
       "      <td>1.0</td>\n",
       "    </tr>\n",
       "    <tr>\n",
       "      <td>227350</td>\n",
       "      <td>1.000000</td>\n",
       "      <td>1.000000</td>\n",
       "      <td>1.0</td>\n",
       "      <td>0.000000</td>\n",
       "      <td>1.0</td>\n",
       "      <td>1.000000</td>\n",
       "      <td>0.333333</td>\n",
       "      <td>1.0</td>\n",
       "      <td>0.142857</td>\n",
       "      <td>0.142857</td>\n",
       "      <td>...</td>\n",
       "      <td>1.0</td>\n",
       "      <td>0.0</td>\n",
       "      <td>0.037943</td>\n",
       "      <td>0.038823</td>\n",
       "      <td>0.038540</td>\n",
       "      <td>0.038894</td>\n",
       "      <td>0.038863</td>\n",
       "      <td>0.038863</td>\n",
       "      <td>0.429140</td>\n",
       "      <td>1.0</td>\n",
       "    </tr>\n",
       "    <tr>\n",
       "      <td>241350</td>\n",
       "      <td>1.000000</td>\n",
       "      <td>1.000000</td>\n",
       "      <td>1.0</td>\n",
       "      <td>1.000000</td>\n",
       "      <td>1.0</td>\n",
       "      <td>1.000000</td>\n",
       "      <td>1.000000</td>\n",
       "      <td>0.0</td>\n",
       "      <td>0.000000</td>\n",
       "      <td>0.428571</td>\n",
       "      <td>...</td>\n",
       "      <td>1.0</td>\n",
       "      <td>0.0</td>\n",
       "      <td>0.007233</td>\n",
       "      <td>0.007192</td>\n",
       "      <td>0.007084</td>\n",
       "      <td>0.007159</td>\n",
       "      <td>0.007225</td>\n",
       "      <td>0.007225</td>\n",
       "      <td>0.186787</td>\n",
       "      <td>0.0</td>\n",
       "    </tr>\n",
       "    <tr>\n",
       "      <td>83669</td>\n",
       "      <td>0.428571</td>\n",
       "      <td>0.142857</td>\n",
       "      <td>1.0</td>\n",
       "      <td>0.333333</td>\n",
       "      <td>0.0</td>\n",
       "      <td>1.000000</td>\n",
       "      <td>1.000000</td>\n",
       "      <td>0.0</td>\n",
       "      <td>0.142857</td>\n",
       "      <td>0.000000</td>\n",
       "      <td>...</td>\n",
       "      <td>0.0</td>\n",
       "      <td>1.0</td>\n",
       "      <td>0.007380</td>\n",
       "      <td>0.007320</td>\n",
       "      <td>0.007241</td>\n",
       "      <td>0.007338</td>\n",
       "      <td>0.007379</td>\n",
       "      <td>0.007379</td>\n",
       "      <td>0.189140</td>\n",
       "      <td>0.0</td>\n",
       "    </tr>\n",
       "    <tr>\n",
       "      <td>47894</td>\n",
       "      <td>0.142857</td>\n",
       "      <td>1.000000</td>\n",
       "      <td>0.0</td>\n",
       "      <td>0.000000</td>\n",
       "      <td>0.0</td>\n",
       "      <td>0.333333</td>\n",
       "      <td>0.000000</td>\n",
       "      <td>1.0</td>\n",
       "      <td>0.000000</td>\n",
       "      <td>0.142857</td>\n",
       "      <td>...</td>\n",
       "      <td>1.0</td>\n",
       "      <td>0.0</td>\n",
       "      <td>0.055845</td>\n",
       "      <td>0.054167</td>\n",
       "      <td>0.053355</td>\n",
       "      <td>0.054325</td>\n",
       "      <td>0.054859</td>\n",
       "      <td>0.054859</td>\n",
       "      <td>0.486697</td>\n",
       "      <td>1.0</td>\n",
       "    </tr>\n",
       "  </tbody>\n",
       "</table>\n",
       "<p>5 rows × 22 columns</p>\n",
       "</div>"
      ],
      "text/plain": [
       "             MWG       NWG  KWG     MDIMC  NDIMC     MDIMA     NDIMB  KWI  \\\n",
       "212711  1.000000  1.000000  0.0  0.333333    0.0  1.000000  0.333333  0.0   \n",
       "227350  1.000000  1.000000  1.0  0.000000    1.0  1.000000  0.333333  1.0   \n",
       "241350  1.000000  1.000000  1.0  1.000000    1.0  1.000000  1.000000  0.0   \n",
       "83669   0.428571  0.142857  1.0  0.333333    0.0  1.000000  1.000000  0.0   \n",
       "47894   0.142857  1.000000  0.0  0.000000    0.0  0.333333  0.000000  1.0   \n",
       "\n",
       "             VWM       VWN  ...   SA   SB  Run1 (ms)  Run2 (ms)  Run3 (ms)  \\\n",
       "212711  0.142857  0.000000  ...  1.0  1.0   0.209753   0.207824   0.206456   \n",
       "227350  0.142857  0.142857  ...  1.0  0.0   0.037943   0.038823   0.038540   \n",
       "241350  0.000000  0.428571  ...  1.0  0.0   0.007233   0.007192   0.007084   \n",
       "83669   0.142857  0.000000  ...  0.0  1.0   0.007380   0.007320   0.007241   \n",
       "47894   0.000000  0.142857  ...  1.0  0.0   0.055845   0.054167   0.053355   \n",
       "\n",
       "        Run4 (ms)  Average Run Value   Avg_Run  log_avg_run  gpuruntime_class  \n",
       "212711   0.208596           0.209836  0.209836     0.720181               1.0  \n",
       "227350   0.038894           0.038863  0.038863     0.429140               1.0  \n",
       "241350   0.007159           0.007225  0.007225     0.186787               0.0  \n",
       "83669    0.007338           0.007379  0.007379     0.189140               0.0  \n",
       "47894    0.054325           0.054859  0.054859     0.486697               1.0  \n",
       "\n",
       "[5 rows x 22 columns]"
      ]
     },
     "execution_count": 24,
     "metadata": {},
     "output_type": "execute_result"
    }
   ],
   "source": [
    "df.head()"
   ]
  },
  {
   "cell_type": "code",
   "execution_count": 25,
   "metadata": {},
   "outputs": [],
   "source": [
    "x = df.loc[:,df.columns!='gpuruntime_class']\n",
    "y = df[['gpuruntime_class']]"
   ]
  },
  {
   "cell_type": "markdown",
   "metadata": {},
   "source": [
    "# Creating Training And Testing Split"
   ]
  },
  {
   "cell_type": "code",
   "execution_count": 26,
   "metadata": {},
   "outputs": [],
   "source": [
    "X_train1, X_test1, y_train1, y_test1 = train_test_split( \n",
    "                        x,y, \n",
    "                test_size = 0.30, random_state = 101)"
   ]
  },
  {
   "cell_type": "code",
   "execution_count": 27,
   "metadata": {},
   "outputs": [],
   "source": [
    "x1t=X_train1.as_matrix()\n",
    "x2t=X_test1.as_matrix()\n",
    "y1t=y_train1.as_matrix()\n",
    "y2t=y_test1.as_matrix()"
   ]
  },
  {
   "cell_type": "code",
   "execution_count": 28,
   "metadata": {},
   "outputs": [],
   "source": [
    "X_train=(X_train1).T\n",
    "X_test=(X_test1).T\n",
    "y_train=(y1t).T\n",
    "y_test=(y2t).T"
   ]
  },
  {
   "cell_type": "markdown",
   "metadata": {},
   "source": [
    "# Sigmoid function"
   ]
  },
  {
   "cell_type": "code",
   "execution_count": 29,
   "metadata": {},
   "outputs": [],
   "source": [
    "def sigmoid(z):\n",
    "    s =1/(1+np.exp(-z))\n",
    "    return s"
   ]
  },
  {
   "cell_type": "markdown",
   "metadata": {},
   "source": [
    "# Plot Accuracy or Loss as a Function of Number of Epoch"
   ]
  },
  {
   "cell_type": "code",
   "execution_count": 30,
   "metadata": {},
   "outputs": [],
   "source": [
    "def plot_model_history(model_history):\n",
    "    fig, axs = plt.subplots(1,2,figsize=(15,5))\n",
    "    # summarize history for accuracy\n",
    "    axs[0].plot(range(1,len(model_history.history['accuracy'])+1),model_history.history['accuracy'])\n",
    "    axs[0].plot(range(1,len(model_history.history['val_accuracy'])+1),model_history.history['val_accuracy'])\n",
    "    axs[0].set_title('Model Accuracy')\n",
    "    axs[0].set_ylabel('Accuracy')\n",
    "    axs[0].set_xlabel('Epoch')\n",
    "    axs[0].set_xticks(np.arange(1,len(model_history.history['accuracy'])+1),len(model_history.history['accuracy'])/10)\n",
    "    axs[0].legend(['train', 'val'], loc='best')\n",
    "    # summarize history for loss\n",
    "    axs[1].plot(range(1,len(model_history.history['loss'])+1),model_history.history['loss'])\n",
    "    axs[1].plot(range(1,len(model_history.history['val_loss'])+1),model_history.history['val_loss'])\n",
    "    axs[1].set_title('Model Loss')\n",
    "    axs[1].set_ylabel('Loss')\n",
    "    axs[1].set_xlabel('Epoch')\n",
    "    axs[1].set_xticks(np.arange(1,len(model_history.history['loss'])+1),len(model_history.history['loss'])/10)\n",
    "    axs[1].legend(['train', 'val'], loc='best')\n",
    "    plt.show()"
   ]
  },
  {
   "cell_type": "markdown",
   "metadata": {},
   "source": [
    "# 1. Shallow Neural Network "
   ]
  },
  {
   "cell_type": "code",
   "execution_count": 31,
   "metadata": {},
   "outputs": [
    {
     "name": "stdout",
     "output_type": "stream",
     "text": [
      "The size of the input layer is: n_x = 21\n",
      "The size of the hidden layer is: n_h = 4\n",
      "The size of the output layer is: n_y = 1\n"
     ]
    }
   ],
   "source": [
    "n_x = X_train.shape[0] # size of input layer\n",
    "n_h = 4         # Only one Hidden Layer\n",
    "n_y =  y_train.shape[0] # size of output layer\n",
    "print(\"The size of the input layer is: n_x = \" + str(n_x))\n",
    "print(\"The size of the hidden layer is: n_h = \" + str(n_h))\n",
    "print(\"The size of the output layer is: n_y = \" + str(n_y))"
   ]
  },
  {
   "cell_type": "markdown",
   "metadata": {},
   "source": [
    "# Defining initialize_parameters functions"
   ]
  },
  {
   "cell_type": "code",
   "execution_count": 32,
   "metadata": {},
   "outputs": [],
   "source": [
    "def initialize_parameters(n_x, n_h, n_y):\n",
    "    np.random.seed(32)\n",
    "    W1 = np.random.randn(n_h, n_x) * 0.01\n",
    "    b1 =  np.zeros((n_h, 1))\n",
    "    W2 = np.random.randn(n_y, n_h) * 0.01\n",
    "    b2 = np.zeros((n_y, 1))\n",
    "    assert (W1.shape == (n_h, n_x))\n",
    "    assert (b1.shape == (n_h, 1))\n",
    "    assert (W2.shape == (n_y, n_h))\n",
    "    assert (b2.shape == (n_y, 1))\n",
    "    \n",
    "    parameters = {\"W1\": W1,\n",
    "                  \"b1\": b1,\n",
    "                  \"W2\": W2,\n",
    "                  \"b2\": b2}\n",
    "    \n",
    "    return parameters"
   ]
  },
  {
   "cell_type": "code",
   "execution_count": 33,
   "metadata": {},
   "outputs": [
    {
     "name": "stdout",
     "output_type": "stream",
     "text": [
      "W1 = [[-3.48894451e-03  9.83703433e-03  5.80922831e-03  7.02844409e-04\n",
      "   7.77532676e-03  5.81958745e-03  1.47179053e-02  1.66318101e-02\n",
      "  -2.61177121e-03 -6.88676813e-03 -6.94923262e-03  1.94042346e-02\n",
      "   1.80541519e-02  4.56313852e-03 -5.74812040e-03  1.14180503e-03\n",
      "   1.51358077e-02  3.51131840e-03 -8.89332139e-04  9.16954228e-03\n",
      "   5.05645125e-03]\n",
      " [-8.15271110e-03  3.89150951e-03 -4.24962470e-03  3.96231519e-04\n",
      "  -5.27963922e-03 -5.10303679e-03 -8.88285149e-03  1.08762473e-02\n",
      "   6.73392264e-03 -1.06731704e-02  1.21804998e-02  3.36371255e-02\n",
      "  -8.32253403e-03 -3.40348381e-03 -1.85857154e-02  8.23065599e-06\n",
      "   3.51574483e-03  1.52150885e-02 -6.80474137e-03  9.38057708e-03\n",
      "  -6.81414713e-03]\n",
      " [-2.01098083e-03 -1.74886440e-04 -1.78791213e-02 -8.51740228e-03\n",
      "  -1.62830331e-02  9.66997738e-03  5.31155943e-04  2.89712932e-03\n",
      "   6.24443380e-04 -1.09812873e-02  1.30533064e-03 -1.85337064e-03\n",
      "  -1.34073473e-02 -3.24019679e-03  1.48436338e-02  1.31308828e-02\n",
      "  -6.32164014e-03 -3.91573298e-03 -2.36849570e-02 -5.90683913e-03\n",
      "  -1.71300152e-02]\n",
      " [-1.31285141e-02  4.53779604e-03 -1.78332529e-02  1.42551583e-02\n",
      "  -3.45698608e-03  9.98657431e-03  7.25386344e-03 -9.28409701e-03\n",
      "  -6.79982736e-03 -1.11262844e-02  1.24751610e-04 -5.26311356e-03\n",
      "  -6.79530896e-03  1.45994761e-02  1.36657358e-02  1.70810135e-02\n",
      "   2.39030424e-03 -4.59934590e-03  1.15831171e-02  2.53673937e-03\n",
      "   2.03742962e-03]]\n",
      "b1 = [[0.]\n",
      " [0.]\n",
      " [0.]\n",
      " [0.]]\n",
      "W2 = [[ 0.01773202  0.00988609 -0.00811427 -0.01523259]]\n",
      "b2 = [[0.]]\n"
     ]
    }
   ],
   "source": [
    "parameters = initialize_parameters(n_x, n_h, n_y)\n",
    "print(\"W1 = \" + str(parameters[\"W1\"]))\n",
    "print(\"b1 = \" + str(parameters[\"b1\"]))\n",
    "print(\"W2 = \" + str(parameters[\"W2\"]))\n",
    "print(\"b2 = \" + str(parameters[\"b2\"]))"
   ]
  },
  {
   "cell_type": "markdown",
   "metadata": {},
   "source": [
    "# Defining forward_propagation function"
   ]
  },
  {
   "cell_type": "code",
   "execution_count": 34,
   "metadata": {},
   "outputs": [],
   "source": [
    "def forward_propagation(X, parameters):\n",
    "   \n",
    "    # Retrieve each parameter from the dictionary \"parameters\"\n",
    "    W1 = parameters['W1']\n",
    "    b1 = parameters['b1']\n",
    "    W2 = parameters['W2']\n",
    "    b2 = parameters['b2']\n",
    "    \n",
    "    Z1 = np.dot(W1, X) + b1\n",
    "    A1 = np.tanh(Z1)\n",
    "    Z2 = np.dot(W2, A1) + b2\n",
    "    A2 = sigmoid(Z2)\n",
    "    \n",
    "    \n",
    "    cache = {\"Z1\": Z1,\n",
    "             \"A1\": A1,\n",
    "             \"Z2\": Z2,\n",
    "             \"A2\": A2}\n",
    "    \n",
    "    return A2, cache"
   ]
  },
  {
   "cell_type": "code",
   "execution_count": 35,
   "metadata": {},
   "outputs": [],
   "source": [
    "A2, cache = forward_propagation(X_train, parameters)"
   ]
  },
  {
   "cell_type": "markdown",
   "metadata": {},
   "source": [
    "# Defining compute_cost function"
   ]
  },
  {
   "cell_type": "code",
   "execution_count": 37,
   "metadata": {},
   "outputs": [],
   "source": [
    "def compute_cost(A2, Y, parameters):\n",
    "    \n",
    "    m = Y.shape[1] # number of example\n",
    "\n",
    "    # Compute the cross-entropy cost\n",
    "    logprobs = np.multiply(np.log(A2), Y) + np.multiply((1 - Y), np.log(1 - A2))\n",
    "    cost = - np.sum(logprobs) / m\n",
    "    \n",
    "    cost = cost.astype(float)  # makes sure cost is the dimension we expect. \n",
    "                                    # E.g., turns [[17]] into 17 \n",
    " \n",
    "    return cost"
   ]
  },
  {
   "cell_type": "markdown",
   "metadata": {},
   "source": [
    "# Defining backward_propagation function"
   ]
  },
  {
   "cell_type": "code",
   "execution_count": 38,
   "metadata": {},
   "outputs": [],
   "source": [
    "def backward_propagation(parameters, cache, X, Y):\n",
    "    m = X.shape[1]\n",
    "    \n",
    "    # First, retrieve W1 and W2 from the dictionary \"parameters\".\n",
    "    W1 = parameters['W1']\n",
    "    W2 = parameters['W2']\n",
    "            \n",
    "    # Retrieve also A1 and A2 from dictionary \"cache\".\n",
    "    A1 = cache['A1']\n",
    "    A2 = cache['A2']\n",
    "   \n",
    "    # Backward propagation: calculate dW1, db1, dW2, db2. \n",
    "    dZ2 = A2 - Y\n",
    "    dW2 = (1 / m) * np.dot(dZ2, A1.T)\n",
    "    db2 = ((1 / m) * np.sum(dZ2, axis=1,keepdims=True))\n",
    "    db2=db2.T\n",
    "    dZ1 = np.multiply(np.dot(W2.T, dZ2), 1 - np.power(A1, 2))\n",
    "    dW1 = (1 / m) * np.dot(dZ1, X.T)\n",
    "    db1 = (1 / m) * np.sum(dZ1, axis=1,keepdims=True)\n",
    "    \n",
    "    grads = {\"dW1\": dW1,\n",
    "             \"db1\": db1,\n",
    "             \"db2\": db2,\n",
    "             \"dW2\": dW2\n",
    "             }\n",
    "    \n",
    "    return grads"
   ]
  },
  {
   "cell_type": "code",
   "execution_count": 39,
   "metadata": {},
   "outputs": [
    {
     "name": "stdout",
     "output_type": "stream",
     "text": [
      "dW1 = [[-1.43759285e-03 -7.70072182e-04  7.09762677e-05  5.26442665e-04\n",
      "   4.58764270e-04  6.11042432e-05  1.65277222e-04 -8.78597812e-06\n",
      "  -4.29188003e-04 -1.80335086e-04  5.32715748e-04 -3.36640684e-06\n",
      "   4.97849552e-04  5.97698865e-05 -4.79215896e-04 -4.73639109e-04\n",
      "  -4.70636218e-04 -4.75590591e-04 -4.78595752e-04 -4.78595752e-04\n",
      "  -1.48948840e-03]\n",
      " [-8.03366185e-04 -4.30493695e-04  3.95035421e-05  2.94104532e-04\n",
      "   2.56576795e-04  3.40697666e-05  9.22634103e-05 -5.25701088e-06\n",
      "  -2.39824839e-04 -1.00825226e-04  2.97176202e-04 -2.34142782e-06\n",
      "   2.77834058e-04  3.31496102e-05 -2.67969111e-04 -2.64850685e-04\n",
      "  -2.63171575e-04 -2.65942055e-04 -2.67622397e-04 -2.67622397e-04\n",
      "  -8.32398193e-04]\n",
      " [ 6.58565669e-04  3.52747353e-04 -3.27395203e-05 -2.41291502e-04\n",
      "  -2.10430232e-04 -2.80838373e-05 -7.58260703e-05  3.96209418e-06\n",
      "   1.96559954e-04  8.24883989e-05 -2.44165811e-04  1.53903480e-06\n",
      "  -2.28156873e-04 -2.75074087e-05  2.19659171e-04  2.17103234e-04\n",
      "   2.15726890e-04  2.17997928e-04  2.19375219e-04  2.19375219e-04\n",
      "   6.82475771e-04]\n",
      " [ 1.23772841e-03  6.63285188e-04 -6.10867759e-05 -4.53285717e-04\n",
      "  -3.95408402e-04 -5.25802677e-05 -1.42213559e-04  7.85734145e-06\n",
      "   3.69442296e-04  1.55262596e-04 -4.58136365e-04  3.23144717e-06\n",
      "  -4.28198087e-04 -5.12370827e-05  4.12929611e-04  4.08124101e-04\n",
      "   4.05536646e-04  4.09805912e-04  4.12395242e-04  4.12395242e-04\n",
      "   1.28260712e-03]]\n",
      "db1 = [[-3.18457003e-05]\n",
      " [-1.81821546e-05]\n",
      " [ 1.43629951e-05]\n",
      " [ 2.77180289e-05]]\n",
      "dW2 = [[-3.28111120e-04  8.08367491e-04  9.71196541e-04  5.87781356e-05]]\n",
      "db2 = [[-0.00182512]]\n"
     ]
    }
   ],
   "source": [
    "grads = backward_propagation(parameters, cache, X_train, y_train)\n",
    "print (\"dW1 = \"+ str(grads[\"dW1\"]))\n",
    "print (\"db1 = \"+ str(grads[\"db1\"]))\n",
    "print (\"dW2 = \"+ str(grads[\"dW2\"]))\n",
    "print (\"db2 = \"+ str(grads[\"db2\"]))"
   ]
  },
  {
   "cell_type": "markdown",
   "metadata": {},
   "source": [
    "# Defining update_parameters function"
   ]
  },
  {
   "cell_type": "code",
   "execution_count": 40,
   "metadata": {},
   "outputs": [],
   "source": [
    "def update_parameters(parameters, grads, learning_rate=0.02):\n",
    "    # Retrieve each parameter from the dictionary \"parameters\"\n",
    "    W1 = parameters['W1']\n",
    "    b1 = parameters['b1']\n",
    "    W2 = parameters['W2']\n",
    "    b2 = parameters['b2']\n",
    "    \n",
    "    # Retrieve each gradient from the dictionary \"grads\"\n",
    "    dW1 = grads['dW1']\n",
    "    db1 = grads['db1']\n",
    "    dW2 = grads['dW2']\n",
    "    db2 = grads['db2']\n",
    "    \n",
    "    # Update rule for each parameter\n",
    "    W1 = W1 - learning_rate * dW1\n",
    "    b1 = b1 - learning_rate * db1\n",
    "    W2 = W2 - learning_rate * dW2\n",
    "    b2 = b2 - learning_rate * db2\n",
    "    \n",
    "    parameters = {\"W1\": W1,\n",
    "                  \"b1\": b1,\n",
    "                  \"W2\": W2,\n",
    "                  \"b2\": b2}\n",
    "    \n",
    "    return parameters"
   ]
  },
  {
   "cell_type": "code",
   "execution_count": 42,
   "metadata": {},
   "outputs": [
    {
     "name": "stdout",
     "output_type": "stream",
     "text": [
      "W1 = [[-3.43144080e-03  9.86783722e-03  5.80638926e-03  6.81786702e-04\n",
      "   7.75697619e-03  5.81714328e-03  1.47112942e-02  1.66321615e-02\n",
      "  -2.59460369e-03 -6.87955473e-03 -6.97054125e-03  1.94043693e-02\n",
      "   1.80342379e-02  4.56074773e-03 -5.72895176e-03  1.16075060e-03\n",
      "   1.51546331e-02  3.53034203e-03 -8.70188309e-04  9.18868611e-03\n",
      "   5.11603079e-03]\n",
      " [-8.12057645e-03  3.90872926e-03 -4.25120485e-03  3.84467338e-04\n",
      "  -5.28990229e-03 -5.10439958e-03 -8.88654203e-03  1.08764576e-02\n",
      "   6.74351563e-03 -1.06691374e-02  1.21686128e-02  3.36372191e-02\n",
      "  -8.33364739e-03 -3.40480979e-03 -1.85749967e-02  1.88246834e-05\n",
      "   3.52627169e-03  1.52257262e-02 -6.79403648e-03  9.39128198e-03\n",
      "  -6.78085120e-03]\n",
      " [-2.03732345e-03 -1.88996334e-04 -1.78778117e-02 -8.50775062e-03\n",
      "  -1.62746159e-02  9.67110074e-03  5.34188986e-04  2.89697083e-03\n",
      "   6.16580982e-04 -1.09845868e-02  1.31509727e-03 -1.85343220e-03\n",
      "  -1.33982210e-02 -3.23909650e-03  1.48348475e-02  1.31221987e-02\n",
      "  -6.33026922e-03 -3.92445290e-03 -2.36937321e-02 -5.91561414e-03\n",
      "  -1.71573143e-02]\n",
      " [-1.31780232e-02  4.51126463e-03 -1.78308095e-02  1.42732898e-02\n",
      "  -3.44116975e-03  9.98867752e-03  7.25955198e-03 -9.28441131e-03\n",
      "  -6.81460505e-03 -1.11324949e-02  1.43077064e-04 -5.26324281e-03\n",
      "  -6.77818104e-03  1.46015255e-02  1.36492186e-02  1.70646885e-02\n",
      "   2.37408277e-03 -4.61573813e-03  1.15666213e-02  2.52024356e-03\n",
      "   1.98612534e-03]]\n",
      "b1 = [[ 1.27382801e-06]\n",
      " [ 7.27286183e-07]\n",
      " [-5.74519805e-07]\n",
      " [-1.10872116e-06]]\n",
      "W2 = [[ 0.01774514  0.00985376 -0.00815312 -0.01523495]]\n",
      "b2 = [[7.30049095e-05]]\n"
     ]
    }
   ],
   "source": [
    "parameters = update_parameters(parameters, grads)\n",
    "\n",
    "print(\"W1 = \" + str(parameters[\"W1\"]))\n",
    "print(\"b1 = \" + str(parameters[\"b1\"]))\n",
    "print(\"W2 = \" + str(parameters[\"W2\"]))\n",
    "print(\"b2 = \" + str(parameters[\"b2\"]))"
   ]
  },
  {
   "cell_type": "markdown",
   "metadata": {},
   "source": [
    "# Defining nn_model (Neural Network) Model"
   ]
  },
  {
   "cell_type": "code",
   "execution_count": 46,
   "metadata": {},
   "outputs": [],
   "source": [
    "def nn_model(X, Y, n_h, num_iterations = 10000, print_cost=False):\n",
    "   \n",
    "    \n",
    "    np.random.seed(32)\n",
    "    n_x = 21\n",
    "    n_y = 1    \n",
    "    # Initialize parameters\n",
    "    parameters = initialize_parameters(n_x, n_h, n_y)\n",
    "    W1 = parameters['W1']\n",
    "    b1 = parameters['b1']\n",
    "    W2 = parameters['W2']\n",
    "    b2 = parameters['b2']\n",
    "    \n",
    "    # Loop (gradient descent)\n",
    "    costs=[0]* num_iterations\n",
    "    for i in range(0, num_iterations):\n",
    "         \n",
    "       \n",
    "        # Forward propagation. Inputs: \"X, parameters\". Outputs: \"A2, cache\".\n",
    "        A2, cache = forward_propagation(X, parameters)\n",
    "        \n",
    "        # Cost function. Inputs: \"A2, Y, parameters\". Outputs: \"cost\".\n",
    "        cost = compute_cost(A2, Y, parameters)\n",
    " \n",
    "        # Backpropagation. Inputs: \"parameters, cache, X, Y\". Outputs: \"grads\".\n",
    "        grads = backward_propagation(parameters, cache, X, Y)\n",
    " \n",
    "        # Gradient descent parameter update. Inputs: \"parameters, grads\". Outputs: \"parameters\".\n",
    "        parameters = update_parameters(parameters, grads)\n",
    "        \n",
    "        # Print the cost for every 1000 iterations\n",
    "        if print_cost and i % 1000 == 0:\n",
    "            print (\"Cost after iteration %i: %f\" % (i, cost))\n",
    "        costs[i]=cost\n",
    "    plt.plot(costs)\n",
    "    plt.ylabel('cost')\n",
    "    plt.xlabel('iterations (per hundreds)')    \n",
    "    return parameters"
   ]
  },
  {
   "cell_type": "code",
   "execution_count": 47,
   "metadata": {},
   "outputs": [
    {
     "name": "stdout",
     "output_type": "stream",
     "text": [
      "Cost after iteration 0: 0.693140\n",
      "Cost after iteration 1000: 0.679584\n",
      "Cost after iteration 2000: 0.407964\n",
      "Cost after iteration 3000: 0.281107\n",
      "Cost after iteration 4000: 0.205672\n",
      "Cost after iteration 5000: 0.157424\n",
      "Cost after iteration 6000: 0.129387\n",
      "Cost after iteration 7000: 0.112177\n",
      "Cost after iteration 8000: 0.100620\n",
      "Cost after iteration 9000: 0.092273\n",
      "Cost after iteration 10000: 0.085908\n",
      "Cost after iteration 11000: 0.080851\n",
      "Cost after iteration 12000: 0.076707\n",
      "Cost after iteration 13000: 0.073226\n",
      "Cost after iteration 14000: 0.070244\n"
     ]
    },
    {
     "data": {
      "image/png": "[encoded data removed]",
      "text/plain": [
       "<Figure size 432x288 with 1 Axes>"
      ]
     },
     "metadata": {
      "needs_background": "light"
     },
     "output_type": "display_data"
    }
   ],
   "source": [
    "parameters = nn_model(X_train, y_train, 4, num_iterations=15000, print_cost=True)"
   ]
  },
  {
   "cell_type": "code",
   "execution_count": 48,
   "metadata": {},
   "outputs": [],
   "source": [
    "def predict(parameters, X):\n",
    "    # Computes probabilities using forward propagation, and classifies to 0/1 using 0.5 as the threshold.\n",
    "   \n",
    "    A2, cache = forward_propagation(X, parameters)\n",
    "    predictions = np.round(A2)    \n",
    "    return predictions"
   ]
  },
  {
   "cell_type": "code",
   "execution_count": 49,
   "metadata": {},
   "outputs": [
    {
     "name": "stdout",
     "output_type": "stream",
     "text": [
      "Train Accuracy: 98%\n"
     ]
    }
   ],
   "source": [
    "predictions = predict(parameters, X_train)\n",
    "print ('Train Accuracy: %d' % float((np.dot(y_train,predictions.T) + np.dot(1-y_train,1-predictions.T))/float(y_train.size)*100) + '%')"
   ]
  },
  {
   "cell_type": "code",
   "execution_count": 50,
   "metadata": {},
   "outputs": [
    {
     "name": "stdout",
     "output_type": "stream",
     "text": [
      "Test Accuracy: 98%\n"
     ]
    }
   ],
   "source": [
    "predictions = predict(parameters, X_test)\n",
    "print ('Test Accuracy: %d' % float((np.dot(y_test,predictions.T) + np.dot(1-y_test,1-predictions.T))/float(y_test.size)*100) + '%')"
   ]
  },
  {
   "cell_type": "markdown",
   "metadata": {},
   "source": [
    "# keras"
   ]
  },
  {
   "cell_type": "code",
   "execution_count": 51,
   "metadata": {},
   "outputs": [
    {
     "name": "stderr",
     "output_type": "stream",
     "text": [
      "Using TensorFlow backend.\n"
     ]
    }
   ],
   "source": [
    "import keras\n",
    "from keras.models import Sequential\n",
    "from keras.utils.np_utils import to_categorical\n",
    "from keras.models import Sequential\n",
    "from keras.layers import Activation, Dense, BatchNormalization\n",
    "from keras import optimizers"
   ]
  },
  {
   "cell_type": "code",
   "execution_count": 54,
   "metadata": {},
   "outputs": [],
   "source": [
    "x1, x2, y1, y2 = train_test_split( \n",
    "                        x,y, \n",
    "                test_size = 0.30, random_state = 101)"
   ]
  },
  {
   "cell_type": "code",
   "execution_count": 56,
   "metadata": {},
   "outputs": [
    {
     "name": "stdout",
     "output_type": "stream",
     "text": [
      "(7000, 21) (3000, 21) (7000, 1) (3000, 1)\n"
     ]
    }
   ],
   "source": [
    "print(x1.shape,x2.shape, y1.shape, y2.shape)"
   ]
  },
  {
   "cell_type": "markdown",
   "metadata": {},
   "source": [
    "# 2. Linear activation function"
   ]
  },
  {
   "cell_type": "code",
   "execution_count": 58,
   "metadata": {},
   "outputs": [],
   "source": [
    "def mlp_model_l(x):\n",
    "    model = Sequential()\n",
    "    \n",
    "    model.add(Dense(50,input_shape = (x, )))\n",
    "    model.add(Activation('sigmoid'))    \n",
    "    model.add(Dense(50))\n",
    "    model.add(Activation('sigmoid'))   \n",
    "    model.add(Dense(50))\n",
    "    model.add(Activation('sigmoid'))  \n",
    "    model.add(Dense(50))\n",
    "    model.add(Activation('sigmoid'))    \n",
    "    model.add(Dense(1))\n",
    "    model.add(Activation('sigmoid'))\n",
    "    \n",
    "    sgd = optimizers.SGD(lr = 0.01)\n",
    "    model.compile(optimizer = sgd, loss = 'binary_crossentropy', metrics = ['accuracy'])\n",
    "    \n",
    "    return model"
   ]
  },
  {
   "cell_type": "code",
   "execution_count": 60,
   "metadata": {},
   "outputs": [],
   "source": [
    "modell = mlp_model_l(21)\n",
    "history = modell.fit(x1, y1, validation_split = 0.3, epochs = 25, verbose = 0)\n"
   ]
  },
  {
   "cell_type": "code",
   "execution_count": 61,
   "metadata": {},
   "outputs": [
    {
     "data": {
      "image/png": "[encoded data removed]",
      "text/plain": [
       "<Figure size 1080x360 with 2 Axes>"
      ]
     },
     "metadata": {
      "needs_background": "light"
     },
     "output_type": "display_data"
    }
   ],
   "source": [
    "plot_model_history(history)"
   ]
  },
  {
   "cell_type": "code",
   "execution_count": 62,
   "metadata": {},
   "outputs": [
    {
     "name": "stdout",
     "output_type": "stream",
     "text": [
      "7000/7000 [==============================] - 0s 13us/step\n",
      "Train accuracy:  0.49785715341567993\n",
      "3000/3000 [==============================] - 0s 11us/step\n",
      "Test accuracy:  0.49566665291786194\n"
     ]
    }
   ],
   "source": [
    "results_l1 = modell.evaluate(x1, y1)\n",
    "print('Train accuracy: ', results_l1[1])\n",
    "results_l2 = modell.evaluate(x2, y2)\n",
    "print('Test accuracy: ', results_l2[1])"
   ]
  },
  {
   "cell_type": "code",
   "execution_count": 63,
   "metadata": {},
   "outputs": [
    {
     "name": "stdout",
     "output_type": "stream",
     "text": [
      "              precision    recall  f1-score   support\n",
      "\n",
      "         0.0       0.50      1.00      0.66      1487\n",
      "         1.0       0.00      0.00      0.00      1513\n",
      "\n",
      "    accuracy                           0.50      3000\n",
      "   macro avg       0.25      0.50      0.33      3000\n",
      "weighted avg       0.25      0.50      0.33      3000\n",
      "\n",
      "AUC 0.5\n"
     ]
    }
   ],
   "source": [
    "y_pred_l = modell.predict(x2)\n",
    "y_pred_l = (y_pred_l > 0.5)\n",
    "print(classification_report(y2, y_pred_l)) \n",
    "print(\"AUC\",roc_auc_score(y2, y_pred_l))\n"
   ]
  },
  {
   "cell_type": "markdown",
   "metadata": {},
   "source": [
    "# 3.  Non Linear Activation Function (Relu)"
   ]
  },
  {
   "cell_type": "code",
   "execution_count": 64,
   "metadata": {},
   "outputs": [],
   "source": [
    "def mlp_model_nl(x):\n",
    "    model = Sequential()\n",
    "    \n",
    "    model.add(Dense(50,input_shape = (x, )))\n",
    "    model.add(Activation('relu'))    # use relu\n",
    "    model.add(Dense(50))\n",
    "    model.add(Activation('relu'))    # use relu\n",
    "    model.add(Dense(50))\n",
    "    model.add(Activation('relu'))    # use relu\n",
    "    model.add(Dense(50))\n",
    "    model.add(Activation('relu'))    # use relu\n",
    "    model.add(Dense(1))\n",
    "    model.add(Activation('sigmoid'))\n",
    "    \n",
    "    sgd = optimizers.SGD(lr = 0.001)\n",
    "    model.compile(optimizer = sgd, loss = 'binary_crossentropy', metrics = ['accuracy'])\n",
    "    \n",
    "    return model"
   ]
  },
  {
   "cell_type": "code",
   "execution_count": 65,
   "metadata": {},
   "outputs": [],
   "source": [
    "modelnl = mlp_model_nl(21)\n",
    "historynl = modelnl.fit(x1, y1, validation_split = 0.3, epochs = 100, verbose = 0)"
   ]
  },
  {
   "cell_type": "code",
   "execution_count": 67,
   "metadata": {},
   "outputs": [
    {
     "data": {
      "image/png": "[encoded data removed]",
      "text/plain": [
       "<Figure size 1080x360 with 2 Axes>"
      ]
     },
     "metadata": {
      "needs_background": "light"
     },
     "output_type": "display_data"
    }
   ],
   "source": [
    "plot_model_history(historynl)"
   ]
  },
  {
   "cell_type": "code",
   "execution_count": 70,
   "metadata": {},
   "outputs": [
    {
     "name": "stdout",
     "output_type": "stream",
     "text": [
      "7000/7000 [==============================] - 0s 12us/step\n",
      "Train accuracy:  0.8997142910957336\n",
      "3000/3000 [==============================] - 0s 10us/step\n",
      "Test accuracy:  0.9086666703224182\n"
     ]
    }
   ],
   "source": [
    "results_nl1 = modelnl.evaluate(x1, y1)\n",
    "print('Train accuracy: ', results_nl1[1])\n",
    "results_nl2 = modelnl.evaluate(x2, y2)\n",
    "print('Test accuracy: ', results_nl2[1])"
   ]
  },
  {
   "cell_type": "code",
   "execution_count": 72,
   "metadata": {},
   "outputs": [
    {
     "name": "stdout",
     "output_type": "stream",
     "text": [
      "              precision    recall  f1-score   support\n",
      "\n",
      "         0.0       0.87      0.96      0.91      1487\n",
      "         1.0       0.95      0.86      0.90      1513\n",
      "\n",
      "    accuracy                           0.91      3000\n",
      "   macro avg       0.91      0.91      0.91      3000\n",
      "weighted avg       0.91      0.91      0.91      3000\n",
      "\n",
      "AUC 0.9090873936753472\n"
     ]
    }
   ],
   "source": [
    "y_pred_nl = modelnl.predict(x2)\n",
    "y_pred_nl = (y_pred_nl > 0.5)\n",
    "print(classification_report(y2, y_pred_nl)) \n",
    "print(\"AUC\",roc_auc_score(y2, y_pred_nl))"
   ]
  },
  {
   "cell_type": "markdown",
   "metadata": {},
   "source": [
    "# 4. Selu Activation"
   ]
  },
  {
   "cell_type": "code",
   "execution_count": 82,
   "metadata": {},
   "outputs": [],
   "source": [
    "def mlp_model_t(x):\n",
    "    model = Sequential()\n",
    "    \n",
    "    model.add(Dense(50,input_shape = (x, )))\n",
    "    model.add(Activation('selu'))    # use tanh\n",
    "    model.add(Dense(50))\n",
    "    model.add(Activation('selu'))    # use tanh\n",
    "    model.add(Dense(50))\n",
    "    model.add(Activation('selu'))    # use tanh\n",
    "    model.add(Dense(50))\n",
    "    model.add(Activation('selu'))    # use tanh\n",
    "    model.add(Dense(1))\n",
    "    model.add(Activation('sigmoid'))\n",
    "    \n",
    "    sgd = optimizers.SGD(lr = 0.001)\n",
    "    model.compile(optimizer = sgd, loss = 'binary_crossentropy', metrics = ['accuracy'])\n",
    "    \n",
    "    return model"
   ]
  },
  {
   "cell_type": "code",
   "execution_count": 83,
   "metadata": {},
   "outputs": [],
   "source": [
    "modelt = mlp_model_t(21)\n",
    "historyt = modelt.fit(x1, y1, validation_split = 0.3, epochs = 100, verbose = 0)"
   ]
  },
  {
   "cell_type": "code",
   "execution_count": 84,
   "metadata": {},
   "outputs": [
    {
     "name": "stdout",
     "output_type": "stream",
     "text": [
      "7000/7000 [==============================] - 0s 16us/step\n",
      "Train accuracy:  0.9800000190734863\n",
      "3000/3000 [==============================] - 0s 15us/step\n",
      "Test accuracy:  0.9736666679382324\n"
     ]
    }
   ],
   "source": [
    "results_t1 = modelt.evaluate(x1, y1)\n",
    "print('Train accuracy: ', results_t1[1])\n",
    "results_t2 = modelt.evaluate(x2, y2)\n",
    "print('Test accuracy: ', results_t2[1])"
   ]
  },
  {
   "cell_type": "code",
   "execution_count": 85,
   "metadata": {},
   "outputs": [
    {
     "name": "stdout",
     "output_type": "stream",
     "text": [
      "              precision    recall  f1-score   support\n",
      "\n",
      "         0.0       0.98      0.97      0.97      1487\n",
      "         1.0       0.97      0.98      0.97      1513\n",
      "\n",
      "    accuracy                           0.97      3000\n",
      "   macro avg       0.97      0.97      0.97      3000\n",
      "weighted avg       0.97      0.97      0.97      3000\n",
      "\n",
      "AUC 0.9736329084273441\n"
     ]
    }
   ],
   "source": [
    "y_pred_t = modelt.predict(x2)\n",
    "y_pred_t = (y_pred_t > 0.5)\n",
    "print(classification_report(y2, y_pred_t)) \n",
    "print(\"AUC\",roc_auc_score(y2, y_pred_t))"
   ]
  },
  {
   "cell_type": "code",
   "execution_count": 86,
   "metadata": {},
   "outputs": [
    {
     "data": {
      "image/png": "[encoded data removed]",
      "text/plain": [
       "<Figure size 1080x360 with 2 Axes>"
      ]
     },
     "metadata": {
      "needs_background": "light"
     },
     "output_type": "display_data"
    }
   ],
   "source": [
    "plot_model_history(historyt)"
   ]
  },
  {
   "cell_type": "markdown",
   "metadata": {},
   "source": [
    "# 5. Batch Normalization"
   ]
  },
  {
   "cell_type": "code",
   "execution_count": 88,
   "metadata": {},
   "outputs": [],
   "source": [
    "def mlp_model_b():\n",
    "    model = Sequential()\n",
    "    \n",
    "    model.add(Dense(50, input_shape = (21, )))\n",
    "    model.add(BatchNormalization())                    # Add Batchnorm layer before Activation\n",
    "    model.add(Activation('selu'))    \n",
    "    model.add(Dense(50))\n",
    "    model.add(BatchNormalization())                    # Add Batchnorm layer before Activation\n",
    "    model.add(Activation('selu'))    \n",
    "    model.add(Dense(50))\n",
    "    model.add(BatchNormalization())                    # Add Batchnorm layer before Activation\n",
    "    model.add(Activation('selu'))    \n",
    "    model.add(Dense(50))\n",
    "    model.add(BatchNormalization())                    # Add Batchnorm layer before Activation\n",
    "    model.add(Activation('selu'))    \n",
    "    model.add(Dense(1))\n",
    "    model.add(Activation('sigmoid'))\n",
    "    \n",
    "    sgd = optimizers.SGD(lr = 0.001)\n",
    "    model.compile(optimizer = sgd, loss = 'binary_crossentropy', metrics = ['accuracy'])\n",
    "    \n",
    "    return model\n"
   ]
  },
  {
   "cell_type": "code",
   "execution_count": 89,
   "metadata": {},
   "outputs": [],
   "source": [
    "modelb = mlp_model_b()\n",
    "historyb = modelb.fit(x1, y1, validation_split = 0.3, epochs = 100, verbose = 0)"
   ]
  },
  {
   "cell_type": "code",
   "execution_count": 117,
   "metadata": {},
   "outputs": [
    {
     "name": "stdout",
     "output_type": "stream",
     "text": [
      "7000/7000 [==============================] - 0s 48us/step\n",
      "Train accuracy:  0.8617143034934998\n",
      "3000/3000 [==============================] - 0s 48us/step\n",
      "Test accuracy:  0.8496666550636292\n"
     ]
    }
   ],
   "source": [
    "results_b1 = modelb.evaluate(x1, y1)\n",
    "print('Train accuracy: ', results_b1[1])\n",
    "results_b2 = modelb.evaluate(x2, y2)\n",
    "print('Test accuracy: ', results_b2[1])"
   ]
  },
  {
   "cell_type": "code",
   "execution_count": 90,
   "metadata": {},
   "outputs": [
    {
     "name": "stdout",
     "output_type": "stream",
     "text": [
      "              precision    recall  f1-score   support\n",
      "\n",
      "         0.0       0.95      0.99      0.97      1487\n",
      "         1.0       0.99      0.95      0.97      1513\n",
      "\n",
      "    accuracy                           0.97      3000\n",
      "   macro avg       0.97      0.97      0.97      3000\n",
      "weighted avg       0.97      0.97      0.97      3000\n",
      "\n",
      "AUC 0.9688492157855413\n"
     ]
    }
   ],
   "source": [
    "y_pred_b = modelb.predict(x2)\n",
    "y_pred_b = (y_pred_b > 0.5)\n",
    "print(classification_report(y2, y_pred_b)) \n",
    "print(\"AUC\",roc_auc_score(y2, y_pred_b))"
   ]
  },
  {
   "cell_type": "code",
   "execution_count": 91,
   "metadata": {},
   "outputs": [
    {
     "data": {
      "image/png": "[encoded data removed]",
      "text/plain": [
       "<Figure size 1080x360 with 2 Axes>"
      ]
     },
     "metadata": {
      "needs_background": "light"
     },
     "output_type": "display_data"
    }
   ],
   "source": [
    "plot_model_history(historyb)"
   ]
  },
  {
   "cell_type": "markdown",
   "metadata": {},
   "source": [
    "# 6. Adam Optimiser"
   ]
  },
  {
   "cell_type": "code",
   "execution_count": 92,
   "metadata": {},
   "outputs": [],
   "source": [
    "def mlp_model_a():\n",
    "    model = Sequential()\n",
    "    \n",
    "    model.add(Dense(50, input_shape = (21, )))\n",
    "    model.add(Activation('selu'))    \n",
    "    model.add(Dense(50))\n",
    "    model.add(Activation('selu'))  \n",
    "    model.add(Dense(50))\n",
    "    model.add(Activation('selu'))    \n",
    "    model.add(Dense(50))\n",
    "    model.add(Activation('selu'))    \n",
    "    model.add(Dense(1))\n",
    "    model.add(Activation('sigmoid'))\n",
    "    \n",
    "    adam = optimizers.Adam(lr = 0.001)                     # use Adam optimizer\n",
    "    model.compile(optimizer = adam, loss = 'binary_crossentropy', metrics = ['accuracy'])\n",
    "    \n",
    "    return model"
   ]
  },
  {
   "cell_type": "code",
   "execution_count": 93,
   "metadata": {},
   "outputs": [],
   "source": [
    "modela = mlp_model_a()\n",
    "historya = modela.fit(x1, y1, validation_split = 0.3, epochs = 100, verbose = 0)"
   ]
  },
  {
   "cell_type": "code",
   "execution_count": 94,
   "metadata": {},
   "outputs": [
    {
     "name": "stdout",
     "output_type": "stream",
     "text": [
      "7000/7000 [==============================] - 0s 15us/step\n",
      "Train accuracy:  0.9947142601013184\n",
      "3000/3000 [==============================] - 0s 15us/step\n",
      "Test accuracy:  0.9856666922569275\n"
     ]
    }
   ],
   "source": [
    "results_a1 = modela.evaluate(x1, y1)\n",
    "print('Train accuracy: ', results_a1[1])\n",
    "results_a2 = modela.evaluate(x2, y2)\n",
    "print('Test accuracy: ', results_a2[1])"
   ]
  },
  {
   "cell_type": "code",
   "execution_count": 95,
   "metadata": {},
   "outputs": [
    {
     "name": "stdout",
     "output_type": "stream",
     "text": [
      "              precision    recall  f1-score   support\n",
      "\n",
      "         0.0       0.98      1.00      0.99      1487\n",
      "         1.0       1.00      0.98      0.99      1513\n",
      "\n",
      "    accuracy                           0.99      3000\n",
      "   macro avg       0.99      0.99      0.99      3000\n",
      "weighted avg       0.99      0.99      0.99      3000\n",
      "\n",
      "AUC 0.9857493740640964\n"
     ]
    }
   ],
   "source": [
    "y_pred_a = modela.predict(x2)\n",
    "y_pred_a = (y_pred_a > 0.5)\n",
    "print(classification_report(y2, y_pred_a)) \n",
    "print(\"AUC\",roc_auc_score(y2, y_pred_a))"
   ]
  },
  {
   "cell_type": "code",
   "execution_count": 96,
   "metadata": {},
   "outputs": [
    {
     "data": {
      "image/png": "[encoded data removed]",
      "text/plain": [
       "<Figure size 1080x360 with 2 Axes>"
      ]
     },
     "metadata": {
      "needs_background": "light"
     },
     "output_type": "display_data"
    }
   ],
   "source": [
    "plot_model_history(historya)"
   ]
  },
  {
   "cell_type": "markdown",
   "metadata": {},
   "source": [
    "# 7. Dropout (Regularization)"
   ]
  },
  {
   "cell_type": "code",
   "execution_count": 99,
   "metadata": {},
   "outputs": [],
   "source": [
    "from keras.layers import Dropout"
   ]
  },
  {
   "cell_type": "code",
   "execution_count": 106,
   "metadata": {},
   "outputs": [],
   "source": [
    "def mlp_model_d(x):\n",
    "    model = Sequential()\n",
    "    \n",
    "    model.add(Dense(50, input_shape = (x, )))\n",
    "    model.add(Activation('selu'))    \n",
    "    model.add(Dropout(0.25))                        # Dropout layer after Activation\n",
    "    model.add(Dense(50))\n",
    "    model.add(Activation('selu'))\n",
    "    model.add(Dropout(0.25))                        # Dropout layer after Activation\n",
    "    model.add(Dense(50))\n",
    "    model.add(Activation('selu'))    \n",
    "    model.add(Dropout(0.25))                        # Dropout layer after Activation\n",
    "    model.add(Dense(50))\n",
    "    model.add(Activation('selu'))    \n",
    "    model.add(Dropout(0.25))                         # Dropout layer after Activation\n",
    "    model.add(Dense(1))\n",
    "    model.add(Activation('sigmoid'))\n",
    "    \n",
    "    sgd = optimizers.SGD(lr = 0.001)\n",
    "    model.compile(optimizer = sgd, loss = 'binary_crossentropy', metrics = ['accuracy'])\n",
    "    \n",
    "    return model"
   ]
  },
  {
   "cell_type": "code",
   "execution_count": 107,
   "metadata": {},
   "outputs": [],
   "source": [
    "modeld = mlp_model_d(21)\n",
    "historyd = modeld.fit(x1, y1, validation_split = 0.3, epochs = 100, verbose = 0)"
   ]
  },
  {
   "cell_type": "code",
   "execution_count": 108,
   "metadata": {},
   "outputs": [
    {
     "name": "stdout",
     "output_type": "stream",
     "text": [
      "7000/7000 [==============================] - 0s 17us/step\n",
      "Train accuracy:  0.9651428461074829\n",
      "3000/3000 [==============================] - 0s 15us/step\n",
      "Test accuracy:  0.9673333168029785\n"
     ]
    }
   ],
   "source": [
    "results_d1 = modeld.evaluate(x1, y1)\n",
    "print('Train accuracy: ', results_d1[1])\n",
    "results_d2 = modeld.evaluate(x2, y2)\n",
    "print('Test accuracy: ', results_d2[1])"
   ]
  },
  {
   "cell_type": "code",
   "execution_count": 109,
   "metadata": {},
   "outputs": [
    {
     "name": "stdout",
     "output_type": "stream",
     "text": [
      "              precision    recall  f1-score   support\n",
      "\n",
      "         0.0       0.95      0.99      0.97      1487\n",
      "         1.0       0.99      0.95      0.97      1513\n",
      "\n",
      "    accuracy                           0.97      3000\n",
      "   macro avg       0.97      0.97      0.97      3000\n",
      "weighted avg       0.97      0.97      0.97      3000\n",
      "\n",
      "AUC 0.9675100040847513\n"
     ]
    }
   ],
   "source": [
    "y_pred_d = modeld.predict(x2)\n",
    "y_pred_d = (y_pred_d > 0.5)\n",
    "print(classification_report(y2, y_pred_d)) \n",
    "print(\"AUC\",roc_auc_score(y2, y_pred_d))"
   ]
  },
  {
   "cell_type": "code",
   "execution_count": 110,
   "metadata": {},
   "outputs": [
    {
     "data": {
      "image/png": "[encoded data removed]",
      "text/plain": [
       "<Figure size 1080x360 with 2 Axes>"
      ]
     },
     "metadata": {
      "needs_background": "light"
     },
     "output_type": "display_data"
    }
   ],
   "source": [
    "plot_model_history(historyd)"
   ]
  },
  {
   "cell_type": "markdown",
   "metadata": {},
   "source": [
    "# 8. Ensemble method (Adam optimiser model)"
   ]
  },
  {
   "cell_type": "code",
   "execution_count": 111,
   "metadata": {},
   "outputs": [],
   "source": [
    "from keras.wrappers.scikit_learn import KerasClassifier\n",
    "from sklearn.ensemble import VotingClassifier"
   ]
  },
  {
   "cell_type": "code",
   "execution_count": 112,
   "metadata": {},
   "outputs": [],
   "source": [
    "model1 = KerasClassifier(build_fn = mlp_model_a, epochs = 100, verbose = 0)\n",
    "model2 = KerasClassifier(build_fn = mlp_model_a, epochs = 100, verbose = 0)\n",
    "model3 = KerasClassifier(build_fn = mlp_model_a, epochs = 100, verbose = 0)\n",
    "model4 = KerasClassifier(build_fn = mlp_model_a, epochs = 100, verbose = 0)\n",
    "model5 = KerasClassifier(build_fn = mlp_model_a, epochs = 100, verbose = 0)\n",
    "model6 = KerasClassifier(build_fn = mlp_model_a, epochs = 100, verbose = 0)\n",
    "model7 = KerasClassifier(build_fn = mlp_model_a, epochs = 100, verbose = 0)\n",
    "model8 = KerasClassifier(build_fn = mlp_model_a, epochs = 100, verbose = 0)"
   ]
  },
  {
   "cell_type": "code",
   "execution_count": 113,
   "metadata": {},
   "outputs": [],
   "source": [
    "ensemble_clf = VotingClassifier(estimators = [('model1', model1), ('model2', model2), ('model3', model3), \n",
    "                                             ('model4', model4), ('model5', model5), ('model6', model6), \n",
    "                                             ('model7', model7), ('model8', model8)], voting = 'soft')"
   ]
  },
  {
   "cell_type": "code",
   "execution_count": 114,
   "metadata": {},
   "outputs": [
    {
     "data": {
      "text/plain": [
       "VotingClassifier(estimators=[('model1',\n",
       "                              <keras.wrappers.scikit_learn.KerasClassifier object at 0x0000023D33FF2B08>),\n",
       "                             ('model2',\n",
       "                              <keras.wrappers.scikit_learn.KerasClassifier object at 0x0000023D2F536D88>),\n",
       "                             ('model3',\n",
       "                              <keras.wrappers.scikit_learn.KerasClassifier object at 0x0000023D2E1BAF48>),\n",
       "                             ('model4',\n",
       "                              <keras.wrappers.scikit_learn.KerasClassifier object at 0x0000023D...\n",
       "                              <keras.wrappers.scikit_learn.KerasClassifier object at 0x0000023D2F3507C8>),\n",
       "                             ('model6',\n",
       "                              <keras.wrappers.scikit_learn.KerasClassifier object at 0x0000023D32A33388>),\n",
       "                             ('model7',\n",
       "                              <keras.wrappers.scikit_learn.KerasClassifier object at 0x0000023D25EB3D88>),\n",
       "                             ('model8',\n",
       "                              <keras.wrappers.scikit_learn.KerasClassifier object at 0x0000023D3511DF48>)],\n",
       "                 flatten_transform=True, n_jobs=None, voting='soft',\n",
       "                 weights=None)"
      ]
     },
     "execution_count": 114,
     "metadata": {},
     "output_type": "execute_result"
    }
   ],
   "source": [
    "ensemble_clf.fit(x1, y1)"
   ]
  },
  {
   "cell_type": "code",
   "execution_count": 116,
   "metadata": {},
   "outputs": [],
   "source": [
    "from sklearn.metrics import accuracy_score"
   ]
  },
  {
   "cell_type": "code",
   "execution_count": 117,
   "metadata": {},
   "outputs": [
    {
     "name": "stdout",
     "output_type": "stream",
     "text": [
      "Train set accuracy: 1.000\n",
      "Test accuracy: 0.993\n"
     ]
    }
   ],
   "source": [
    "\n",
    "y_pred_e = ensemble_clf.predict(x2)\n",
    "train_acc1 = ensemble_clf.score(x1,y1)\n",
    "print(\"Train set accuracy: {:.3f}\".format(train_acc1))\n",
    "print('Test accuracy:', accuracy_score(y_pred_e,y2))"
   ]
  },
  {
   "cell_type": "code",
   "execution_count": 118,
   "metadata": {},
   "outputs": [
    {
     "name": "stdout",
     "output_type": "stream",
     "text": [
      "              precision    recall  f1-score   support\n",
      "\n",
      "         0.0       0.99      0.99      0.99      1487\n",
      "         1.0       0.99      0.99      0.99      1513\n",
      "\n",
      "    accuracy                           0.99      3000\n",
      "   macro avg       0.99      0.99      0.99      3000\n",
      "weighted avg       0.99      0.99      0.99      3000\n",
      "\n",
      "AUC 0.9929965850768346\n"
     ]
    }
   ],
   "source": [
    "y_pred_e = (y_pred_e > 0.5)\n",
    "print(classification_report(y2, y_pred_e)) \n",
    "print(\"AUC\",roc_auc_score(y2, y_pred_e))"
   ]
  },
  {
   "cell_type": "markdown",
   "metadata": {},
   "source": [
    "# 9. Ensemble method ( Batch Normalization model)"
   ]
  },
  {
   "cell_type": "code",
   "execution_count": 119,
   "metadata": {},
   "outputs": [],
   "source": [
    "model11 = KerasClassifier(build_fn = mlp_model_b, epochs = 50, verbose = 0)\n",
    "model21 = KerasClassifier(build_fn = mlp_model_b, epochs = 50, verbose = 0)\n",
    "model31 = KerasClassifier(build_fn = mlp_model_b, epochs = 50, verbose = 0)\n",
    "model41 = KerasClassifier(build_fn = mlp_model_b, epochs = 50, verbose = 0)\n",
    "model51 = KerasClassifier(build_fn = mlp_model_b, epochs = 50, verbose = 0)\n",
    "model61 = KerasClassifier(build_fn = mlp_model_b, epochs = 50, verbose = 0)\n",
    "model71 = KerasClassifier(build_fn = mlp_model_b, epochs = 50, verbose = 0)\n",
    "model81 = KerasClassifier(build_fn = mlp_model_b, epochs = 50, verbose = 0)"
   ]
  },
  {
   "cell_type": "code",
   "execution_count": 120,
   "metadata": {},
   "outputs": [],
   "source": [
    "ensemble_clf1 = VotingClassifier(estimators = [('model11', model11), ('model21', model21), ('model31', model31),\n",
    "                                              ('model41', model41),('model51', model51), ('model61', model61),\n",
    "                                        ('model71', model71),('model81', model81)], voting = 'soft')"
   ]
  },
  {
   "cell_type": "code",
   "execution_count": 121,
   "metadata": {},
   "outputs": [
    {
     "data": {
      "text/plain": [
       "VotingClassifier(estimators=[('model11',\n",
       "                              <keras.wrappers.scikit_learn.KerasClassifier object at 0x0000023D3E775CC8>),\n",
       "                             ('model21',\n",
       "                              <keras.wrappers.scikit_learn.KerasClassifier object at 0x0000023D3E775C88>),\n",
       "                             ('model31',\n",
       "                              <keras.wrappers.scikit_learn.KerasClassifier object at 0x0000023D3E76FE88>),\n",
       "                             ('model41',\n",
       "                              <keras.wrappers.scikit_learn.KerasClassifier object at 0x0000...\n",
       "                              <keras.wrappers.scikit_learn.KerasClassifier object at 0x0000023D3E775E08>),\n",
       "                             ('model61',\n",
       "                              <keras.wrappers.scikit_learn.KerasClassifier object at 0x0000023D3E775E48>),\n",
       "                             ('model71',\n",
       "                              <keras.wrappers.scikit_learn.KerasClassifier object at 0x0000023D3E775E88>),\n",
       "                             ('model81',\n",
       "                              <keras.wrappers.scikit_learn.KerasClassifier object at 0x0000023D3E775EC8>)],\n",
       "                 flatten_transform=True, n_jobs=None, voting='soft',\n",
       "                 weights=None)"
      ]
     },
     "execution_count": 121,
     "metadata": {},
     "output_type": "execute_result"
    }
   ],
   "source": [
    "ensemble_clf1.fit(x1, y1)"
   ]
  },
  {
   "cell_type": "code",
   "execution_count": 122,
   "metadata": {},
   "outputs": [
    {
     "name": "stdout",
     "output_type": "stream",
     "text": [
      "Train set accuracy: 0.979\n",
      "Test accuracy: 0.971\n"
     ]
    }
   ],
   "source": [
    "y_pred_e1 = ensemble_clf1.predict(x2)\n",
    "train_acc11 = ensemble_clf1.score(x1,y1)\n",
    "print(\"Train set accuracy: {:.3f}\".format(train_acc11))\n",
    "print('Test accuracy:', accuracy_score(y_pred_e1,y2))"
   ]
  },
  {
   "cell_type": "code",
   "execution_count": 123,
   "metadata": {
    "scrolled": true
   },
   "outputs": [
    {
     "name": "stdout",
     "output_type": "stream",
     "text": [
      "              precision    recall  f1-score   support\n",
      "\n",
      "         0.0       0.95      0.99      0.97      1487\n",
      "         1.0       0.99      0.95      0.97      1513\n",
      "\n",
      "    accuracy                           0.97      3000\n",
      "   macro avg       0.97      0.97      0.97      3000\n",
      "weighted avg       0.97      0.97      0.97      3000\n",
      "\n",
      "AUC 0.9711913917089772\n"
     ]
    }
   ],
   "source": [
    "y_pred_e1 = (y_pred_e1 > 0.5)\n",
    "print(classification_report(y2, y_pred_e1)) \n",
    "print(\"AUC\",roc_auc_score(y2, y_pred_e1))"
   ]
  },
  {
   "cell_type": "markdown",
   "metadata": {},
   "source": [
    "# KNN"
   ]
  },
  {
   "cell_type": "code",
   "execution_count": 124,
   "metadata": {},
   "outputs": [],
   "source": [
    "from sklearn.neighbors import KNeighborsClassifier\n",
    "from sklearn import metrics\n",
    "from sklearn.model_selection import cross_val_score"
   ]
  },
  {
   "cell_type": "markdown",
   "metadata": {},
   "source": [
    "# 10. Random value for k"
   ]
  },
  {
   "cell_type": "code",
   "execution_count": 127,
   "metadata": {},
   "outputs": [
    {
     "name": "stdout",
     "output_type": "stream",
     "text": [
      "Train set accuracy: 0.893\n"
     ]
    },
    {
     "data": {
      "text/plain": [
       "0.8163333333333334"
      ]
     },
     "execution_count": 127,
     "metadata": {},
     "output_type": "execute_result"
    }
   ],
   "source": [
    "knn1 = KNeighborsClassifier(n_neighbors=5)\n",
    "knn1.fit(x1, y1)\n",
    "train_acck1 = knn1.score(x1,y1)\n",
    "print(\"Train set accuracy: {:.3f}\".format(train_acck1))\n",
    "y_pred_k1 = knn1.predict(x2)\n",
    "metrics.accuracy_score(y2, y_pred_k1)"
   ]
  },
  {
   "cell_type": "code",
   "execution_count": 130,
   "metadata": {},
   "outputs": [
    {
     "name": "stdout",
     "output_type": "stream",
     "text": [
      "Test accuracy: 0.8163333333333334\n",
      "              precision    recall  f1-score   support\n",
      "\n",
      "         0.0       0.79      0.86      0.82      1487\n",
      "         1.0       0.85      0.78      0.81      1513\n",
      "\n",
      "    accuracy                           0.82      3000\n",
      "   macro avg       0.82      0.82      0.82      3000\n",
      "weighted avg       0.82      0.82      0.82      3000\n",
      "\n",
      "AUC 0.8166748969144794\n"
     ]
    }
   ],
   "source": [
    "y_pred_k1 = (y_pred_k1 > 0.5)\n",
    "print('Test accuracy:', accuracy_score(y_pred_k1,y2))\n",
    "print(classification_report(y2, y_pred_k1)) \n",
    "print(\"AUC\",roc_auc_score(y2, y_pred_k1))"
   ]
  },
  {
   "cell_type": "markdown",
   "metadata": {},
   "source": [
    "# 11. Finding the optimal value for \"K\""
   ]
  },
  {
   "cell_type": "code",
   "execution_count": 132,
   "metadata": {},
   "outputs": [
    {
     "name": "stdout",
     "output_type": "stream",
     "text": [
      "[0.8105636950279491, 0.791000593878763, 0.8147132953332559, 0.8108494098967549, 0.8322816985340786, 0.8155667664627888, 0.8298553670517694, 0.8209973897905914, 0.8319951673370761, 0.8201365717072893, 0.8325661889105896, 0.8238557629709449, 0.8312810842471109, 0.8232822924128417, 0.8291335288439365, 0.8205649399284489, 0.8282731189247325, 0.8175635052316433, 0.8259914816152687, 0.8181349349692552, 0.8279882203841232, 0.82413209006549, 0.8312749617856363, 0.8258480119347181, 0.8302755719909631, 0.8255594399172242, 0.8337017014320438, 0.8277029136794155, 0.8365661970738716, 0.8308518996977545]\n"
     ]
    }
   ],
   "source": [
    "# search for an optimal value of K for KNN\n",
    "\n",
    "# range of k we want to try\n",
    "neighbors = list(range(1, 31))\n",
    "# empty list to store scores\n",
    "k_scores = []\n",
    "\n",
    "# 1. we will loop through reasonable values of k\n",
    "for k in neighbors:\n",
    "    # 2. run KNeighborsClassifier with k neighbours\n",
    "    knn = KNeighborsClassifier(n_neighbors=k)\n",
    "    # 3. obtain cross_val_score for KNeighborsClassifier with k neighbours\n",
    "    scores = cross_val_score(knn, x1, y1, cv=10, scoring='accuracy')\n",
    "    # 4. append mean of scores for k neighbors to k_scores list\n",
    "    k_scores.append(scores.mean())\n",
    "\n",
    "print(k_scores)"
   ]
  },
  {
   "cell_type": "code",
   "execution_count": 134,
   "metadata": {},
   "outputs": [
    {
     "name": "stdout",
     "output_type": "stream",
     "text": [
      "Length of list 30\n",
      "Max of list 0.8365661970738716\n"
     ]
    }
   ],
   "source": [
    "print('Length of list', len(k_scores))\n",
    "print('Max of list', max(k_scores))"
   ]
  },
  {
   "cell_type": "code",
   "execution_count": 136,
   "metadata": {},
   "outputs": [
    {
     "data": {
      "text/plain": [
       "Text(0, 0.5, 'Cross-validated accuracy')"
      ]
     },
     "execution_count": 136,
     "metadata": {},
     "output_type": "execute_result"
    },
    {
     "data": {
      "image/png": "[encoded data removed]",
      "text/plain": [
       "<Figure size 432x288 with 1 Axes>"
      ]
     },
     "metadata": {
      "needs_background": "light"
     },
     "output_type": "display_data"
    }
   ],
   "source": [
    "plt.plot(neighbors, k_scores)\n",
    "plt.xlabel('Value of K for KNN')\n",
    "plt.ylabel('Cross-validated accuracy')"
   ]
  },
  {
   "cell_type": "code",
   "execution_count": 139,
   "metadata": {},
   "outputs": [
    {
     "name": "stdout",
     "output_type": "stream",
     "text": [
      "0.8279882203841232\n"
     ]
    }
   ],
   "source": [
    "knn2 = KNeighborsClassifier(n_neighbors=21)\n",
    "\n",
    "# Instead of saving 10 scores in object named score and calculating mean\n",
    "# We're just calculating the mean directly on the results\n",
    "print(cross_val_score(knn2, x1, y1, cv=10, scoring='accuracy').mean())"
   ]
  },
  {
   "cell_type": "code",
   "execution_count": 141,
   "metadata": {},
   "outputs": [
    {
     "name": "stdout",
     "output_type": "stream",
     "text": [
      "Train set accuracy: 0.852\n",
      "Test accuracy: 0.8353333333333334\n",
      "              precision    recall  f1-score   support\n",
      "\n",
      "         0.0       0.78      0.92      0.85      1487\n",
      "         1.0       0.91      0.75      0.82      1513\n",
      "\n",
      "    accuracy                           0.84      3000\n",
      "   macro avg       0.85      0.84      0.83      3000\n",
      "weighted avg       0.85      0.84      0.83      3000\n",
      "\n",
      "AUC 0.8361010226990383\n"
     ]
    }
   ],
   "source": [
    "knn2.fit(x1, y1)\n",
    "train_acck2 = knn2.score(x1,y1)\n",
    "print(\"Train set accuracy: {:.3f}\".format(train_acck2))\n",
    "y_pred_k11 = knn2.predict(x2)\n",
    "y_pred_k11 = (y_pred_k11 > 0.5)\n",
    "print('Test accuracy:', accuracy_score(y_pred_k11,y2))\n",
    "print(classification_report(y2, y_pred_k11)) \n",
    "print(\"AUC\",roc_auc_score(y2, y_pred_k11))"
   ]
  },
  {
   "cell_type": "code",
   "execution_count": 143,
   "metadata": {},
   "outputs": [
    {
     "name": "stdout",
     "output_type": "stream",
     "text": [
      "The optimal number of neighbors is 29\n"
     ]
    },
    {
     "data": {
      "image/png": "[encoded data removed]",
      "text/plain": [
       "<Figure size 432x288 with 1 Axes>"
      ]
     },
     "metadata": {
      "needs_background": "light"
     },
     "output_type": "display_data"
    }
   ],
   "source": [
    "# changing to misclassification error\n",
    "mse = [1 - x for x in k_scores]\n",
    "\n",
    "# determining best k\n",
    "optimal_k = neighbors[mse.index(min(mse))]\n",
    "print(\"The optimal number of neighbors is {}\".format(optimal_k))\n",
    "\n",
    "# plot misclassification error vs k\n",
    "plt.plot(neighbors, mse)\n",
    "plt.xlabel(\"Number of Neighbors K\")\n",
    "plt.ylabel(\"Misclassification Error\")\n",
    "plt.show()\n"
   ]
  },
  {
   "cell_type": "code",
   "execution_count": 144,
   "metadata": {},
   "outputs": [
    {
     "data": {
      "image/png": "[encoded data removed]",
      "text/plain": [
       "<Figure size 432x288 with 1 Axes>"
      ]
     },
     "metadata": {
      "needs_background": "light"
     },
     "output_type": "display_data"
    }
   ],
   "source": [
    "from sklearn.metrics import roc_curve, auc\n",
    "neighbors = list(range(1,31))\n",
    "train_results = []\n",
    "test_results = []\n",
    "for n in neighbors:\n",
    "    model = KNeighborsClassifier(n_neighbors=n)\n",
    "    model.fit(x1, y1)  \n",
    "    train_pred = model.predict(x1)   \n",
    "    false_positive_rate, true_positive_rate, thresholds = roc_curve(y1, train_pred)\n",
    "    roc_auc = auc(false_positive_rate, true_positive_rate)\n",
    "    train_results.append(roc_auc)   \n",
    "    y_pred = model.predict(x2)   \n",
    "    false_positive_rate, true_positive_rate, thresholds = roc_curve(y2, y_pred)\n",
    "    roc_auc = auc(false_positive_rate, true_positive_rate)\n",
    "    test_results.append(roc_auc)\n",
    "from matplotlib.legend_handler import HandlerLine2D\n",
    "line1, = plt.plot(neighbors, train_results,'b', label=\"Train AUC\")\n",
    "line2, = plt.plot(neighbors, test_results, 'r',label=\"Test AUC\")\n",
    "plt.legend(handler_map={line1: HandlerLine2D(numpoints=2)})\n",
    "plt.ylabel('AUC score')\n",
    "plt.xlabel('n_neighbors')\n",
    "plt.show()"
   ]
  },
  {
   "cell_type": "markdown",
   "metadata": {},
   "source": [
    "# 12. Changing the distance"
   ]
  },
  {
   "cell_type": "code",
   "execution_count": 145,
   "metadata": {},
   "outputs": [
    {
     "data": {
      "image/png": "[encoded data removed]",
      "text/plain": [
       "<Figure size 432x288 with 1 Axes>"
      ]
     },
     "metadata": {
      "needs_background": "light"
     },
     "output_type": "display_data"
    }
   ],
   "source": [
    "distances = [1, 2, 3, 4, 5]\n",
    "train_results = []\n",
    "test_results = []\n",
    "for p in distances:\n",
    "    model = KNeighborsClassifier(p=p)\n",
    "    model.fit(x1, y1)  \n",
    "    train_pred = model.predict(x1)   \n",
    "    false_positive_rate, true_positive_rate, thresholds = roc_curve(y1, train_pred)\n",
    "    roc_auc = auc(false_positive_rate, true_positive_rate)\n",
    "    train_results.append(roc_auc)   \n",
    "    y_pred = model.predict(x2)   \n",
    "    false_positive_rate, true_positive_rate, thresholds = roc_curve(y2, y_pred)\n",
    "    roc_auc = auc(false_positive_rate, true_positive_rate)\n",
    "    test_results.append(roc_auc)\n",
    "from matplotlib.legend_handler import HandlerLine2D\n",
    "line1, = plt.plot(distances, train_results,'b', label=\"Train AUC\")\n",
    "line2, = plt.plot(distances, test_results, 'r',label=\"Test AUC\")\n",
    "plt.legend(handler_map={line1: HandlerLine2D(numpoints=2)})\n",
    "plt.ylabel('AUC score')\n",
    "plt.xlabel('P')\n",
    "plt.show()"
   ]
  },
  {
   "cell_type": "markdown",
   "metadata": {},
   "source": [
    "# 13 .changing the Weights"
   ]
  },
  {
   "cell_type": "code",
   "execution_count": 149,
   "metadata": {},
   "outputs": [],
   "source": [
    "k_range = list(range(1, 31))\n",
    "\n",
    "# Another parameter besides k that we might vary is the weights parameters\n",
    "# default options --> uniform (all points in the neighborhood are weighted equally)\n",
    "# another option --> distance (weights closer neighbors more heavily than further neighbors)\n",
    "weight_options = [ 'distance']"
   ]
  },
  {
   "cell_type": "code",
   "execution_count": 150,
   "metadata": {},
   "outputs": [],
   "source": [
    "param_grid = dict(n_neighbors=k_range, weights=weight_options)"
   ]
  },
  {
   "cell_type": "code",
   "execution_count": 151,
   "metadata": {},
   "outputs": [
    {
     "data": {
      "text/plain": [
       "GridSearchCV(cv=3, error_score='raise-deprecating',\n",
       "             estimator=KNeighborsClassifier(algorithm='auto', leaf_size=30,\n",
       "                                            metric='minkowski',\n",
       "                                            metric_params=None, n_jobs=None,\n",
       "                                            n_neighbors=30, p=2,\n",
       "                                            weights='uniform'),\n",
       "             iid='warn', n_jobs=None,\n",
       "             param_grid={'n_neighbors': [1, 2, 3, 4, 5, 6, 7, 8, 9, 10, 11, 12,\n",
       "                                         13, 14, 15, 16, 17, 18, 19, 20, 21, 22,\n",
       "                                         23, 24, 25, 26, 27, 28, 29, 30],\n",
       "                         'weights': ['distance']},\n",
       "             pre_dispatch='2*n_jobs', refit=True, return_train_score=False,\n",
       "             scoring='accuracy', verbose=0)"
      ]
     },
     "execution_count": 151,
     "metadata": {},
     "output_type": "execute_result"
    }
   ],
   "source": [
    "grid = GridSearchCV(knn, param_grid, cv=3, scoring='accuracy')\n",
    "grid.fit(x1, y1)"
   ]
  },
  {
   "cell_type": "code",
   "execution_count": 152,
   "metadata": {},
   "outputs": [
    {
     "name": "stdout",
     "output_type": "stream",
     "text": [
      "0.8434285714285714\n",
      "{'n_neighbors': 30, 'weights': 'distance'}\n"
     ]
    }
   ],
   "source": [
    "# examine the best model\n",
    "print(grid.best_score_)\n",
    "print(grid.best_params_)"
   ]
  },
  {
   "cell_type": "code",
   "execution_count": 153,
   "metadata": {
    "scrolled": true
   },
   "outputs": [
    {
     "name": "stdout",
     "output_type": "stream",
     "text": [
      "Train set accuracy: 1.000\n",
      "Test accuracy: 0.837\n",
      "              precision    recall  f1-score   support\n",
      "\n",
      "         0.0       0.79      0.91      0.85      1487\n",
      "         1.0       0.89      0.77      0.83      1513\n",
      "\n",
      "    accuracy                           0.84      3000\n",
      "   macro avg       0.84      0.84      0.84      3000\n",
      "weighted avg       0.84      0.84      0.84      3000\n",
      "\n",
      "AUC 0.8376089137361873\n"
     ]
    }
   ],
   "source": [
    "# instantiate model with best parameters\n",
    "knn3 = KNeighborsClassifier(n_neighbors=16, weights='distance')\n",
    "\n",
    "# fit with X and y, not X_train and y_train\n",
    "# even if we use train/test split, we should train on X and y before making predictions on new data\n",
    "# otherwise we throw away potential valuable data we can learn from\n",
    "knn3.fit(x1, y1)\n",
    "train_acck3 = knn3.score(x1,y1)\n",
    "print(\"Train set accuracy: {:.3f}\".format(train_acck3))\n",
    "y_pred_k111 = knn3.predict(x2)\n",
    "y_pred_k111 = (y_pred_k111 > 0.5)\n",
    "print('Test accuracy:', accuracy_score(y_pred_k111,y2))\n",
    "print(classification_report(y2, y_pred_k111)) \n",
    "print(\"AUC\",roc_auc_score(y2, y_pred_k111))"
   ]
  }
 ],
 "metadata": {
  "kernelspec": {
   "display_name": "Python 3",
   "language": "python",
   "name": "python3"
  },
  "language_info": {
   "codemirror_mode": {
    "name": "ipython",
    "version": 3
   },
   "file_extension": ".py",
   "mimetype": "text/x-python",
   "name": "python",
   "nbconvert_exporter": "python",
   "pygments_lexer": "ipython3",
   "version": "3.7.4"
  }
 },
 "nbformat": 4,
 "nbformat_minor": 2
}
